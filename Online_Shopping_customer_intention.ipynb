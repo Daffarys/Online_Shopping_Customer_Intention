{
 "cells": [
  {
   "cell_type": "markdown",
   "metadata": {},
   "source": [
    "# Introduction\n",
    "\n",
    "\n",
    "Nama: Muhammad Daffa Al Rasyid\n"
   ]
  },
  {
   "cell_type": "markdown",
   "metadata": {},
   "source": [
    "# Background\n",
    "\n",
    "Perusahaan H8 merupakan perusahaan yang berada dalam industri fashion dan menjual berbagai pakaian serta aksesoris lainnya. Perushaan mereka juga berbasis di daerah Jakarta dan menjual produk mereka hanya secara online. Dengan mendekatinya tahun baru, mereka ingin melakukan evaluasi apa yang perlu ditingkatkan dari website mereka dan lebih mengetahui ciri-ciri pengunjung yang akhirnya melakukan pembelian di website mereka, maka dari itu perusahaan H8 mengumpulkan data terkait jumlah pengunjung yang mengunjungi website mereka, serta mana dari pengunjung itu yang melakukan pembelian tetapi karena keterbasan data dan sumber daya hanya data dari 10 bulan terakhir yang berhasil terkumpul dimana ada beberapa bulan yang tidak terkumpul datanya, maka dari itu pihak H8 ingin membuat model machine learning utnuk bisa memprediksi sifat-sifat apa yang ditunjukan oleh pengunjung website mereka yang pada akhirnya akan melakukan pembelian di website mereka.\n",
    "\n",
    "\n",
    "# Data\n",
    "\n",
    "Data: online_shoppers_intention.csv\n",
    "\n",
    "Description: Data yang digunakan dalam proses ini adalah data tentang jumlah pengunjung website selama 10 bulan dimana dataframe juga menampilkan berbagai ciri-ciri serta durasi mereka di website untuk pengunjung yang membeli dan pengunjung yang tidak membeli\n",
    "\n",
    "Berikut merupakan penjelasan singkat tentang column-column yang akan digunakan di proses ini:\n",
    "| Variable     | Description                                                |\n",
    "|--------------|------------------------------------------------------------|\n",
    "| Administrative           | Ini adalah jumlah halaman jenis ini (administratif) yang dikunjungi pengguna.            |\n",
    "| Administrative_Duration     | Ini adalah jumlah waktu yang dihabiskan dalam kategori halaman ini|\n",
    "| Informational      |Ini adalah jumlah halaman jenis ini (informasi) yang dikunjungi pengguna.  |\n",
    "| Informational_Duration   | Ini adalah jumlah waktu yang dihabiskan dalam kategori halaman ini|\n",
    "|ProductRelated | Ini adalah jumlah halaman jenis ini (produk terkait) yang dikunjungi pengguna.|\n",
    "| ProductRelated_Duration   |  Ini adalah jumlah waktu yang dihabiskan dalam kategori halaman ini|\n",
    "| BounceRates     | Persentase pengunjung yang masuk ke situs web melalui halaman tersebut dan keluar tanpa memicu tugas tambahan apa pun.|\n",
    "|ExitRates| Persentase tampilan halaman di situs web yang berakhir pada halaman tertentu.|\n",
    "|PageValues| Nilai rata-rata halaman yang dirata-ratakan dari nilai halaman target dan/atau penyelesaian transaksi eCommerce. Informasi lebih lanjut tentang cara penghitungannya|\n",
    "| SpecialDay           |Nilai ini menunjukkan kedekatan tanggal penelusuran dengan hari atau hari libur khusus (misalnya Hari Ibu atau Hari Valentine) di mana transaksi lebih mungkin diselesaikan. Informasi lebih lanjut tentang bagaimana nilai ini dihitung di bawah ini.|\n",
    "| Month      | Berisi bulan terjadinya pembacaan halaman, dalam bentuk string|\n",
    "| OperatingSystems      |Nilai integer yang mewakili sistem operasi yang digunakan pengguna saat melihat halaman.|\n",
    "| Browser | Nilai integer yang mewakili browser yang digunakan pengguna untuk melihat halaman.|\n",
    "| Region   | Nilai integer yang mewakili di wilayah mana pengguna berada.|\n",
    "| TrafficType  |  Nilai bilangan bulat yang mewakili jenis lalu lintas yang dikategorikan sebagai pengguna. Baca lebih lanjut tentang jenis lalu lintas di sini.|\n",
    "| VisitorType      |String yang merepresentasikan apakah pengunjung adalah Pengunjung Baru, Pengunjung Kembali, atau Lainnya.|\n",
    "| Weekend      | Boolean yang menunjukkan apakah sesi sedang berlangsung di akhir pekan|\n",
    "| Revenue       | Boolean yang merepresentasikan apakah pengguna menyelesaikan pembelian atau tidak.|\n",
    "\n",
    "Informasi lebih lanjut terkait Page Values: https://support.google.com/analytics/answer/2695658?hl=en\n",
    "\n",
    "Informasi lebih lanjut terkait TrafficType: https://www.practicalecommerce.com/Understanding-Traffic-Sources-in-Google-Analytics\n",
    "\n",
    "Informasi lebih lanjut terkait Region: (1: Jabodetabek, 2: Jawa Barat, 3: Jawa Tengah, 4:Jawa Timur, 5:Bali,NTB,NTT, 6: Sumatera Selatan, Lampung, Bengkulu, Bangka Belitung, 7: Sumatera Utara, Aceh, Sumatera Barat, Kepulauan Riau, 8: Kalimantan, 9: Sulawesi)\n",
    "\n",
    "\n",
    "\n",
    "\n",
    "Objective: Mampu memprediksi secara akurat perilaku pengunjung apakah pengunjung akan melakukan pembelian atau tidak di website dari data-data yang ada"
   ]
  },
  {
   "cell_type": "markdown",
   "metadata": {},
   "source": [
    "# Import Libraries"
   ]
  },
  {
   "cell_type": "code",
   "execution_count": 1,
   "metadata": {},
   "outputs": [],
   "source": [
    "import pandas as pd\n",
    "import numpy as np\n",
    "import matplotlib.pyplot as plt\n",
    "import seaborn as sns\n",
    "# train_test_split\n",
    "from sklearn.model_selection import train_test_split\n",
    "# minmaxscaler\n",
    "from sklearn.preprocessing import MinMaxScaler\n",
    "# Ordinal Encoder\n",
    "from sklearn.preprocessing import OneHotEncoder\n",
    "# Smotenc\n",
    "from imblearn.over_sampling import SMOTENC\n",
    "# pipeline\n",
    "from sklearn.pipeline import Pipeline\n",
    "from sklearn.compose import ColumnTransformer\n",
    "# PCA\n",
    "from sklearn.decomposition import PCA\n",
    "# classification model\n",
    "from sklearn.linear_model import LogisticRegression\n",
    "from sklearn.svm import SVC\n",
    "from sklearn.tree import DecisionTreeClassifier\n",
    "from sklearn.ensemble import RandomForestClassifier\n",
    "from sklearn.neighbors import KNeighborsClassifier\n",
    "from sklearn.ensemble import AdaBoostClassifier\n",
    "# classification evaluation\n",
    "from sklearn.metrics import classification_report\n",
    "from sklearn.metrics import accuracy_score\n",
    "from sklearn.model_selection import cross_val_score"
   ]
  },
  {
   "cell_type": "markdown",
   "metadata": {},
   "source": [
    "# Data Loading"
   ]
  },
  {
   "cell_type": "code",
   "execution_count": 2,
   "metadata": {},
   "outputs": [
    {
     "data": {
      "text/html": [
       "<div>\n",
       "<style scoped>\n",
       "    .dataframe tbody tr th:only-of-type {\n",
       "        vertical-align: middle;\n",
       "    }\n",
       "\n",
       "    .dataframe tbody tr th {\n",
       "        vertical-align: top;\n",
       "    }\n",
       "\n",
       "    .dataframe thead th {\n",
       "        text-align: right;\n",
       "    }\n",
       "</style>\n",
       "<table border=\"1\" class=\"dataframe\">\n",
       "  <thead>\n",
       "    <tr style=\"text-align: right;\">\n",
       "      <th></th>\n",
       "      <th>Administrative</th>\n",
       "      <th>Administrative_Duration</th>\n",
       "      <th>Informational</th>\n",
       "      <th>Informational_Duration</th>\n",
       "      <th>ProductRelated</th>\n",
       "      <th>ProductRelated_Duration</th>\n",
       "      <th>BounceRates</th>\n",
       "      <th>ExitRates</th>\n",
       "      <th>PageValues</th>\n",
       "      <th>SpecialDay</th>\n",
       "      <th>Month</th>\n",
       "      <th>OperatingSystems</th>\n",
       "      <th>Browser</th>\n",
       "      <th>Region</th>\n",
       "      <th>TrafficType</th>\n",
       "      <th>VisitorType</th>\n",
       "      <th>Weekend</th>\n",
       "      <th>Revenue</th>\n",
       "    </tr>\n",
       "  </thead>\n",
       "  <tbody>\n",
       "    <tr>\n",
       "      <th>0</th>\n",
       "      <td>0</td>\n",
       "      <td>0.0</td>\n",
       "      <td>0</td>\n",
       "      <td>0.0</td>\n",
       "      <td>1</td>\n",
       "      <td>0.000000</td>\n",
       "      <td>0.20</td>\n",
       "      <td>0.20</td>\n",
       "      <td>0.0</td>\n",
       "      <td>0.0</td>\n",
       "      <td>Feb</td>\n",
       "      <td>1</td>\n",
       "      <td>1</td>\n",
       "      <td>1</td>\n",
       "      <td>1</td>\n",
       "      <td>Returning_Visitor</td>\n",
       "      <td>False</td>\n",
       "      <td>False</td>\n",
       "    </tr>\n",
       "    <tr>\n",
       "      <th>1</th>\n",
       "      <td>0</td>\n",
       "      <td>0.0</td>\n",
       "      <td>0</td>\n",
       "      <td>0.0</td>\n",
       "      <td>2</td>\n",
       "      <td>64.000000</td>\n",
       "      <td>0.00</td>\n",
       "      <td>0.10</td>\n",
       "      <td>0.0</td>\n",
       "      <td>0.0</td>\n",
       "      <td>Feb</td>\n",
       "      <td>2</td>\n",
       "      <td>2</td>\n",
       "      <td>1</td>\n",
       "      <td>2</td>\n",
       "      <td>Returning_Visitor</td>\n",
       "      <td>False</td>\n",
       "      <td>False</td>\n",
       "    </tr>\n",
       "    <tr>\n",
       "      <th>2</th>\n",
       "      <td>0</td>\n",
       "      <td>0.0</td>\n",
       "      <td>0</td>\n",
       "      <td>0.0</td>\n",
       "      <td>1</td>\n",
       "      <td>0.000000</td>\n",
       "      <td>0.20</td>\n",
       "      <td>0.20</td>\n",
       "      <td>0.0</td>\n",
       "      <td>0.0</td>\n",
       "      <td>Feb</td>\n",
       "      <td>4</td>\n",
       "      <td>1</td>\n",
       "      <td>9</td>\n",
       "      <td>3</td>\n",
       "      <td>Returning_Visitor</td>\n",
       "      <td>False</td>\n",
       "      <td>False</td>\n",
       "    </tr>\n",
       "    <tr>\n",
       "      <th>3</th>\n",
       "      <td>0</td>\n",
       "      <td>0.0</td>\n",
       "      <td>0</td>\n",
       "      <td>0.0</td>\n",
       "      <td>2</td>\n",
       "      <td>2.666667</td>\n",
       "      <td>0.05</td>\n",
       "      <td>0.14</td>\n",
       "      <td>0.0</td>\n",
       "      <td>0.0</td>\n",
       "      <td>Feb</td>\n",
       "      <td>3</td>\n",
       "      <td>2</td>\n",
       "      <td>2</td>\n",
       "      <td>4</td>\n",
       "      <td>Returning_Visitor</td>\n",
       "      <td>False</td>\n",
       "      <td>False</td>\n",
       "    </tr>\n",
       "    <tr>\n",
       "      <th>4</th>\n",
       "      <td>0</td>\n",
       "      <td>0.0</td>\n",
       "      <td>0</td>\n",
       "      <td>0.0</td>\n",
       "      <td>10</td>\n",
       "      <td>627.500000</td>\n",
       "      <td>0.02</td>\n",
       "      <td>0.05</td>\n",
       "      <td>0.0</td>\n",
       "      <td>0.0</td>\n",
       "      <td>Feb</td>\n",
       "      <td>3</td>\n",
       "      <td>3</td>\n",
       "      <td>1</td>\n",
       "      <td>4</td>\n",
       "      <td>Returning_Visitor</td>\n",
       "      <td>True</td>\n",
       "      <td>False</td>\n",
       "    </tr>\n",
       "  </tbody>\n",
       "</table>\n",
       "</div>"
      ],
      "text/plain": [
       "   Administrative  Administrative_Duration  Informational  \\\n",
       "0               0                      0.0              0   \n",
       "1               0                      0.0              0   \n",
       "2               0                      0.0              0   \n",
       "3               0                      0.0              0   \n",
       "4               0                      0.0              0   \n",
       "\n",
       "   Informational_Duration  ProductRelated  ProductRelated_Duration  \\\n",
       "0                     0.0               1                 0.000000   \n",
       "1                     0.0               2                64.000000   \n",
       "2                     0.0               1                 0.000000   \n",
       "3                     0.0               2                 2.666667   \n",
       "4                     0.0              10               627.500000   \n",
       "\n",
       "   BounceRates  ExitRates  PageValues  SpecialDay Month  OperatingSystems  \\\n",
       "0         0.20       0.20         0.0         0.0   Feb                 1   \n",
       "1         0.00       0.10         0.0         0.0   Feb                 2   \n",
       "2         0.20       0.20         0.0         0.0   Feb                 4   \n",
       "3         0.05       0.14         0.0         0.0   Feb                 3   \n",
       "4         0.02       0.05         0.0         0.0   Feb                 3   \n",
       "\n",
       "   Browser  Region  TrafficType        VisitorType  Weekend  Revenue  \n",
       "0        1       1            1  Returning_Visitor    False    False  \n",
       "1        2       1            2  Returning_Visitor    False    False  \n",
       "2        1       9            3  Returning_Visitor    False    False  \n",
       "3        2       2            4  Returning_Visitor    False    False  \n",
       "4        3       1            4  Returning_Visitor     True    False  "
      ]
     },
     "execution_count": 2,
     "metadata": {},
     "output_type": "execute_result"
    }
   ],
   "source": [
    "# Mengimport Data\n",
    "df_ori = pd.read_csv('online_shoppers_intention.csv')\n",
    "df = df_ori.copy()\n",
    "df.head()"
   ]
  },
  {
   "cell_type": "code",
   "execution_count": 4,
   "metadata": {},
   "outputs": [
    {
     "name": "stdout",
     "output_type": "stream",
     "text": [
      "<class 'pandas.core.frame.DataFrame'>\n",
      "RangeIndex: 12330 entries, 0 to 12329\n",
      "Data columns (total 18 columns):\n",
      " #   Column                   Non-Null Count  Dtype  \n",
      "---  ------                   --------------  -----  \n",
      " 0   Administrative           12330 non-null  int64  \n",
      " 1   Administrative_Duration  12330 non-null  float64\n",
      " 2   Informational            12330 non-null  int64  \n",
      " 3   Informational_Duration   12330 non-null  float64\n",
      " 4   ProductRelated           12330 non-null  int64  \n",
      " 5   ProductRelated_Duration  12330 non-null  float64\n",
      " 6   BounceRates              12330 non-null  float64\n",
      " 7   ExitRates                12330 non-null  float64\n",
      " 8   PageValues               12330 non-null  float64\n",
      " 9   SpecialDay               12330 non-null  float64\n",
      " 10  Month                    12330 non-null  object \n",
      " 11  OperatingSystems         12330 non-null  int64  \n",
      " 12  Browser                  12330 non-null  int64  \n",
      " 13  Region                   12330 non-null  int64  \n",
      " 14  TrafficType              12330 non-null  int64  \n",
      " 15  VisitorType              12330 non-null  object \n",
      " 16  Weekend                  12330 non-null  bool   \n",
      " 17  Revenue                  12330 non-null  bool   \n",
      "dtypes: bool(2), float64(7), int64(7), object(2)\n",
      "memory usage: 1.5+ MB\n"
     ]
    }
   ],
   "source": [
    "# Cek info data\n",
    "df.info()"
   ]
  },
  {
   "cell_type": "code",
   "execution_count": 5,
   "metadata": {},
   "outputs": [
    {
     "data": {
      "text/plain": [
       "Administrative             0\n",
       "Administrative_Duration    0\n",
       "Informational              0\n",
       "Informational_Duration     0\n",
       "ProductRelated             0\n",
       "ProductRelated_Duration    0\n",
       "BounceRates                0\n",
       "ExitRates                  0\n",
       "PageValues                 0\n",
       "SpecialDay                 0\n",
       "Month                      0\n",
       "OperatingSystems           0\n",
       "Browser                    0\n",
       "Region                     0\n",
       "TrafficType                0\n",
       "VisitorType                0\n",
       "Weekend                    0\n",
       "Revenue                    0\n",
       "dtype: int64"
      ]
     },
     "execution_count": 5,
     "metadata": {},
     "output_type": "execute_result"
    }
   ],
   "source": [
    "# Cek Missing Value\n",
    "df.isnull().sum()"
   ]
  },
  {
   "cell_type": "markdown",
   "metadata": {},
   "source": [
    "Dari database ini tidak ada data yang missing value atau Nan"
   ]
  },
  {
   "cell_type": "code",
   "execution_count": 6,
   "metadata": {},
   "outputs": [
    {
     "data": {
      "text/plain": [
       "False    12205\n",
       "True       125\n",
       "Name: count, dtype: int64"
      ]
     },
     "execution_count": 6,
     "metadata": {},
     "output_type": "execute_result"
    }
   ],
   "source": [
    "# Cek duplikat\n",
    "df.duplicated().value_counts()"
   ]
  },
  {
   "cell_type": "markdown",
   "metadata": {},
   "source": [
    "Dari hasil diatas, terdapat 125 data yang terduplikat maka dari itu kita akan hapus data yang terduplikat tersebut"
   ]
  },
  {
   "cell_type": "code",
   "execution_count": 7,
   "metadata": {},
   "outputs": [],
   "source": [
    "df.drop_duplicates(inplace=True)"
   ]
  },
  {
   "cell_type": "code",
   "execution_count": 8,
   "metadata": {},
   "outputs": [
    {
     "name": "stdout",
     "output_type": "stream",
     "text": [
      "<class 'pandas.core.frame.DataFrame'>\n",
      "Index: 12205 entries, 0 to 12329\n",
      "Data columns (total 18 columns):\n",
      " #   Column                   Non-Null Count  Dtype  \n",
      "---  ------                   --------------  -----  \n",
      " 0   Administrative           12205 non-null  int64  \n",
      " 1   Administrative_Duration  12205 non-null  float64\n",
      " 2   Informational            12205 non-null  int64  \n",
      " 3   Informational_Duration   12205 non-null  float64\n",
      " 4   ProductRelated           12205 non-null  int64  \n",
      " 5   ProductRelated_Duration  12205 non-null  float64\n",
      " 6   BounceRates              12205 non-null  float64\n",
      " 7   ExitRates                12205 non-null  float64\n",
      " 8   PageValues               12205 non-null  float64\n",
      " 9   SpecialDay               12205 non-null  float64\n",
      " 10  Month                    12205 non-null  object \n",
      " 11  OperatingSystems         12205 non-null  int64  \n",
      " 12  Browser                  12205 non-null  int64  \n",
      " 13  Region                   12205 non-null  int64  \n",
      " 14  TrafficType              12205 non-null  int64  \n",
      " 15  VisitorType              12205 non-null  object \n",
      " 16  Weekend                  12205 non-null  bool   \n",
      " 17  Revenue                  12205 non-null  bool   \n",
      "dtypes: bool(2), float64(7), int64(7), object(2)\n",
      "memory usage: 1.6+ MB\n"
     ]
    }
   ],
   "source": [
    "df.info()"
   ]
  },
  {
   "cell_type": "markdown",
   "metadata": {},
   "source": [
    "Langkah selanjutnya adalah untuk membuat data yang akan dipakai dalam model inference nantinya"
   ]
  },
  {
   "cell_type": "code",
   "execution_count": 9,
   "metadata": {},
   "outputs": [],
   "source": [
    "data_inf = df.sample(1, random_state=123)\n",
    "\n",
    "# menghapus data inference dari df\n",
    "df.drop(data_inf.index, inplace=True)\n",
    "\n",
    "# melakukan reset index untuk data_inf dan df\n",
    "df.reset_index(drop=True, inplace=True)\n",
    "data_inf.reset_index(drop=True, inplace=True)\n",
    "\n",
    "# menghapus target di data_inf\n",
    "data_inf.drop(['Revenue'], axis=1, inplace=True)"
   ]
  },
  {
   "cell_type": "code",
   "execution_count": 10,
   "metadata": {},
   "outputs": [],
   "source": [
    "data_inf.to_csv('data_inf.csv')"
   ]
  },
  {
   "cell_type": "markdown",
   "metadata": {},
   "source": [
    "# Exploratory Data Analysis"
   ]
  },
  {
   "cell_type": "code",
   "execution_count": 10,
   "metadata": {},
   "outputs": [
    {
     "data": {
      "text/plain": [
       "Revenue\n",
       "False    10296\n",
       "True      1908\n",
       "Name: count, dtype: int64"
      ]
     },
     "execution_count": 10,
     "metadata": {},
     "output_type": "execute_result"
    }
   ],
   "source": [
    "# Menghitung jumlah pengguna yang membeli \n",
    "buy_count = df['Revenue'].value_counts()\n",
    "buy_count"
   ]
  },
  {
   "cell_type": "code",
   "execution_count": 11,
   "metadata": {},
   "outputs": [
    {
     "data": {
      "image/png": "[encoded data removed]",
      "text/plain": [
       "<Figure size 640x480 with 1 Axes>"
      ]
     },
     "metadata": {},
     "output_type": "display_data"
    }
   ],
   "source": [
    "plt.pie(buy_count,\n",
    "        labels=['Not Buy', 'Buy'], startangle=90,\n",
    "        autopct='%1.1f%%', explode=[0,0.1])\n",
    "plt.axis('equal')\n",
    "plt.title('Customer to non customer Ratio')\n",
    "\n",
    "plt.show()"
   ]
  },
  {
   "cell_type": "markdown",
   "metadata": {},
   "source": [
    "Berdasarkan hasil diatas, dapat dilihat bahwa hanya sebanyak 15.5% dari total pengunjung yang akhirnya membeli sesuatu dari perusahaan atau sekitar 1908 orang dalam jangka waktu 10 bulan, sementara itu sebanyak 84.5% pengunjung atau sebanyak 10422 pengunjung tidak membeli apa-apa dari website. Dari pie chart ini juga menginformasikan ke kita bahwa column revenue sangat tidak seimbang dalam persebaran kelasnya."
   ]
  },
  {
   "cell_type": "code",
   "execution_count": 13,
   "metadata": {},
   "outputs": [
    {
     "data": {
      "text/plain": [
       "<Axes: xlabel='Month', ylabel='Count'>"
      ]
     },
     "execution_count": 13,
     "metadata": {},
     "output_type": "execute_result"
    },
    {
     "data": {
      "image/png": "[encoded data removed]",
      "text/plain": [
       "<Figure size 640x480 with 1 Axes>"
      ]
     },
     "metadata": {},
     "output_type": "display_data"
    }
   ],
   "source": [
    "sns.histplot(data=df, x='Month', hue='Revenue', palette='pastel')"
   ]
  },
  {
   "cell_type": "markdown",
   "metadata": {},
   "source": [
    "Diatas merupakan hasil dari histogram penjualan berdasarkan bulan, jumlah pengunjung terbanyak ada di bulan may diikuti oleh bulan november dan maret. Tetapi jumlah pembeli terbanyak ada di bulan november baru diikuti bulan may, lalu bulan desember. Hal ini bisa di kaitkan dengan bulan November dimana bulan itu sudah merupakan bulan di akhir tahun dan bisa menajdi salah satu alasan banyaknya pembelian. "
   ]
  },
  {
   "cell_type": "code",
   "execution_count": 14,
   "metadata": {},
   "outputs": [
    {
     "data": {
      "text/html": [
       "<div>\n",
       "<style scoped>\n",
       "    .dataframe tbody tr th:only-of-type {\n",
       "        vertical-align: middle;\n",
       "    }\n",
       "\n",
       "    .dataframe tbody tr th {\n",
       "        vertical-align: top;\n",
       "    }\n",
       "\n",
       "    .dataframe thead th {\n",
       "        text-align: right;\n",
       "    }\n",
       "</style>\n",
       "<table border=\"1\" class=\"dataframe\">\n",
       "  <thead>\n",
       "    <tr style=\"text-align: right;\">\n",
       "      <th></th>\n",
       "      <th></th>\n",
       "      <th>count</th>\n",
       "    </tr>\n",
       "    <tr>\n",
       "      <th>Revenue</th>\n",
       "      <th>Month</th>\n",
       "      <th></th>\n",
       "    </tr>\n",
       "  </thead>\n",
       "  <tbody>\n",
       "    <tr>\n",
       "      <th rowspan=\"10\" valign=\"top\">False</th>\n",
       "      <th>Aug</th>\n",
       "      <td>357</td>\n",
       "    </tr>\n",
       "    <tr>\n",
       "      <th>Dec</th>\n",
       "      <td>1490</td>\n",
       "    </tr>\n",
       "    <tr>\n",
       "      <th>Feb</th>\n",
       "      <td>178</td>\n",
       "    </tr>\n",
       "    <tr>\n",
       "      <th>Jul</th>\n",
       "      <td>366</td>\n",
       "    </tr>\n",
       "    <tr>\n",
       "      <th>June</th>\n",
       "      <td>256</td>\n",
       "    </tr>\n",
       "    <tr>\n",
       "      <th>Mar</th>\n",
       "      <td>1668</td>\n",
       "    </tr>\n",
       "    <tr>\n",
       "      <th>May</th>\n",
       "      <td>2963</td>\n",
       "    </tr>\n",
       "    <tr>\n",
       "      <th>Nov</th>\n",
       "      <td>2222</td>\n",
       "    </tr>\n",
       "    <tr>\n",
       "      <th>Oct</th>\n",
       "      <td>434</td>\n",
       "    </tr>\n",
       "    <tr>\n",
       "      <th>Sep</th>\n",
       "      <td>362</td>\n",
       "    </tr>\n",
       "    <tr>\n",
       "      <th rowspan=\"10\" valign=\"top\">True</th>\n",
       "      <th>Aug</th>\n",
       "      <td>76</td>\n",
       "    </tr>\n",
       "    <tr>\n",
       "      <th>Dec</th>\n",
       "      <td>216</td>\n",
       "    </tr>\n",
       "    <tr>\n",
       "      <th>Feb</th>\n",
       "      <td>3</td>\n",
       "    </tr>\n",
       "    <tr>\n",
       "      <th>Jul</th>\n",
       "      <td>66</td>\n",
       "    </tr>\n",
       "    <tr>\n",
       "      <th>June</th>\n",
       "      <td>29</td>\n",
       "    </tr>\n",
       "    <tr>\n",
       "      <th>Mar</th>\n",
       "      <td>192</td>\n",
       "    </tr>\n",
       "    <tr>\n",
       "      <th>May</th>\n",
       "      <td>365</td>\n",
       "    </tr>\n",
       "    <tr>\n",
       "      <th>Nov</th>\n",
       "      <td>760</td>\n",
       "    </tr>\n",
       "    <tr>\n",
       "      <th>Oct</th>\n",
       "      <td>115</td>\n",
       "    </tr>\n",
       "    <tr>\n",
       "      <th>Sep</th>\n",
       "      <td>86</td>\n",
       "    </tr>\n",
       "  </tbody>\n",
       "</table>\n",
       "</div>"
      ],
      "text/plain": [
       "               count\n",
       "Revenue Month       \n",
       "False   Aug      357\n",
       "        Dec     1490\n",
       "        Feb      178\n",
       "        Jul      366\n",
       "        June     256\n",
       "        Mar     1668\n",
       "        May     2963\n",
       "        Nov     2222\n",
       "        Oct      434\n",
       "        Sep      362\n",
       "True    Aug       76\n",
       "        Dec      216\n",
       "        Feb        3\n",
       "        Jul       66\n",
       "        June      29\n",
       "        Mar      192\n",
       "        May      365\n",
       "        Nov      760\n",
       "        Oct      115\n",
       "        Sep       86"
      ]
     },
     "execution_count": 14,
     "metadata": {},
     "output_type": "execute_result"
    }
   ],
   "source": [
    "df.groupby(by=['Revenue','Month']).Month.agg([\"count\"])"
   ]
  },
  {
   "cell_type": "markdown",
   "metadata": {},
   "source": [
    "Untuk mengelaborasikan histogram diatas, berikut merupakan table group yang menjelaskan rincian penjualan per bulannya. Bisa dilihat bahwa penjualan di bulan november ada sebanyak 760, diikuti di bulan may dengan 365 buah, lalu diikuti oleh bulan desember dengan 216 buah."
   ]
  },
  {
   "cell_type": "code",
   "execution_count": 15,
   "metadata": {},
   "outputs": [
    {
     "data": {
      "text/plain": [
       "<Axes: xlabel='Region', ylabel='Count'>"
      ]
     },
     "execution_count": 15,
     "metadata": {},
     "output_type": "execute_result"
    },
    {
     "data": {
      "image/png": "[encoded data removed]",
      "text/plain": [
       "<Figure size 640x480 with 1 Axes>"
      ]
     },
     "metadata": {},
     "output_type": "display_data"
    }
   ],
   "source": [
    "sns.histplot(data=df, x='Region', hue='Revenue', palette='pastel')"
   ]
  },
  {
   "cell_type": "markdown",
   "metadata": {},
   "source": [
    "Berdasarkan histogram diatas, terlihat bahwa pengguna terbanyak berada di region 1(Jabodetabek) lalu diikuti oleh region 3(Jawa Tengah) dan region 4(Jawa Timur)."
   ]
  },
  {
   "cell_type": "code",
   "execution_count": 16,
   "metadata": {},
   "outputs": [
    {
     "data": {
      "text/html": [
       "<div>\n",
       "<style scoped>\n",
       "    .dataframe tbody tr th:only-of-type {\n",
       "        vertical-align: middle;\n",
       "    }\n",
       "\n",
       "    .dataframe tbody tr th {\n",
       "        vertical-align: top;\n",
       "    }\n",
       "\n",
       "    .dataframe thead th {\n",
       "        text-align: right;\n",
       "    }\n",
       "</style>\n",
       "<table border=\"1\" class=\"dataframe\">\n",
       "  <thead>\n",
       "    <tr style=\"text-align: right;\">\n",
       "      <th></th>\n",
       "      <th></th>\n",
       "      <th>count</th>\n",
       "    </tr>\n",
       "    <tr>\n",
       "      <th>Revenue</th>\n",
       "      <th>Region</th>\n",
       "      <th></th>\n",
       "    </tr>\n",
       "  </thead>\n",
       "  <tbody>\n",
       "    <tr>\n",
       "      <th rowspan=\"9\" valign=\"top\">False</th>\n",
       "      <th>1</th>\n",
       "      <td>3942</td>\n",
       "    </tr>\n",
       "    <tr>\n",
       "      <th>2</th>\n",
       "      <td>940</td>\n",
       "    </tr>\n",
       "    <tr>\n",
       "      <th>3</th>\n",
       "      <td>2030</td>\n",
       "    </tr>\n",
       "    <tr>\n",
       "      <th>4</th>\n",
       "      <td>996</td>\n",
       "    </tr>\n",
       "    <tr>\n",
       "      <th>5</th>\n",
       "      <td>266</td>\n",
       "    </tr>\n",
       "    <tr>\n",
       "      <th>6</th>\n",
       "      <td>689</td>\n",
       "    </tr>\n",
       "    <tr>\n",
       "      <th>7</th>\n",
       "      <td>639</td>\n",
       "    </tr>\n",
       "    <tr>\n",
       "      <th>8</th>\n",
       "      <td>375</td>\n",
       "    </tr>\n",
       "    <tr>\n",
       "      <th>9</th>\n",
       "      <td>419</td>\n",
       "    </tr>\n",
       "    <tr>\n",
       "      <th rowspan=\"9\" valign=\"top\">True</th>\n",
       "      <th>1</th>\n",
       "      <td>771</td>\n",
       "    </tr>\n",
       "    <tr>\n",
       "      <th>2</th>\n",
       "      <td>188</td>\n",
       "    </tr>\n",
       "    <tr>\n",
       "      <th>3</th>\n",
       "      <td>349</td>\n",
       "    </tr>\n",
       "    <tr>\n",
       "      <th>4</th>\n",
       "      <td>175</td>\n",
       "    </tr>\n",
       "    <tr>\n",
       "      <th>5</th>\n",
       "      <td>52</td>\n",
       "    </tr>\n",
       "    <tr>\n",
       "      <th>6</th>\n",
       "      <td>112</td>\n",
       "    </tr>\n",
       "    <tr>\n",
       "      <th>7</th>\n",
       "      <td>119</td>\n",
       "    </tr>\n",
       "    <tr>\n",
       "      <th>8</th>\n",
       "      <td>56</td>\n",
       "    </tr>\n",
       "    <tr>\n",
       "      <th>9</th>\n",
       "      <td>86</td>\n",
       "    </tr>\n",
       "  </tbody>\n",
       "</table>\n",
       "</div>"
      ],
      "text/plain": [
       "                count\n",
       "Revenue Region       \n",
       "False   1        3942\n",
       "        2         940\n",
       "        3        2030\n",
       "        4         996\n",
       "        5         266\n",
       "        6         689\n",
       "        7         639\n",
       "        8         375\n",
       "        9         419\n",
       "True    1         771\n",
       "        2         188\n",
       "        3         349\n",
       "        4         175\n",
       "        5          52\n",
       "        6         112\n",
       "        7         119\n",
       "        8          56\n",
       "        9          86"
      ]
     },
     "execution_count": 16,
     "metadata": {},
     "output_type": "execute_result"
    }
   ],
   "source": [
    "df.groupby(by=['Revenue','Region']).Region.agg([\"count\"])"
   ]
  },
  {
   "cell_type": "markdown",
   "metadata": {},
   "source": [
    "Setelah di telusuri lebih lanjut, region 1 memiliki pelanggan yang melakukan penjualan sebanyak 771 dan memiliki pengguna yang tidak membeli sebanyak 4009, dilanjuti region 3 dengan 349 pelanggan yang membeli dan 2054 pelanggan yang tidak membeli, sementara itu region 2 terdapat 188 pelanggan yang membeli, lalu terdapat 948 pengguna yang tidak membeli."
   ]
  },
  {
   "cell_type": "code",
   "execution_count": 17,
   "metadata": {},
   "outputs": [
    {
     "data": {
      "text/plain": [
       "VisitorType\n",
       "Returning_Visitor    10430\n",
       "New_Visitor           1693\n",
       "Other                   81\n",
       "Name: count, dtype: int64"
      ]
     },
     "execution_count": 17,
     "metadata": {},
     "output_type": "execute_result"
    }
   ],
   "source": [
    "# Menghitung jumlah tipe pengguna \n",
    "visitor_count = df['VisitorType'].value_counts()\n",
    "visitor_count"
   ]
  },
  {
   "cell_type": "markdown",
   "metadata": {},
   "source": [
    "Berdasarkan hasil perhitungan diatas, ternyata kebanyakan pengguna yang meng akses website adalah returning visitor lalu diikuti oleh new visitor. Ini menandakan bahwa, pelanggan yang sebelumnya sudah pernah mengunjungi website nya itu tertarik untuk kembali ke website untuk melihat item-item yang ditawarkan."
   ]
  },
  {
   "cell_type": "code",
   "execution_count": 18,
   "metadata": {},
   "outputs": [
    {
     "data": {
      "image/png": "[encoded data removed]",
      "text/plain": [
       "<Figure size 640x480 with 1 Axes>"
      ]
     },
     "metadata": {},
     "output_type": "display_data"
    }
   ],
   "source": [
    "plt.pie(visitor_count,\n",
    "        labels=['Returning Visitor', 'New Visitor','Other'], startangle=90,\n",
    "        autopct='%1.1f%%')\n",
    "plt.axis('equal')\n",
    "plt.title('Customer type count')\n",
    "\n",
    "plt.show()"
   ]
  },
  {
   "cell_type": "markdown",
   "metadata": {},
   "source": [
    "Dapat terlihat bahwa sebanyak 85.6% dari pengunjung website adalah returning visitor sementara itu sebanyak 13.7% merupakan new visitor atau pengunjung baru."
   ]
  },
  {
   "cell_type": "code",
   "execution_count": 19,
   "metadata": {},
   "outputs": [
    {
     "data": {
      "text/html": [
       "<div>\n",
       "<style scoped>\n",
       "    .dataframe tbody tr th:only-of-type {\n",
       "        vertical-align: middle;\n",
       "    }\n",
       "\n",
       "    .dataframe tbody tr th {\n",
       "        vertical-align: top;\n",
       "    }\n",
       "\n",
       "    .dataframe thead th {\n",
       "        text-align: right;\n",
       "    }\n",
       "</style>\n",
       "<table border=\"1\" class=\"dataframe\">\n",
       "  <thead>\n",
       "    <tr style=\"text-align: right;\">\n",
       "      <th></th>\n",
       "      <th></th>\n",
       "      <th>count</th>\n",
       "    </tr>\n",
       "    <tr>\n",
       "      <th>Revenue</th>\n",
       "      <th>VisitorType</th>\n",
       "      <th></th>\n",
       "    </tr>\n",
       "  </thead>\n",
       "  <tbody>\n",
       "    <tr>\n",
       "      <th rowspan=\"3\" valign=\"top\">False</th>\n",
       "      <th>New_Visitor</th>\n",
       "      <td>1271</td>\n",
       "    </tr>\n",
       "    <tr>\n",
       "      <th>Other</th>\n",
       "      <td>65</td>\n",
       "    </tr>\n",
       "    <tr>\n",
       "      <th>Returning_Visitor</th>\n",
       "      <td>8960</td>\n",
       "    </tr>\n",
       "    <tr>\n",
       "      <th rowspan=\"3\" valign=\"top\">True</th>\n",
       "      <th>New_Visitor</th>\n",
       "      <td>422</td>\n",
       "    </tr>\n",
       "    <tr>\n",
       "      <th>Other</th>\n",
       "      <td>16</td>\n",
       "    </tr>\n",
       "    <tr>\n",
       "      <th>Returning_Visitor</th>\n",
       "      <td>1470</td>\n",
       "    </tr>\n",
       "  </tbody>\n",
       "</table>\n",
       "</div>"
      ],
      "text/plain": [
       "                           count\n",
       "Revenue VisitorType             \n",
       "False   New_Visitor         1271\n",
       "        Other                 65\n",
       "        Returning_Visitor   8960\n",
       "True    New_Visitor          422\n",
       "        Other                 16\n",
       "        Returning_Visitor   1470"
      ]
     },
     "execution_count": 19,
     "metadata": {},
     "output_type": "execute_result"
    }
   ],
   "source": [
    "df.groupby(by=['Revenue','VisitorType']).VisitorType.agg([\"count\"])"
   ]
  },
  {
   "cell_type": "markdown",
   "metadata": {},
   "source": [
    "Setelah di telusuri lebih detail, sebanyak 1470 returning visitor melakukan pembelian di website dan 9081 visitor tidak melakukan pembelian. Lalu sebanyak 422 visitor baru yang melakukan pembelian di website dan 1272 visitor baru tidak melakukan pembelian. Ini menandakan bahwa website yang H8 miliki memiliki kemampuan yang baik untuk membuat para visitor baru untuk melakukan pembelian dimana sebanyak 422 dari total visitor yaitu 1694 atau sebanyak 25% pengunjung baru melakukan pembelian. Sementara itu, untuk pengunjung lama hanya ada sebanyak 1470 dari total pengunjung lama sebanyak 10551. Ini menandakan bahwa hanya 14% pengunjung lama yang melakukan pembelian. Angka total pengunjung lama merupakan angka yang bagus tetapi website H8 memiliki kelemahan dalam meyakinkan pengunjung lama untuk melakukan pembelian "
   ]
  },
  {
   "cell_type": "code",
   "execution_count": 4,
   "metadata": {},
   "outputs": [
    {
     "data": {
      "text/plain": [
       "<Axes: xlabel='Weekend', ylabel='count'>"
      ]
     },
     "execution_count": 4,
     "metadata": {},
     "output_type": "execute_result"
    },
    {
     "data": {
      "image/png": "[encoded data removed]",
      "text/plain": [
       "<Figure size 640x480 with 1 Axes>"
      ]
     },
     "metadata": {},
     "output_type": "display_data"
    }
   ],
   "source": [
    "sns.countplot(data=df, x='Weekend', hue='Revenue', palette='pastel')"
   ]
  },
  {
   "cell_type": "markdown",
   "metadata": {},
   "source": [
    "Berdasarkan count plot diatas, terlihat bahwa lebih banyak pengunjung website di hari kerja dibandingkan dengan weekend serta pembelian pun juga lebih banyak dilakukan di hari kerja dibandingkan dengan weekend."
   ]
  },
  {
   "cell_type": "code",
   "execution_count": 21,
   "metadata": {},
   "outputs": [
    {
     "data": {
      "text/plain": [
       "<Axes: xlabel='ProductRelated_Duration', ylabel='Revenue'>"
      ]
     },
     "execution_count": 21,
     "metadata": {},
     "output_type": "execute_result"
    },
    {
     "data": {
      "image/png": "[encoded data removed]",
      "text/plain": [
       "<Figure size 640x480 with 1 Axes>"
      ]
     },
     "metadata": {},
     "output_type": "display_data"
    }
   ],
   "source": [
    "sns.boxenplot(x=df['ProductRelated_Duration'],y=df['Revenue'], palette = 'pastel', orient = 'h')"
   ]
  },
  {
   "cell_type": "markdown",
   "metadata": {},
   "source": [
    "Berdasarkan hasil diatas, Persebaran untuk pengunjung yang membeli lebih besar dibandingkan untuk pengunjung yang tidak membeli dimana persebaran di bagian pengunjung yang tidak membeli memiliki hasil outlier yang lebih banyak dibandingkan pengguna yang akhirnya membeli. Dari persebaran data ini, ini menunjukan ada nya pengunjung yang sangat lama melihat produk-produk serupa tetapi pada akhirnya tidak melakukan pembelian maka pihak  harus meningkatkan algoritma supaya bisa menarik pengguna-pengguna yang menelusuri website tetapi tidak membeli supaya bisa menemukan produk yang cocok dengan keinginan mereka."
   ]
  },
  {
   "cell_type": "code",
   "execution_count": 22,
   "metadata": {},
   "outputs": [
    {
     "data": {
      "text/plain": [
       "<Axes: xlabel='BounceRates', ylabel='Revenue'>"
      ]
     },
     "execution_count": 22,
     "metadata": {},
     "output_type": "execute_result"
    },
    {
     "data": {
      "image/png": "[encoded data removed]",
      "text/plain": [
       "<Figure size 640x480 with 1 Axes>"
      ]
     },
     "metadata": {},
     "output_type": "display_data"
    }
   ],
   "source": [
    "sns.boxenplot(x=df['BounceRates'],y=df['Revenue'], palette = 'pastel', orient = 'h')"
   ]
  },
  {
   "cell_type": "markdown",
   "metadata": {},
   "source": [
    "Dari box plot diatas, terlihat bahwa kebanyakan pengunjung yang tidak membeli adalah pengunung yang memiliki bounce rate yang tinggi yaitu pengunjung yang tidak membuka halaman lain atau langsung keluar setelah masuk ke website. Ini memberikan informasi bahwa, pihak  harus membuat landing page mereka se menarik dan sebagus mungkin agar bisa membuat pengunjung yang datang ke website supaya ajdi tertarik untuk menelusuri websitenya lebih lanjut untuk melihat produk serta promo yang ditawarkan."
   ]
  },
  {
   "cell_type": "code",
   "execution_count": 23,
   "metadata": {},
   "outputs": [
    {
     "name": "stderr",
     "output_type": "stream",
     "text": [
      "C:\\Users\\daffa\\AppData\\Local\\Temp\\ipykernel_17144\\878271880.py:1: FutureWarning: Passing `palette` without assigning `hue` is deprecated.\n",
      "  sns.stripplot(x=df['PageValues'], y=df['Revenue'], palette = 'pastel',orient = 'h')\n"
     ]
    },
    {
     "data": {
      "text/plain": [
       "<Axes: xlabel='PageValues', ylabel='Revenue'>"
      ]
     },
     "execution_count": 23,
     "metadata": {},
     "output_type": "execute_result"
    },
    {
     "data": {
      "image/png": "[encoded data removed]",
      "text/plain": [
       "<Figure size 640x480 with 1 Axes>"
      ]
     },
     "metadata": {},
     "output_type": "display_data"
    }
   ],
   "source": [
    "sns.stripplot(x=df['PageValues'], y=df['Revenue'], palette = 'pastel',orient = 'h')"
   ]
  },
  {
   "cell_type": "markdown",
   "metadata": {},
   "source": [
    "Berdasarakan data diatas, kebanyakan pengunjung yang akhirnya melakukan pembelian adalah pengunjung yang memiliki page values yang tinggi.Berdasarkan informasi dari 'https://support.google.com/analytics/answer/2695658?hl=en' Page Value adalah nilai rata-rata untuk halaman yang dikunjungi pengguna sebelum mendarat di halaman tujuan atau menyelesaikan transaksi Ecommerce (atau keduanya). Nilai ini dimaksudkan untuk memberi pengguna gambaran tentang halaman mana di situs yang memberikan kontribusi lebih besar terhadap pendapatan situs itu sendiri. Maka dari itu, pihak H8 sebaiknya memeriksa halaman mana dari situs mereka yang memberikan page values terbesar agar bisa meningkatkan situs mereka supaya bisa menarik lebih banyak pelanggan lagi."
   ]
  },
  {
   "cell_type": "markdown",
   "metadata": {},
   "source": [
    "# Feature Engineering"
   ]
  },
  {
   "cell_type": "markdown",
   "metadata": {},
   "source": [
    "### Split Features(X) and Target(y)"
   ]
  },
  {
   "cell_type": "code",
   "execution_count": 24,
   "metadata": {},
   "outputs": [
    {
     "data": {
      "text/html": [
       "<div>\n",
       "<style scoped>\n",
       "    .dataframe tbody tr th:only-of-type {\n",
       "        vertical-align: middle;\n",
       "    }\n",
       "\n",
       "    .dataframe tbody tr th {\n",
       "        vertical-align: top;\n",
       "    }\n",
       "\n",
       "    .dataframe thead th {\n",
       "        text-align: right;\n",
       "    }\n",
       "</style>\n",
       "<table border=\"1\" class=\"dataframe\">\n",
       "  <thead>\n",
       "    <tr style=\"text-align: right;\">\n",
       "      <th></th>\n",
       "      <th>Administrative</th>\n",
       "      <th>Administrative_Duration</th>\n",
       "      <th>Informational</th>\n",
       "      <th>Informational_Duration</th>\n",
       "      <th>ProductRelated</th>\n",
       "      <th>ProductRelated_Duration</th>\n",
       "      <th>BounceRates</th>\n",
       "      <th>ExitRates</th>\n",
       "      <th>PageValues</th>\n",
       "      <th>SpecialDay</th>\n",
       "      <th>Month</th>\n",
       "      <th>OperatingSystems</th>\n",
       "      <th>Browser</th>\n",
       "      <th>Region</th>\n",
       "      <th>TrafficType</th>\n",
       "      <th>VisitorType</th>\n",
       "      <th>Weekend</th>\n",
       "    </tr>\n",
       "  </thead>\n",
       "  <tbody>\n",
       "    <tr>\n",
       "      <th>0</th>\n",
       "      <td>0</td>\n",
       "      <td>0.0</td>\n",
       "      <td>0</td>\n",
       "      <td>0.0</td>\n",
       "      <td>1</td>\n",
       "      <td>0.000000</td>\n",
       "      <td>0.20</td>\n",
       "      <td>0.20</td>\n",
       "      <td>0.0</td>\n",
       "      <td>0.0</td>\n",
       "      <td>Feb</td>\n",
       "      <td>1</td>\n",
       "      <td>1</td>\n",
       "      <td>1</td>\n",
       "      <td>1</td>\n",
       "      <td>Returning_Visitor</td>\n",
       "      <td>False</td>\n",
       "    </tr>\n",
       "    <tr>\n",
       "      <th>1</th>\n",
       "      <td>0</td>\n",
       "      <td>0.0</td>\n",
       "      <td>0</td>\n",
       "      <td>0.0</td>\n",
       "      <td>2</td>\n",
       "      <td>64.000000</td>\n",
       "      <td>0.00</td>\n",
       "      <td>0.10</td>\n",
       "      <td>0.0</td>\n",
       "      <td>0.0</td>\n",
       "      <td>Feb</td>\n",
       "      <td>2</td>\n",
       "      <td>2</td>\n",
       "      <td>1</td>\n",
       "      <td>2</td>\n",
       "      <td>Returning_Visitor</td>\n",
       "      <td>False</td>\n",
       "    </tr>\n",
       "    <tr>\n",
       "      <th>2</th>\n",
       "      <td>0</td>\n",
       "      <td>0.0</td>\n",
       "      <td>0</td>\n",
       "      <td>0.0</td>\n",
       "      <td>1</td>\n",
       "      <td>0.000000</td>\n",
       "      <td>0.20</td>\n",
       "      <td>0.20</td>\n",
       "      <td>0.0</td>\n",
       "      <td>0.0</td>\n",
       "      <td>Feb</td>\n",
       "      <td>4</td>\n",
       "      <td>1</td>\n",
       "      <td>9</td>\n",
       "      <td>3</td>\n",
       "      <td>Returning_Visitor</td>\n",
       "      <td>False</td>\n",
       "    </tr>\n",
       "    <tr>\n",
       "      <th>3</th>\n",
       "      <td>0</td>\n",
       "      <td>0.0</td>\n",
       "      <td>0</td>\n",
       "      <td>0.0</td>\n",
       "      <td>2</td>\n",
       "      <td>2.666667</td>\n",
       "      <td>0.05</td>\n",
       "      <td>0.14</td>\n",
       "      <td>0.0</td>\n",
       "      <td>0.0</td>\n",
       "      <td>Feb</td>\n",
       "      <td>3</td>\n",
       "      <td>2</td>\n",
       "      <td>2</td>\n",
       "      <td>4</td>\n",
       "      <td>Returning_Visitor</td>\n",
       "      <td>False</td>\n",
       "    </tr>\n",
       "    <tr>\n",
       "      <th>4</th>\n",
       "      <td>0</td>\n",
       "      <td>0.0</td>\n",
       "      <td>0</td>\n",
       "      <td>0.0</td>\n",
       "      <td>10</td>\n",
       "      <td>627.500000</td>\n",
       "      <td>0.02</td>\n",
       "      <td>0.05</td>\n",
       "      <td>0.0</td>\n",
       "      <td>0.0</td>\n",
       "      <td>Feb</td>\n",
       "      <td>3</td>\n",
       "      <td>3</td>\n",
       "      <td>1</td>\n",
       "      <td>4</td>\n",
       "      <td>Returning_Visitor</td>\n",
       "      <td>True</td>\n",
       "    </tr>\n",
       "  </tbody>\n",
       "</table>\n",
       "</div>"
      ],
      "text/plain": [
       "   Administrative  Administrative_Duration  Informational  \\\n",
       "0               0                      0.0              0   \n",
       "1               0                      0.0              0   \n",
       "2               0                      0.0              0   \n",
       "3               0                      0.0              0   \n",
       "4               0                      0.0              0   \n",
       "\n",
       "   Informational_Duration  ProductRelated  ProductRelated_Duration  \\\n",
       "0                     0.0               1                 0.000000   \n",
       "1                     0.0               2                64.000000   \n",
       "2                     0.0               1                 0.000000   \n",
       "3                     0.0               2                 2.666667   \n",
       "4                     0.0              10               627.500000   \n",
       "\n",
       "   BounceRates  ExitRates  PageValues  SpecialDay Month  OperatingSystems  \\\n",
       "0         0.20       0.20         0.0         0.0   Feb                 1   \n",
       "1         0.00       0.10         0.0         0.0   Feb                 2   \n",
       "2         0.20       0.20         0.0         0.0   Feb                 4   \n",
       "3         0.05       0.14         0.0         0.0   Feb                 3   \n",
       "4         0.02       0.05         0.0         0.0   Feb                 3   \n",
       "\n",
       "   Browser  Region  TrafficType        VisitorType  Weekend  \n",
       "0        1       1            1  Returning_Visitor    False  \n",
       "1        2       1            2  Returning_Visitor    False  \n",
       "2        1       9            3  Returning_Visitor    False  \n",
       "3        2       2            4  Returning_Visitor    False  \n",
       "4        3       1            4  Returning_Visitor     True  "
      ]
     },
     "execution_count": 24,
     "metadata": {},
     "output_type": "execute_result"
    }
   ],
   "source": [
    "# Memisahkan X dan y\n",
    "X = df.drop('Revenue', axis=1)\n",
    "y = df.Revenue\n",
    "\n",
    "X.head()"
   ]
  },
  {
   "cell_type": "markdown",
   "metadata": {},
   "source": [
    "### Split Train Test Set"
   ]
  },
  {
   "cell_type": "code",
   "execution_count": 25,
   "metadata": {},
   "outputs": [
    {
     "name": "stdout",
     "output_type": "stream",
     "text": [
      "Train size (9763, 17)\n",
      "test size (2441, 17)\n"
     ]
    },
    {
     "data": {
      "text/html": [
       "<div>\n",
       "<style scoped>\n",
       "    .dataframe tbody tr th:only-of-type {\n",
       "        vertical-align: middle;\n",
       "    }\n",
       "\n",
       "    .dataframe tbody tr th {\n",
       "        vertical-align: top;\n",
       "    }\n",
       "\n",
       "    .dataframe thead th {\n",
       "        text-align: right;\n",
       "    }\n",
       "</style>\n",
       "<table border=\"1\" class=\"dataframe\">\n",
       "  <thead>\n",
       "    <tr style=\"text-align: right;\">\n",
       "      <th></th>\n",
       "      <th>Administrative</th>\n",
       "      <th>Administrative_Duration</th>\n",
       "      <th>Informational</th>\n",
       "      <th>Informational_Duration</th>\n",
       "      <th>ProductRelated</th>\n",
       "      <th>ProductRelated_Duration</th>\n",
       "      <th>BounceRates</th>\n",
       "      <th>ExitRates</th>\n",
       "      <th>PageValues</th>\n",
       "      <th>SpecialDay</th>\n",
       "      <th>Month</th>\n",
       "      <th>OperatingSystems</th>\n",
       "      <th>Browser</th>\n",
       "      <th>Region</th>\n",
       "      <th>TrafficType</th>\n",
       "      <th>VisitorType</th>\n",
       "      <th>Weekend</th>\n",
       "    </tr>\n",
       "  </thead>\n",
       "  <tbody>\n",
       "    <tr>\n",
       "      <th>6861</th>\n",
       "      <td>8</td>\n",
       "      <td>221.33</td>\n",
       "      <td>2</td>\n",
       "      <td>70.6</td>\n",
       "      <td>63</td>\n",
       "      <td>5245.277619</td>\n",
       "      <td>0.002740</td>\n",
       "      <td>0.020091</td>\n",
       "      <td>0.0</td>\n",
       "      <td>0.0</td>\n",
       "      <td>Nov</td>\n",
       "      <td>2</td>\n",
       "      <td>2</td>\n",
       "      <td>3</td>\n",
       "      <td>1</td>\n",
       "      <td>Returning_Visitor</td>\n",
       "      <td>False</td>\n",
       "    </tr>\n",
       "    <tr>\n",
       "      <th>1562</th>\n",
       "      <td>1</td>\n",
       "      <td>6.00</td>\n",
       "      <td>0</td>\n",
       "      <td>0.0</td>\n",
       "      <td>20</td>\n",
       "      <td>739.833333</td>\n",
       "      <td>0.019048</td>\n",
       "      <td>0.030952</td>\n",
       "      <td>0.0</td>\n",
       "      <td>0.0</td>\n",
       "      <td>Mar</td>\n",
       "      <td>2</td>\n",
       "      <td>2</td>\n",
       "      <td>3</td>\n",
       "      <td>3</td>\n",
       "      <td>Returning_Visitor</td>\n",
       "      <td>True</td>\n",
       "    </tr>\n",
       "    <tr>\n",
       "      <th>9661</th>\n",
       "      <td>0</td>\n",
       "      <td>0.00</td>\n",
       "      <td>0</td>\n",
       "      <td>0.0</td>\n",
       "      <td>8</td>\n",
       "      <td>232.500000</td>\n",
       "      <td>0.000000</td>\n",
       "      <td>0.050000</td>\n",
       "      <td>0.0</td>\n",
       "      <td>0.0</td>\n",
       "      <td>Nov</td>\n",
       "      <td>4</td>\n",
       "      <td>2</td>\n",
       "      <td>1</td>\n",
       "      <td>2</td>\n",
       "      <td>New_Visitor</td>\n",
       "      <td>False</td>\n",
       "    </tr>\n",
       "    <tr>\n",
       "      <th>1379</th>\n",
       "      <td>0</td>\n",
       "      <td>0.00</td>\n",
       "      <td>0</td>\n",
       "      <td>0.0</td>\n",
       "      <td>1</td>\n",
       "      <td>0.000000</td>\n",
       "      <td>0.200000</td>\n",
       "      <td>0.200000</td>\n",
       "      <td>0.0</td>\n",
       "      <td>0.0</td>\n",
       "      <td>Mar</td>\n",
       "      <td>2</td>\n",
       "      <td>4</td>\n",
       "      <td>3</td>\n",
       "      <td>1</td>\n",
       "      <td>Returning_Visitor</td>\n",
       "      <td>False</td>\n",
       "    </tr>\n",
       "    <tr>\n",
       "      <th>3810</th>\n",
       "      <td>2</td>\n",
       "      <td>87.25</td>\n",
       "      <td>0</td>\n",
       "      <td>0.0</td>\n",
       "      <td>56</td>\n",
       "      <td>2094.983333</td>\n",
       "      <td>0.032738</td>\n",
       "      <td>0.063214</td>\n",
       "      <td>0.0</td>\n",
       "      <td>0.8</td>\n",
       "      <td>May</td>\n",
       "      <td>2</td>\n",
       "      <td>4</td>\n",
       "      <td>3</td>\n",
       "      <td>3</td>\n",
       "      <td>Returning_Visitor</td>\n",
       "      <td>False</td>\n",
       "    </tr>\n",
       "  </tbody>\n",
       "</table>\n",
       "</div>"
      ],
      "text/plain": [
       "      Administrative  Administrative_Duration  Informational  \\\n",
       "6861               8                   221.33              2   \n",
       "1562               1                     6.00              0   \n",
       "9661               0                     0.00              0   \n",
       "1379               0                     0.00              0   \n",
       "3810               2                    87.25              0   \n",
       "\n",
       "      Informational_Duration  ProductRelated  ProductRelated_Duration  \\\n",
       "6861                    70.6              63              5245.277619   \n",
       "1562                     0.0              20               739.833333   \n",
       "9661                     0.0               8               232.500000   \n",
       "1379                     0.0               1                 0.000000   \n",
       "3810                     0.0              56              2094.983333   \n",
       "\n",
       "      BounceRates  ExitRates  PageValues  SpecialDay Month  OperatingSystems  \\\n",
       "6861     0.002740   0.020091         0.0         0.0   Nov                 2   \n",
       "1562     0.019048   0.030952         0.0         0.0   Mar                 2   \n",
       "9661     0.000000   0.050000         0.0         0.0   Nov                 4   \n",
       "1379     0.200000   0.200000         0.0         0.0   Mar                 2   \n",
       "3810     0.032738   0.063214         0.0         0.8   May                 2   \n",
       "\n",
       "      Browser  Region  TrafficType        VisitorType  Weekend  \n",
       "6861        2       3            1  Returning_Visitor    False  \n",
       "1562        2       3            3  Returning_Visitor     True  \n",
       "9661        2       1            2        New_Visitor    False  \n",
       "1379        4       3            1  Returning_Visitor    False  \n",
       "3810        4       3            3  Returning_Visitor    False  "
      ]
     },
     "execution_count": 25,
     "metadata": {},
     "output_type": "execute_result"
    }
   ],
   "source": [
    "#Split menggunakam train_test_split\n",
    "X_train, X_test, y_train, y_test = train_test_split(X, y, test_size= 0.2, random_state=123)\n",
    "\n",
    "print('Train size', X_train.shape)\n",
    "print('test size', X_test.shape)\n",
    "X_train.head()"
   ]
  },
  {
   "cell_type": "markdown",
   "metadata": {},
   "source": [
    "### Split Numerical and Categorical Column"
   ]
  },
  {
   "cell_type": "code",
   "execution_count": 26,
   "metadata": {},
   "outputs": [
    {
     "data": {
      "text/plain": [
       "Index(['Administrative', 'Administrative_Duration', 'Informational',\n",
       "       'Informational_Duration', 'ProductRelated', 'ProductRelated_Duration',\n",
       "       'BounceRates', 'ExitRates', 'PageValues', 'SpecialDay', 'Month',\n",
       "       'OperatingSystems', 'Browser', 'Region', 'TrafficType', 'VisitorType',\n",
       "       'Weekend', 'Revenue'],\n",
       "      dtype='object')"
      ]
     },
     "execution_count": 26,
     "metadata": {},
     "output_type": "execute_result"
    }
   ],
   "source": [
    "df.columns"
   ]
  },
  {
   "cell_type": "code",
   "execution_count": 27,
   "metadata": {},
   "outputs": [
    {
     "name": "stdout",
     "output_type": "stream",
     "text": [
      "Numerical columns: ['Administrative', 'Administrative_Duration', 'Informational', 'Informational_Duration', 'ProductRelated', 'ProductRelated_Duration', 'BounceRates', 'ExitRates', 'PageValues', 'SpecialDay']\n",
      "Categorical columns 1: ['Month', 'VisitorType', 'Weekend']\n",
      "Categorical columns 2: ['OperatingSystems', 'Browser', 'Region', 'TrafficType']\n"
     ]
    }
   ],
   "source": [
    "# Memisahkan antara column numeric dengan column category\n",
    "num_col = ['Administrative', 'Administrative_Duration', 'Informational',\n",
    "       'Informational_Duration', 'ProductRelated', 'ProductRelated_Duration',\n",
    "       'BounceRates', 'ExitRates', 'PageValues', 'SpecialDay']\n",
    "cat_col_1 = ['Month','VisitorType','Weekend']\n",
    "cat_col_2 = ['OperatingSystems', 'Browser', 'Region', 'TrafficType']\n",
    "\n",
    "#Menunjukan num_col and cat_col\n",
    "print('Numerical columns:', num_col)\n",
    "print('Categorical columns 1:', cat_col_1)\n",
    "print('Categorical columns 2:', cat_col_2)"
   ]
  },
  {
   "cell_type": "code",
   "execution_count": 28,
   "metadata": {},
   "outputs": [
    {
     "data": {
      "text/html": [
       "<div>\n",
       "<style scoped>\n",
       "    .dataframe tbody tr th:only-of-type {\n",
       "        vertical-align: middle;\n",
       "    }\n",
       "\n",
       "    .dataframe tbody tr th {\n",
       "        vertical-align: top;\n",
       "    }\n",
       "\n",
       "    .dataframe thead th {\n",
       "        text-align: right;\n",
       "    }\n",
       "</style>\n",
       "<table border=\"1\" class=\"dataframe\">\n",
       "  <thead>\n",
       "    <tr style=\"text-align: right;\">\n",
       "      <th></th>\n",
       "      <th>Month</th>\n",
       "      <th>VisitorType</th>\n",
       "      <th>Weekend</th>\n",
       "    </tr>\n",
       "  </thead>\n",
       "  <tbody>\n",
       "    <tr>\n",
       "      <th>6861</th>\n",
       "      <td>Nov</td>\n",
       "      <td>Returning_Visitor</td>\n",
       "      <td>False</td>\n",
       "    </tr>\n",
       "    <tr>\n",
       "      <th>1562</th>\n",
       "      <td>Mar</td>\n",
       "      <td>Returning_Visitor</td>\n",
       "      <td>True</td>\n",
       "    </tr>\n",
       "    <tr>\n",
       "      <th>9661</th>\n",
       "      <td>Nov</td>\n",
       "      <td>New_Visitor</td>\n",
       "      <td>False</td>\n",
       "    </tr>\n",
       "    <tr>\n",
       "      <th>1379</th>\n",
       "      <td>Mar</td>\n",
       "      <td>Returning_Visitor</td>\n",
       "      <td>False</td>\n",
       "    </tr>\n",
       "    <tr>\n",
       "      <th>3810</th>\n",
       "      <td>May</td>\n",
       "      <td>Returning_Visitor</td>\n",
       "      <td>False</td>\n",
       "    </tr>\n",
       "  </tbody>\n",
       "</table>\n",
       "</div>"
      ],
      "text/plain": [
       "     Month        VisitorType  Weekend\n",
       "6861   Nov  Returning_Visitor    False\n",
       "1562   Mar  Returning_Visitor     True\n",
       "9661   Nov        New_Visitor    False\n",
       "1379   Mar  Returning_Visitor    False\n",
       "3810   May  Returning_Visitor    False"
      ]
     },
     "execution_count": 28,
     "metadata": {},
     "output_type": "execute_result"
    }
   ],
   "source": [
    "#Memisahkan antara database train dan test berdasarkan jenis Column(category/numeric)\n",
    "\n",
    "X_train_num = X_train[num_col]\n",
    "X_train_cat_nom = X_train[cat_col_1]\n",
    "X_train_cat_ord = X_train[cat_col_2]\n",
    "\n",
    "\n",
    "X_test_num = X_test[num_col]\n",
    "X_test_cat_nom = X_test[cat_col_1]\n",
    "X_test_cat_ord = X_test[cat_col_2]\n",
    "\n",
    "X_train_cat_nom.head()"
   ]
  },
  {
   "cell_type": "markdown",
   "metadata": {},
   "source": [
    "### Handling Outlier"
   ]
  },
  {
   "cell_type": "code",
   "execution_count": 29,
   "metadata": {},
   "outputs": [
    {
     "name": "stdout",
     "output_type": "stream",
     "text": [
      "skewness: Administrative             1.979540\n",
      "Administrative_Duration    5.579307\n",
      "Informational              4.167122\n",
      "Informational_Duration     7.679699\n",
      "ProductRelated             4.230391\n",
      "ProductRelated_Duration    7.762732\n",
      "BounceRates                3.158515\n",
      "ExitRates                  2.229467\n",
      "PageValues                 6.438876\n",
      "SpecialDay                 3.284683\n",
      "dtype: float64\n"
     ]
    }
   ],
   "source": [
    "# Mengecek skewness column numeric\n",
    "print('skewness:', X_train_num.skew())"
   ]
  },
  {
   "cell_type": "markdown",
   "metadata": {},
   "source": [
    "Berdasarkan hasil diatas, semua column numerik merupakan column yang tergolong menjadi column dengan persebaran data yang skew atau tidak normal. Hal ini merupakan hal yang normal di data frame ini dikarenakan itu merupakan hal yang wajar karena durasi seseorang meng explore website penjualan itu beda-beda terutama di beberapa column dimana column itu menghitung jumlah durasi seseorang berada di sebuah page informasi, administrasi, dan Related product dimana orang-orang memiliki kecepatan berbeda dalam membaca informasi, mengisi administrasi yang diperlukan serta menjelajahi produk yang lain."
   ]
  },
  {
   "cell_type": "code",
   "execution_count": 30,
   "metadata": {},
   "outputs": [
    {
     "data": {
      "image/png": "[encoded data removed]",
      "text/plain": [
       "<Figure size 1600x400 with 2 Axes>"
      ]
     },
     "metadata": {},
     "output_type": "display_data"
    }
   ],
   "source": [
    "plt.figure(figsize=(16, 4))\n",
    "\n",
    " # Histogram\n",
    "plt.subplot(1, 2, 1)\n",
    "sns.histplot(X_train_num['ProductRelated_Duration'], bins=20)\n",
    "plt.title('Histogram')\n",
    "\n",
    "    # Boxplot\n",
    "plt.subplot(1, 2, 2)\n",
    "sns.boxplot(y=X_train_num['ProductRelated_Duration'])\n",
    "plt.title('Boxplot')\n",
    "\n",
    "plt.show()"
   ]
  },
  {
   "cell_type": "markdown",
   "metadata": {},
   "source": [
    "Seperti contohnya pada column product related duration, dimana banyak pengguna yang hanya menjelajahi produk dengan bentar tetapi ada juga pengguna yang lama menjelajahi produk dalam waktu yang lama dimana bisa dikarenakan seseorang sedang mencari produk yang diinginkan untuk keperluan pribadi atau business"
   ]
  },
  {
   "cell_type": "markdown",
   "metadata": {},
   "source": [
    "Maka dari itu untuk proses ini, data outliers akan dibiarkan saja"
   ]
  },
  {
   "cell_type": "markdown",
   "metadata": {},
   "source": [
    "### Feature Scaling"
   ]
  },
  {
   "cell_type": "code",
   "execution_count": 31,
   "metadata": {},
   "outputs": [
    {
     "data": {
      "text/html": [
       "<div>\n",
       "<style scoped>\n",
       "    .dataframe tbody tr th:only-of-type {\n",
       "        vertical-align: middle;\n",
       "    }\n",
       "\n",
       "    .dataframe tbody tr th {\n",
       "        vertical-align: top;\n",
       "    }\n",
       "\n",
       "    .dataframe thead th {\n",
       "        text-align: right;\n",
       "    }\n",
       "</style>\n",
       "<table border=\"1\" class=\"dataframe\">\n",
       "  <thead>\n",
       "    <tr style=\"text-align: right;\">\n",
       "      <th></th>\n",
       "      <th>Administrative</th>\n",
       "      <th>Administrative_Duration</th>\n",
       "      <th>Informational</th>\n",
       "      <th>Informational_Duration</th>\n",
       "      <th>ProductRelated</th>\n",
       "      <th>ProductRelated_Duration</th>\n",
       "      <th>BounceRates</th>\n",
       "      <th>ExitRates</th>\n",
       "      <th>PageValues</th>\n",
       "      <th>SpecialDay</th>\n",
       "    </tr>\n",
       "  </thead>\n",
       "  <tbody>\n",
       "    <tr>\n",
       "      <th>count</th>\n",
       "      <td>9763.000000</td>\n",
       "      <td>9763.000000</td>\n",
       "      <td>9763.000000</td>\n",
       "      <td>9763.000000</td>\n",
       "      <td>9763.000000</td>\n",
       "      <td>9763.000000</td>\n",
       "      <td>9763.000000</td>\n",
       "      <td>9763.000000</td>\n",
       "      <td>9763.000000</td>\n",
       "      <td>9763.000000</td>\n",
       "    </tr>\n",
       "    <tr>\n",
       "      <th>mean</th>\n",
       "      <td>2.347639</td>\n",
       "      <td>81.962846</td>\n",
       "      <td>0.508245</td>\n",
       "      <td>34.515554</td>\n",
       "      <td>31.961385</td>\n",
       "      <td>1205.685627</td>\n",
       "      <td>0.020388</td>\n",
       "      <td>0.041448</td>\n",
       "      <td>5.980734</td>\n",
       "      <td>0.062030</td>\n",
       "    </tr>\n",
       "    <tr>\n",
       "      <th>std</th>\n",
       "      <td>3.345809</td>\n",
       "      <td>177.580138</td>\n",
       "      <td>1.287979</td>\n",
       "      <td>141.863030</td>\n",
       "      <td>44.486103</td>\n",
       "      <td>1950.692653</td>\n",
       "      <td>0.045237</td>\n",
       "      <td>0.046230</td>\n",
       "      <td>18.864205</td>\n",
       "      <td>0.200295</td>\n",
       "    </tr>\n",
       "    <tr>\n",
       "      <th>min</th>\n",
       "      <td>0.000000</td>\n",
       "      <td>0.000000</td>\n",
       "      <td>0.000000</td>\n",
       "      <td>0.000000</td>\n",
       "      <td>0.000000</td>\n",
       "      <td>0.000000</td>\n",
       "      <td>0.000000</td>\n",
       "      <td>0.000000</td>\n",
       "      <td>0.000000</td>\n",
       "      <td>0.000000</td>\n",
       "    </tr>\n",
       "    <tr>\n",
       "      <th>25%</th>\n",
       "      <td>0.000000</td>\n",
       "      <td>0.000000</td>\n",
       "      <td>0.000000</td>\n",
       "      <td>0.000000</td>\n",
       "      <td>8.000000</td>\n",
       "      <td>189.875000</td>\n",
       "      <td>0.000000</td>\n",
       "      <td>0.014082</td>\n",
       "      <td>0.000000</td>\n",
       "      <td>0.000000</td>\n",
       "    </tr>\n",
       "    <tr>\n",
       "      <th>50%</th>\n",
       "      <td>1.000000</td>\n",
       "      <td>10.000000</td>\n",
       "      <td>0.000000</td>\n",
       "      <td>0.000000</td>\n",
       "      <td>18.000000</td>\n",
       "      <td>604.500000</td>\n",
       "      <td>0.002941</td>\n",
       "      <td>0.025000</td>\n",
       "      <td>0.000000</td>\n",
       "      <td>0.000000</td>\n",
       "    </tr>\n",
       "    <tr>\n",
       "      <th>75%</th>\n",
       "      <td>4.000000</td>\n",
       "      <td>95.085000</td>\n",
       "      <td>0.000000</td>\n",
       "      <td>0.000000</td>\n",
       "      <td>38.000000</td>\n",
       "      <td>1476.827381</td>\n",
       "      <td>0.016667</td>\n",
       "      <td>0.048608</td>\n",
       "      <td>0.000000</td>\n",
       "      <td>0.000000</td>\n",
       "    </tr>\n",
       "    <tr>\n",
       "      <th>max</th>\n",
       "      <td>27.000000</td>\n",
       "      <td>3398.750000</td>\n",
       "      <td>24.000000</td>\n",
       "      <td>2549.375000</td>\n",
       "      <td>705.000000</td>\n",
       "      <td>63973.522230</td>\n",
       "      <td>0.200000</td>\n",
       "      <td>0.200000</td>\n",
       "      <td>361.763742</td>\n",
       "      <td>1.000000</td>\n",
       "    </tr>\n",
       "  </tbody>\n",
       "</table>\n",
       "</div>"
      ],
      "text/plain": [
       "       Administrative  Administrative_Duration  Informational  \\\n",
       "count     9763.000000              9763.000000    9763.000000   \n",
       "mean         2.347639                81.962846       0.508245   \n",
       "std          3.345809               177.580138       1.287979   \n",
       "min          0.000000                 0.000000       0.000000   \n",
       "25%          0.000000                 0.000000       0.000000   \n",
       "50%          1.000000                10.000000       0.000000   \n",
       "75%          4.000000                95.085000       0.000000   \n",
       "max         27.000000              3398.750000      24.000000   \n",
       "\n",
       "       Informational_Duration  ProductRelated  ProductRelated_Duration  \\\n",
       "count             9763.000000     9763.000000              9763.000000   \n",
       "mean                34.515554       31.961385              1205.685627   \n",
       "std                141.863030       44.486103              1950.692653   \n",
       "min                  0.000000        0.000000                 0.000000   \n",
       "25%                  0.000000        8.000000               189.875000   \n",
       "50%                  0.000000       18.000000               604.500000   \n",
       "75%                  0.000000       38.000000              1476.827381   \n",
       "max               2549.375000      705.000000             63973.522230   \n",
       "\n",
       "       BounceRates    ExitRates   PageValues   SpecialDay  \n",
       "count  9763.000000  9763.000000  9763.000000  9763.000000  \n",
       "mean      0.020388     0.041448     5.980734     0.062030  \n",
       "std       0.045237     0.046230    18.864205     0.200295  \n",
       "min       0.000000     0.000000     0.000000     0.000000  \n",
       "25%       0.000000     0.014082     0.000000     0.000000  \n",
       "50%       0.002941     0.025000     0.000000     0.000000  \n",
       "75%       0.016667     0.048608     0.000000     0.000000  \n",
       "max       0.200000     0.200000   361.763742     1.000000  "
      ]
     },
     "execution_count": 31,
     "metadata": {},
     "output_type": "execute_result"
    }
   ],
   "source": [
    "# Menunjukan central tendency dari X train set\n",
    "X_train_num.describe()"
   ]
  },
  {
   "cell_type": "markdown",
   "metadata": {},
   "source": [
    "Dari hasil persebaran diatas, terlihat bahwa angka-angka di column numerik sangat beragam dan agar menghindari model mengfavoritkan angka yang lebih tinggi maka kita akan menggunakan min max scaler agar semua column memiliki kedudukan yang sama."
   ]
  },
  {
   "cell_type": "code",
   "execution_count": 32,
   "metadata": {},
   "outputs": [
    {
     "data": {
      "text/plain": [
       "array([[0.2962963 , 0.065121  , 0.08333333, ..., 0.10045662, 0.        ,\n",
       "        0.        ],\n",
       "       [0.03703704, 0.00176535, 0.        , ..., 0.15476191, 0.        ,\n",
       "        0.        ],\n",
       "       [0.        , 0.        , 0.        , ..., 0.25      , 0.        ,\n",
       "        0.        ],\n",
       "       ...,\n",
       "       [0.        , 0.        , 0.        , ..., 0.02857143, 0.        ,\n",
       "        0.        ],\n",
       "       [0.33333333, 0.06222876, 0.16666667, ..., 0.14937343, 0.        ,\n",
       "        0.        ],\n",
       "       [0.        , 0.        , 0.        , ..., 0.01136364, 0.        ,\n",
       "        0.        ]])"
      ]
     },
     "execution_count": 32,
     "metadata": {},
     "output_type": "execute_result"
    }
   ],
   "source": [
    "# Scale menggunakan minmaxscaler\n",
    "scaler = MinMaxScaler()\n",
    "scaler.fit(X_train_num)\n",
    "\n",
    "X_train_num_scaled =  scaler.transform(X_train_num)\n",
    "X_test_num_scaled = scaler.transform(X_test_num)\n",
    "X_train_num_scaled"
   ]
  },
  {
   "cell_type": "markdown",
   "metadata": {},
   "source": [
    "### Feature Encoding"
   ]
  },
  {
   "cell_type": "code",
   "execution_count": 33,
   "metadata": {},
   "outputs": [
    {
     "data": {
      "text/plain": [
       "(9763, 15)"
      ]
     },
     "execution_count": 33,
     "metadata": {},
     "output_type": "execute_result"
    }
   ],
   "source": [
    "# Encode menggunakan OneHotEncoder\n",
    "oheencoder = OneHotEncoder()\n",
    "oheencoder.fit(X_train_cat_nom)\n",
    "\n",
    "X_train_cat_nom_encoded = oheencoder.transform(X_train_cat_nom).toarray()\n",
    "X_test_cat_nom_encoded = oheencoder.transform(X_test_cat_nom).toarray()\n",
    "\n",
    "X_train_cat_nom_encoded.shape"
   ]
  },
  {
   "cell_type": "markdown",
   "metadata": {},
   "source": [
    "Setelah dilaksanakan one hot encoder, sisa column category sudah berada di dalam bentuk angka ordinal maka tidak perlu dilakukan ordinal encoder di dalam proses ini. "
   ]
  },
  {
   "cell_type": "markdown",
   "metadata": {},
   "source": [
    "### Merge Data"
   ]
  },
  {
   "cell_type": "code",
   "execution_count": 34,
   "metadata": {},
   "outputs": [],
   "source": [
    "#Mengabung data numerical dan categorical \n",
    "\n",
    "# Data Train\n",
    "X_train_final = np.concatenate([X_train_cat_ord, X_train_num_scaled, X_train_cat_nom_encoded], axis = 1)\n",
    "\n",
    "# Data Test\n",
    "X_test_final = np.concatenate([X_test_cat_ord, X_test_num_scaled, X_test_cat_nom_encoded], axis = 1)"
   ]
  },
  {
   "cell_type": "code",
   "execution_count": 35,
   "metadata": {},
   "outputs": [
    {
     "name": "stdout",
     "output_type": "stream",
     "text": [
      "X_train_final shape: (9763, 29)\n",
      "X_test_final shape: (2441, 29)\n"
     ]
    }
   ],
   "source": [
    "# Mengecek shape atau jumlah data di dataframe final\n",
    "print(\"X_train_final shape:\", X_train_final.shape)\n",
    "print(\"X_test_final shape:\", X_test_final.shape)"
   ]
  },
  {
   "cell_type": "markdown",
   "metadata": {},
   "source": [
    "Berdasarkan bentuk dari data frame diatas, ternyata data masih memiliki column yang banyak maka dari itu perlu dilakukan dimensionality reduction dan over sampling. Maka dari itu untuk proses ini kita akan menguji dengan hasil Dimensionality Reduction dan Over Sampling."
   ]
  },
  {
   "cell_type": "markdown",
   "metadata": {},
   "source": [
    "### SMOTE (Synthetic Minority Oversampling Technique)"
   ]
  },
  {
   "cell_type": "code",
   "execution_count": 36,
   "metadata": {},
   "outputs": [],
   "source": [
    "X_train_final = pd.DataFrame(X_train_final)\n",
    "y_train_encoded = pd.DataFrame(y_train)"
   ]
  },
  {
   "cell_type": "code",
   "execution_count": 37,
   "metadata": {},
   "outputs": [
    {
     "data": {
      "text/plain": [
       "Revenue\n",
       "False    8264\n",
       "True     8264\n",
       "Name: count, dtype: int64"
      ]
     },
     "execution_count": 37,
     "metadata": {},
     "output_type": "execute_result"
    }
   ],
   "source": [
    "# SMOTE-NC\n",
    "\n",
    "smotenc = SMOTENC([10, 15, 16], random_state = 123)\n",
    "X_train_balanced, y_train_balanced = smotenc.fit_resample(X_train_final, y_train)\n",
    "y_train_balanced.value_counts()"
   ]
  },
  {
   "cell_type": "markdown",
   "metadata": {},
   "source": [
    "### Pipeline"
   ]
  },
  {
   "cell_type": "code",
   "execution_count": 38,
   "metadata": {},
   "outputs": [
    {
     "data": {
      "text/html": [
       "<style>#sk-container-id-1 {color: black;}#sk-container-id-1 pre{padding: 0;}#sk-container-id-1 div.sk-toggleable {background-color: white;}#sk-container-id-1 label.sk-toggleable__label {cursor: pointer;display: block;width: 100%;margin-bottom: 0;padding: 0.3em;box-sizing: border-box;text-align: center;}#sk-container-id-1 label.sk-toggleable__label-arrow:before {content: \"▸\";float: left;margin-right: 0.25em;color: #696969;}#sk-container-id-1 label.sk-toggleable__label-arrow:hover:before {color: black;}#sk-container-id-1 div.sk-estimator:hover label.sk-toggleable__label-arrow:before {color: black;}#sk-container-id-1 div.sk-toggleable__content {max-height: 0;max-width: 0;overflow: hidden;text-align: left;background-color: #f0f8ff;}#sk-container-id-1 div.sk-toggleable__content pre {margin: 0.2em;color: black;border-radius: 0.25em;background-color: #f0f8ff;}#sk-container-id-1 input.sk-toggleable__control:checked~div.sk-toggleable__content {max-height: 200px;max-width: 100%;overflow: auto;}#sk-container-id-1 input.sk-toggleable__control:checked~label.sk-toggleable__label-arrow:before {content: \"▾\";}#sk-container-id-1 div.sk-estimator input.sk-toggleable__control:checked~label.sk-toggleable__label {background-color: #d4ebff;}#sk-container-id-1 div.sk-label input.sk-toggleable__control:checked~label.sk-toggleable__label {background-color: #d4ebff;}#sk-container-id-1 input.sk-hidden--visually {border: 0;clip: rect(1px 1px 1px 1px);clip: rect(1px, 1px, 1px, 1px);height: 1px;margin: -1px;overflow: hidden;padding: 0;position: absolute;width: 1px;}#sk-container-id-1 div.sk-estimator {font-family: monospace;background-color: #f0f8ff;border: 1px dotted black;border-radius: 0.25em;box-sizing: border-box;margin-bottom: 0.5em;}#sk-container-id-1 div.sk-estimator:hover {background-color: #d4ebff;}#sk-container-id-1 div.sk-parallel-item::after {content: \"\";width: 100%;border-bottom: 1px solid gray;flex-grow: 1;}#sk-container-id-1 div.sk-label:hover label.sk-toggleable__label {background-color: #d4ebff;}#sk-container-id-1 div.sk-serial::before {content: \"\";position: absolute;border-left: 1px solid gray;box-sizing: border-box;top: 0;bottom: 0;left: 50%;z-index: 0;}#sk-container-id-1 div.sk-serial {display: flex;flex-direction: column;align-items: center;background-color: white;padding-right: 0.2em;padding-left: 0.2em;position: relative;}#sk-container-id-1 div.sk-item {position: relative;z-index: 1;}#sk-container-id-1 div.sk-parallel {display: flex;align-items: stretch;justify-content: center;background-color: white;position: relative;}#sk-container-id-1 div.sk-item::before, #sk-container-id-1 div.sk-parallel-item::before {content: \"\";position: absolute;border-left: 1px solid gray;box-sizing: border-box;top: 0;bottom: 0;left: 50%;z-index: -1;}#sk-container-id-1 div.sk-parallel-item {display: flex;flex-direction: column;z-index: 1;position: relative;background-color: white;}#sk-container-id-1 div.sk-parallel-item:first-child::after {align-self: flex-end;width: 50%;}#sk-container-id-1 div.sk-parallel-item:last-child::after {align-self: flex-start;width: 50%;}#sk-container-id-1 div.sk-parallel-item:only-child::after {width: 0;}#sk-container-id-1 div.sk-dashed-wrapped {border: 1px dashed gray;margin: 0 0.4em 0.5em 0.4em;box-sizing: border-box;padding-bottom: 0.4em;background-color: white;}#sk-container-id-1 div.sk-label label {font-family: monospace;font-weight: bold;display: inline-block;line-height: 1.2em;}#sk-container-id-1 div.sk-label-container {text-align: center;}#sk-container-id-1 div.sk-container {/* jupyter's `normalize.less` sets `[hidden] { display: none; }` but bootstrap.min.css set `[hidden] { display: none !important; }` so we also need the `!important` here to be able to override the default hidden behavior on the sphinx rendered scikit-learn.org. See: https://github.com/scikit-learn/scikit-learn/issues/21755 */display: inline-block !important;position: relative;}#sk-container-id-1 div.sk-text-repr-fallback {display: none;}</style><div id=\"sk-container-id-1\" class=\"sk-top-container\"><div class=\"sk-text-repr-fallback\"><pre>Pipeline(steps=[(&#x27;preprocessor&#x27;,\n",
       "                 ColumnTransformer(remainder=&#x27;passthrough&#x27;,\n",
       "                                   transformers=[(&#x27;target_encode&#x27;,\n",
       "                                                  OneHotEncoder(),\n",
       "                                                  [&#x27;Month&#x27;, &#x27;VisitorType&#x27;,\n",
       "                                                   &#x27;Weekend&#x27;]),\n",
       "                                                 (&#x27;scale&#x27;, MinMaxScaler(),\n",
       "                                                  [&#x27;Administrative&#x27;,\n",
       "                                                   &#x27;Administrative_Duration&#x27;,\n",
       "                                                   &#x27;Informational&#x27;,\n",
       "                                                   &#x27;Informational_Duration&#x27;,\n",
       "                                                   &#x27;ProductRelated&#x27;,\n",
       "                                                   &#x27;ProductRelated_Duration&#x27;,\n",
       "                                                   &#x27;BounceRates&#x27;, &#x27;ExitRates&#x27;,\n",
       "                                                   &#x27;PageValues&#x27;,\n",
       "                                                   &#x27;SpecialDay&#x27;])]))])</pre><b>In a Jupyter environment, please rerun this cell to show the HTML representation or trust the notebook. <br />On GitHub, the HTML representation is unable to render, please try loading this page with nbviewer.org.</b></div><div class=\"sk-container\" hidden><div class=\"sk-item sk-dashed-wrapped\"><div class=\"sk-label-container\"><div class=\"sk-label sk-toggleable\"><input class=\"sk-toggleable__control sk-hidden--visually\" id=\"sk-estimator-id-1\" type=\"checkbox\" ><label for=\"sk-estimator-id-1\" class=\"sk-toggleable__label sk-toggleable__label-arrow\">Pipeline</label><div class=\"sk-toggleable__content\"><pre>Pipeline(steps=[(&#x27;preprocessor&#x27;,\n",
       "                 ColumnTransformer(remainder=&#x27;passthrough&#x27;,\n",
       "                                   transformers=[(&#x27;target_encode&#x27;,\n",
       "                                                  OneHotEncoder(),\n",
       "                                                  [&#x27;Month&#x27;, &#x27;VisitorType&#x27;,\n",
       "                                                   &#x27;Weekend&#x27;]),\n",
       "                                                 (&#x27;scale&#x27;, MinMaxScaler(),\n",
       "                                                  [&#x27;Administrative&#x27;,\n",
       "                                                   &#x27;Administrative_Duration&#x27;,\n",
       "                                                   &#x27;Informational&#x27;,\n",
       "                                                   &#x27;Informational_Duration&#x27;,\n",
       "                                                   &#x27;ProductRelated&#x27;,\n",
       "                                                   &#x27;ProductRelated_Duration&#x27;,\n",
       "                                                   &#x27;BounceRates&#x27;, &#x27;ExitRates&#x27;,\n",
       "                                                   &#x27;PageValues&#x27;,\n",
       "                                                   &#x27;SpecialDay&#x27;])]))])</pre></div></div></div><div class=\"sk-serial\"><div class=\"sk-item sk-dashed-wrapped\"><div class=\"sk-label-container\"><div class=\"sk-label sk-toggleable\"><input class=\"sk-toggleable__control sk-hidden--visually\" id=\"sk-estimator-id-2\" type=\"checkbox\" ><label for=\"sk-estimator-id-2\" class=\"sk-toggleable__label sk-toggleable__label-arrow\">preprocessor: ColumnTransformer</label><div class=\"sk-toggleable__content\"><pre>ColumnTransformer(remainder=&#x27;passthrough&#x27;,\n",
       "                  transformers=[(&#x27;target_encode&#x27;, OneHotEncoder(),\n",
       "                                 [&#x27;Month&#x27;, &#x27;VisitorType&#x27;, &#x27;Weekend&#x27;]),\n",
       "                                (&#x27;scale&#x27;, MinMaxScaler(),\n",
       "                                 [&#x27;Administrative&#x27;, &#x27;Administrative_Duration&#x27;,\n",
       "                                  &#x27;Informational&#x27;, &#x27;Informational_Duration&#x27;,\n",
       "                                  &#x27;ProductRelated&#x27;, &#x27;ProductRelated_Duration&#x27;,\n",
       "                                  &#x27;BounceRates&#x27;, &#x27;ExitRates&#x27;, &#x27;PageValues&#x27;,\n",
       "                                  &#x27;SpecialDay&#x27;])])</pre></div></div></div><div class=\"sk-parallel\"><div class=\"sk-parallel-item\"><div class=\"sk-item\"><div class=\"sk-label-container\"><div class=\"sk-label sk-toggleable\"><input class=\"sk-toggleable__control sk-hidden--visually\" id=\"sk-estimator-id-3\" type=\"checkbox\" ><label for=\"sk-estimator-id-3\" class=\"sk-toggleable__label sk-toggleable__label-arrow\">target_encode</label><div class=\"sk-toggleable__content\"><pre>[&#x27;Month&#x27;, &#x27;VisitorType&#x27;, &#x27;Weekend&#x27;]</pre></div></div></div><div class=\"sk-serial\"><div class=\"sk-item\"><div class=\"sk-estimator sk-toggleable\"><input class=\"sk-toggleable__control sk-hidden--visually\" id=\"sk-estimator-id-4\" type=\"checkbox\" ><label for=\"sk-estimator-id-4\" class=\"sk-toggleable__label sk-toggleable__label-arrow\">OneHotEncoder</label><div class=\"sk-toggleable__content\"><pre>OneHotEncoder()</pre></div></div></div></div></div></div><div class=\"sk-parallel-item\"><div class=\"sk-item\"><div class=\"sk-label-container\"><div class=\"sk-label sk-toggleable\"><input class=\"sk-toggleable__control sk-hidden--visually\" id=\"sk-estimator-id-5\" type=\"checkbox\" ><label for=\"sk-estimator-id-5\" class=\"sk-toggleable__label sk-toggleable__label-arrow\">scale</label><div class=\"sk-toggleable__content\"><pre>[&#x27;Administrative&#x27;, &#x27;Administrative_Duration&#x27;, &#x27;Informational&#x27;, &#x27;Informational_Duration&#x27;, &#x27;ProductRelated&#x27;, &#x27;ProductRelated_Duration&#x27;, &#x27;BounceRates&#x27;, &#x27;ExitRates&#x27;, &#x27;PageValues&#x27;, &#x27;SpecialDay&#x27;]</pre></div></div></div><div class=\"sk-serial\"><div class=\"sk-item\"><div class=\"sk-estimator sk-toggleable\"><input class=\"sk-toggleable__control sk-hidden--visually\" id=\"sk-estimator-id-6\" type=\"checkbox\" ><label for=\"sk-estimator-id-6\" class=\"sk-toggleable__label sk-toggleable__label-arrow\">MinMaxScaler</label><div class=\"sk-toggleable__content\"><pre>MinMaxScaler()</pre></div></div></div></div></div></div><div class=\"sk-parallel-item\"><div class=\"sk-item\"><div class=\"sk-label-container\"><div class=\"sk-label sk-toggleable\"><input class=\"sk-toggleable__control sk-hidden--visually\" id=\"sk-estimator-id-7\" type=\"checkbox\" ><label for=\"sk-estimator-id-7\" class=\"sk-toggleable__label sk-toggleable__label-arrow\">remainder</label><div class=\"sk-toggleable__content\"><pre>[&#x27;OperatingSystems&#x27;, &#x27;Browser&#x27;, &#x27;Region&#x27;, &#x27;TrafficType&#x27;]</pre></div></div></div><div class=\"sk-serial\"><div class=\"sk-item\"><div class=\"sk-estimator sk-toggleable\"><input class=\"sk-toggleable__control sk-hidden--visually\" id=\"sk-estimator-id-8\" type=\"checkbox\" ><label for=\"sk-estimator-id-8\" class=\"sk-toggleable__label sk-toggleable__label-arrow\">passthrough</label><div class=\"sk-toggleable__content\"><pre>passthrough</pre></div></div></div></div></div></div></div></div></div></div></div></div>"
      ],
      "text/plain": [
       "Pipeline(steps=[('preprocessor',\n",
       "                 ColumnTransformer(remainder='passthrough',\n",
       "                                   transformers=[('target_encode',\n",
       "                                                  OneHotEncoder(),\n",
       "                                                  ['Month', 'VisitorType',\n",
       "                                                   'Weekend']),\n",
       "                                                 ('scale', MinMaxScaler(),\n",
       "                                                  ['Administrative',\n",
       "                                                   'Administrative_Duration',\n",
       "                                                   'Informational',\n",
       "                                                   'Informational_Duration',\n",
       "                                                   'ProductRelated',\n",
       "                                                   'ProductRelated_Duration',\n",
       "                                                   'BounceRates', 'ExitRates',\n",
       "                                                   'PageValues',\n",
       "                                                   'SpecialDay'])]))])"
      ]
     },
     "execution_count": 38,
     "metadata": {},
     "output_type": "execute_result"
    }
   ],
   "source": [
    "# Define the column transformer\n",
    "preprocessor = ColumnTransformer(\n",
    "    transformers=[\n",
    "        ('target_encode', oheencoder, cat_col_1),\n",
    "        ('scale', scaler, num_col)\n",
    "    ], remainder='passthrough')\n",
    "# Define the pipeline\n",
    "preprocess_pipeline = Pipeline(steps=[\n",
    "    ('preprocessor', preprocessor)\n",
    "])\n",
    "# Fit pipeline with X_train\n",
    "preprocess_pipeline.fit(X_train,y_train)"
   ]
  },
  {
   "cell_type": "code",
   "execution_count": 39,
   "metadata": {},
   "outputs": [],
   "source": [
    "X_train_pipeline = preprocess_pipeline.transform(X_train)\n",
    "X_test_pipeline = preprocess_pipeline.transform(X_test)"
   ]
  },
  {
   "cell_type": "markdown",
   "metadata": {},
   "source": [
    "### Dimensionality Reduction"
   ]
  },
  {
   "cell_type": "code",
   "execution_count": 40,
   "metadata": {},
   "outputs": [],
   "source": [
    "from sklearn.decomposition import PCA"
   ]
  },
  {
   "cell_type": "code",
   "execution_count": 41,
   "metadata": {},
   "outputs": [
    {
     "data": {
      "image/png": "[encoded data removed]",
      "text/plain": [
       "<Figure size 600x400 with 1 Axes>"
      ]
     },
     "metadata": {},
     "output_type": "display_data"
    }
   ],
   "source": [
    "# Dimensionality Reduction using PCA\n",
    "\n",
    "\n",
    "pca = PCA()\n",
    "pca.fit(X_train_pipeline)\n",
    "\n",
    "cumsum = np.cumsum(pca.explained_variance_ratio_)\n",
    "d = np.argmax(cumsum >= 0.95) + 1\n",
    "\n",
    "plt.figure(figsize=(6,4))\n",
    "plt.plot(cumsum, linewidth=3)\n",
    "plt.axis([0, 10, 0, 1])\n",
    "plt.xlabel(\"Dimensions\")\n",
    "plt.ylabel(\"Cumulative of Explained Var Ratio\")\n",
    "plt.plot([d, d], [0, 0.95], \"k:\")           \n",
    "plt.plot([0, d], [0.95, 0.95], \"k:\")        \n",
    "plt.plot(d, 0.95, \"ko\")                    \n",
    "plt.grid(True)\n",
    "plt.show()"
   ]
  },
  {
   "cell_type": "code",
   "execution_count": 42,
   "metadata": {},
   "outputs": [
    {
     "data": {
      "text/plain": [
       "5"
      ]
     },
     "execution_count": 42,
     "metadata": {},
     "output_type": "execute_result"
    }
   ],
   "source": [
    "cumsum = np.cumsum(pca.explained_variance_ratio_)\n",
    "num_features = np.argmax(cumsum >= 0.95) + 1\n",
    "num_features"
   ]
  },
  {
   "cell_type": "markdown",
   "metadata": {},
   "source": [
    "Berdasarkan hasil PCA, ternyata untuk menghapus column yang optimal berada di angka 5 column supaya menyisakan sebanyak 95% dari data maka untuk proses ini akan kita bedakan hasil dengan PCA, dan Hasil tanpa PCA untuk menentukan mana yang lebih baik"
   ]
  },
  {
   "cell_type": "code",
   "execution_count": 43,
   "metadata": {},
   "outputs": [],
   "source": [
    "pca = PCA()\n",
    "pca.fit(X_train_pipeline)\n",
    "\n",
    "X_train_final_pca = pca.transform(X_train_pipeline)\n",
    "X_test_final_pca = pca.transform(X_test_pipeline)"
   ]
  },
  {
   "cell_type": "markdown",
   "metadata": {},
   "source": [
    "### Feature Selection"
   ]
  },
  {
   "cell_type": "code",
   "execution_count": 44,
   "metadata": {},
   "outputs": [],
   "source": [
    "import phik"
   ]
  },
  {
   "cell_type": "code",
   "execution_count": 45,
   "metadata": {},
   "outputs": [
    {
     "name": "stdout",
     "output_type": "stream",
     "text": [
      "interval columns not set, guessing: ['Administrative', 'Administrative_Duration', 'Informational', 'Informational_Duration', 'ProductRelated', 'ProductRelated_Duration', 'BounceRates', 'ExitRates', 'PageValues', 'SpecialDay', 'OperatingSystems', 'Browser', 'Region', 'TrafficType']\n"
     ]
    },
    {
     "data": {
      "text/html": [
       "<div>\n",
       "<style scoped>\n",
       "    .dataframe tbody tr th:only-of-type {\n",
       "        vertical-align: middle;\n",
       "    }\n",
       "\n",
       "    .dataframe tbody tr th {\n",
       "        vertical-align: top;\n",
       "    }\n",
       "\n",
       "    .dataframe thead th {\n",
       "        text-align: right;\n",
       "    }\n",
       "</style>\n",
       "<table border=\"1\" class=\"dataframe\">\n",
       "  <thead>\n",
       "    <tr style=\"text-align: right;\">\n",
       "      <th></th>\n",
       "      <th>Administrative</th>\n",
       "      <th>Administrative_Duration</th>\n",
       "      <th>Informational</th>\n",
       "      <th>Informational_Duration</th>\n",
       "      <th>ProductRelated</th>\n",
       "      <th>ProductRelated_Duration</th>\n",
       "      <th>BounceRates</th>\n",
       "      <th>ExitRates</th>\n",
       "      <th>PageValues</th>\n",
       "      <th>SpecialDay</th>\n",
       "      <th>Month</th>\n",
       "      <th>OperatingSystems</th>\n",
       "      <th>Browser</th>\n",
       "      <th>Region</th>\n",
       "      <th>TrafficType</th>\n",
       "      <th>VisitorType</th>\n",
       "      <th>Weekend</th>\n",
       "      <th>Revenue</th>\n",
       "    </tr>\n",
       "  </thead>\n",
       "  <tbody>\n",
       "    <tr>\n",
       "      <th>Administrative</th>\n",
       "      <td>1.000000</td>\n",
       "      <td>0.474217</td>\n",
       "      <td>0.307671</td>\n",
       "      <td>0.299579</td>\n",
       "      <td>0.706843</td>\n",
       "      <td>0.371062</td>\n",
       "      <td>0.255614</td>\n",
       "      <td>0.369687</td>\n",
       "      <td>0.058617</td>\n",
       "      <td>0.082386</td>\n",
       "      <td>0.160542</td>\n",
       "      <td>0.035676</td>\n",
       "      <td>0.000000</td>\n",
       "      <td>0.008591</td>\n",
       "      <td>0.093598</td>\n",
       "      <td>0.142535</td>\n",
       "      <td>0.033214</td>\n",
       "      <td>0.167358</td>\n",
       "    </tr>\n",
       "    <tr>\n",
       "      <th>Administrative_Duration</th>\n",
       "      <td>0.474217</td>\n",
       "      <td>1.000000</td>\n",
       "      <td>0.470209</td>\n",
       "      <td>0.809708</td>\n",
       "      <td>0.582830</td>\n",
       "      <td>0.754630</td>\n",
       "      <td>0.048960</td>\n",
       "      <td>0.109681</td>\n",
       "      <td>0.000000</td>\n",
       "      <td>0.000000</td>\n",
       "      <td>0.061998</td>\n",
       "      <td>0.000000</td>\n",
       "      <td>0.000000</td>\n",
       "      <td>0.000000</td>\n",
       "      <td>0.000000</td>\n",
       "      <td>0.014261</td>\n",
       "      <td>0.000000</td>\n",
       "      <td>0.081927</td>\n",
       "    </tr>\n",
       "    <tr>\n",
       "      <th>Informational</th>\n",
       "      <td>0.307671</td>\n",
       "      <td>0.470209</td>\n",
       "      <td>1.000000</td>\n",
       "      <td>0.532162</td>\n",
       "      <td>0.532295</td>\n",
       "      <td>0.662216</td>\n",
       "      <td>0.051621</td>\n",
       "      <td>0.097803</td>\n",
       "      <td>0.000000</td>\n",
       "      <td>0.017527</td>\n",
       "      <td>0.036558</td>\n",
       "      <td>0.000000</td>\n",
       "      <td>0.000000</td>\n",
       "      <td>0.011676</td>\n",
       "      <td>0.051331</td>\n",
       "      <td>0.046149</td>\n",
       "      <td>0.030849</td>\n",
       "      <td>0.100493</td>\n",
       "    </tr>\n",
       "    <tr>\n",
       "      <th>Informational_Duration</th>\n",
       "      <td>0.299579</td>\n",
       "      <td>0.809708</td>\n",
       "      <td>0.532162</td>\n",
       "      <td>1.000000</td>\n",
       "      <td>0.532656</td>\n",
       "      <td>0.743941</td>\n",
       "      <td>0.000000</td>\n",
       "      <td>0.079085</td>\n",
       "      <td>0.000000</td>\n",
       "      <td>0.000000</td>\n",
       "      <td>0.027303</td>\n",
       "      <td>0.000000</td>\n",
       "      <td>0.000000</td>\n",
       "      <td>0.000000</td>\n",
       "      <td>0.040437</td>\n",
       "      <td>0.015302</td>\n",
       "      <td>0.000000</td>\n",
       "      <td>0.087157</td>\n",
       "    </tr>\n",
       "    <tr>\n",
       "      <th>ProductRelated</th>\n",
       "      <td>0.706843</td>\n",
       "      <td>0.582830</td>\n",
       "      <td>0.532295</td>\n",
       "      <td>0.532656</td>\n",
       "      <td>1.000000</td>\n",
       "      <td>0.773940</td>\n",
       "      <td>0.139568</td>\n",
       "      <td>0.215937</td>\n",
       "      <td>0.000000</td>\n",
       "      <td>0.000000</td>\n",
       "      <td>0.217468</td>\n",
       "      <td>0.072417</td>\n",
       "      <td>0.000000</td>\n",
       "      <td>0.015921</td>\n",
       "      <td>0.096444</td>\n",
       "      <td>0.133240</td>\n",
       "      <td>0.000000</td>\n",
       "      <td>0.163541</td>\n",
       "    </tr>\n",
       "    <tr>\n",
       "      <th>ProductRelated_Duration</th>\n",
       "      <td>0.371062</td>\n",
       "      <td>0.754630</td>\n",
       "      <td>0.662216</td>\n",
       "      <td>0.743941</td>\n",
       "      <td>0.773940</td>\n",
       "      <td>1.000000</td>\n",
       "      <td>0.019247</td>\n",
       "      <td>0.054528</td>\n",
       "      <td>0.000000</td>\n",
       "      <td>0.000000</td>\n",
       "      <td>0.092169</td>\n",
       "      <td>0.036508</td>\n",
       "      <td>0.000000</td>\n",
       "      <td>0.000000</td>\n",
       "      <td>0.028366</td>\n",
       "      <td>0.053705</td>\n",
       "      <td>0.003783</td>\n",
       "      <td>0.066571</td>\n",
       "    </tr>\n",
       "    <tr>\n",
       "      <th>BounceRates</th>\n",
       "      <td>0.255614</td>\n",
       "      <td>0.048960</td>\n",
       "      <td>0.051621</td>\n",
       "      <td>0.000000</td>\n",
       "      <td>0.139568</td>\n",
       "      <td>0.019247</td>\n",
       "      <td>1.000000</td>\n",
       "      <td>0.907370</td>\n",
       "      <td>0.056028</td>\n",
       "      <td>0.149197</td>\n",
       "      <td>0.165776</td>\n",
       "      <td>0.158140</td>\n",
       "      <td>0.066531</td>\n",
       "      <td>0.035959</td>\n",
       "      <td>0.257827</td>\n",
       "      <td>0.196976</td>\n",
       "      <td>0.051094</td>\n",
       "      <td>0.217242</td>\n",
       "    </tr>\n",
       "    <tr>\n",
       "      <th>ExitRates</th>\n",
       "      <td>0.369687</td>\n",
       "      <td>0.109681</td>\n",
       "      <td>0.097803</td>\n",
       "      <td>0.079085</td>\n",
       "      <td>0.215937</td>\n",
       "      <td>0.054528</td>\n",
       "      <td>0.907370</td>\n",
       "      <td>1.000000</td>\n",
       "      <td>0.132936</td>\n",
       "      <td>0.159263</td>\n",
       "      <td>0.183584</td>\n",
       "      <td>0.101112</td>\n",
       "      <td>0.067363</td>\n",
       "      <td>0.033899</td>\n",
       "      <td>0.235470</td>\n",
       "      <td>0.282593</td>\n",
       "      <td>0.076478</td>\n",
       "      <td>0.319236</td>\n",
       "    </tr>\n",
       "    <tr>\n",
       "      <th>PageValues</th>\n",
       "      <td>0.058617</td>\n",
       "      <td>0.000000</td>\n",
       "      <td>0.000000</td>\n",
       "      <td>0.000000</td>\n",
       "      <td>0.000000</td>\n",
       "      <td>0.000000</td>\n",
       "      <td>0.056028</td>\n",
       "      <td>0.132936</td>\n",
       "      <td>1.000000</td>\n",
       "      <td>0.021008</td>\n",
       "      <td>0.040873</td>\n",
       "      <td>0.093223</td>\n",
       "      <td>0.086907</td>\n",
       "      <td>0.075252</td>\n",
       "      <td>0.076345</td>\n",
       "      <td>0.245551</td>\n",
       "      <td>0.030945</td>\n",
       "      <td>0.412695</td>\n",
       "    </tr>\n",
       "    <tr>\n",
       "      <th>SpecialDay</th>\n",
       "      <td>0.082386</td>\n",
       "      <td>0.000000</td>\n",
       "      <td>0.017527</td>\n",
       "      <td>0.000000</td>\n",
       "      <td>0.000000</td>\n",
       "      <td>0.000000</td>\n",
       "      <td>0.149197</td>\n",
       "      <td>0.159263</td>\n",
       "      <td>0.021008</td>\n",
       "      <td>1.000000</td>\n",
       "      <td>0.422008</td>\n",
       "      <td>0.049602</td>\n",
       "      <td>0.000000</td>\n",
       "      <td>0.011078</td>\n",
       "      <td>0.182722</td>\n",
       "      <td>0.155571</td>\n",
       "      <td>0.361734</td>\n",
       "      <td>0.121517</td>\n",
       "    </tr>\n",
       "    <tr>\n",
       "      <th>Month</th>\n",
       "      <td>0.160542</td>\n",
       "      <td>0.061998</td>\n",
       "      <td>0.036558</td>\n",
       "      <td>0.027303</td>\n",
       "      <td>0.217468</td>\n",
       "      <td>0.092169</td>\n",
       "      <td>0.165776</td>\n",
       "      <td>0.183584</td>\n",
       "      <td>0.040873</td>\n",
       "      <td>0.422008</td>\n",
       "      <td>1.000000</td>\n",
       "      <td>0.116063</td>\n",
       "      <td>0.181661</td>\n",
       "      <td>0.080001</td>\n",
       "      <td>0.467366</td>\n",
       "      <td>0.220446</td>\n",
       "      <td>0.076857</td>\n",
       "      <td>0.226319</td>\n",
       "    </tr>\n",
       "    <tr>\n",
       "      <th>OperatingSystems</th>\n",
       "      <td>0.035676</td>\n",
       "      <td>0.000000</td>\n",
       "      <td>0.000000</td>\n",
       "      <td>0.000000</td>\n",
       "      <td>0.072417</td>\n",
       "      <td>0.036508</td>\n",
       "      <td>0.158140</td>\n",
       "      <td>0.101112</td>\n",
       "      <td>0.093223</td>\n",
       "      <td>0.049602</td>\n",
       "      <td>0.116063</td>\n",
       "      <td>1.000000</td>\n",
       "      <td>0.749101</td>\n",
       "      <td>0.224719</td>\n",
       "      <td>0.346513</td>\n",
       "      <td>0.585759</td>\n",
       "      <td>0.156470</td>\n",
       "      <td>0.099573</td>\n",
       "    </tr>\n",
       "    <tr>\n",
       "      <th>Browser</th>\n",
       "      <td>0.000000</td>\n",
       "      <td>0.000000</td>\n",
       "      <td>0.000000</td>\n",
       "      <td>0.000000</td>\n",
       "      <td>0.000000</td>\n",
       "      <td>0.000000</td>\n",
       "      <td>0.066531</td>\n",
       "      <td>0.067363</td>\n",
       "      <td>0.086907</td>\n",
       "      <td>0.000000</td>\n",
       "      <td>0.181661</td>\n",
       "      <td>0.749101</td>\n",
       "      <td>1.000000</td>\n",
       "      <td>0.241655</td>\n",
       "      <td>0.500875</td>\n",
       "      <td>0.618036</td>\n",
       "      <td>0.079422</td>\n",
       "      <td>0.052140</td>\n",
       "    </tr>\n",
       "    <tr>\n",
       "      <th>Region</th>\n",
       "      <td>0.008591</td>\n",
       "      <td>0.000000</td>\n",
       "      <td>0.011676</td>\n",
       "      <td>0.000000</td>\n",
       "      <td>0.015921</td>\n",
       "      <td>0.000000</td>\n",
       "      <td>0.035959</td>\n",
       "      <td>0.033899</td>\n",
       "      <td>0.075252</td>\n",
       "      <td>0.011078</td>\n",
       "      <td>0.080001</td>\n",
       "      <td>0.224719</td>\n",
       "      <td>0.241655</td>\n",
       "      <td>1.000000</td>\n",
       "      <td>0.149385</td>\n",
       "      <td>0.363687</td>\n",
       "      <td>0.015218</td>\n",
       "      <td>0.011806</td>\n",
       "    </tr>\n",
       "    <tr>\n",
       "      <th>TrafficType</th>\n",
       "      <td>0.093598</td>\n",
       "      <td>0.000000</td>\n",
       "      <td>0.051331</td>\n",
       "      <td>0.040437</td>\n",
       "      <td>0.096444</td>\n",
       "      <td>0.028366</td>\n",
       "      <td>0.257827</td>\n",
       "      <td>0.235470</td>\n",
       "      <td>0.076345</td>\n",
       "      <td>0.182722</td>\n",
       "      <td>0.467366</td>\n",
       "      <td>0.346513</td>\n",
       "      <td>0.500875</td>\n",
       "      <td>0.149385</td>\n",
       "      <td>1.000000</td>\n",
       "      <td>0.453164</td>\n",
       "      <td>0.118212</td>\n",
       "      <td>0.156968</td>\n",
       "    </tr>\n",
       "    <tr>\n",
       "      <th>VisitorType</th>\n",
       "      <td>0.142535</td>\n",
       "      <td>0.014261</td>\n",
       "      <td>0.046149</td>\n",
       "      <td>0.015302</td>\n",
       "      <td>0.133240</td>\n",
       "      <td>0.053705</td>\n",
       "      <td>0.196976</td>\n",
       "      <td>0.282593</td>\n",
       "      <td>0.245551</td>\n",
       "      <td>0.155571</td>\n",
       "      <td>0.220446</td>\n",
       "      <td>0.585759</td>\n",
       "      <td>0.618036</td>\n",
       "      <td>0.363687</td>\n",
       "      <td>0.453164</td>\n",
       "      <td>1.000000</td>\n",
       "      <td>0.031261</td>\n",
       "      <td>0.061890</td>\n",
       "    </tr>\n",
       "    <tr>\n",
       "      <th>Weekend</th>\n",
       "      <td>0.033214</td>\n",
       "      <td>0.000000</td>\n",
       "      <td>0.030849</td>\n",
       "      <td>0.000000</td>\n",
       "      <td>0.000000</td>\n",
       "      <td>0.003783</td>\n",
       "      <td>0.051094</td>\n",
       "      <td>0.076478</td>\n",
       "      <td>0.030945</td>\n",
       "      <td>0.361734</td>\n",
       "      <td>0.076857</td>\n",
       "      <td>0.156470</td>\n",
       "      <td>0.079422</td>\n",
       "      <td>0.015218</td>\n",
       "      <td>0.118212</td>\n",
       "      <td>0.031261</td>\n",
       "      <td>1.000000</td>\n",
       "      <td>0.040686</td>\n",
       "    </tr>\n",
       "    <tr>\n",
       "      <th>Revenue</th>\n",
       "      <td>0.167358</td>\n",
       "      <td>0.081927</td>\n",
       "      <td>0.100493</td>\n",
       "      <td>0.087157</td>\n",
       "      <td>0.163541</td>\n",
       "      <td>0.066571</td>\n",
       "      <td>0.217242</td>\n",
       "      <td>0.319236</td>\n",
       "      <td>0.412695</td>\n",
       "      <td>0.121517</td>\n",
       "      <td>0.226319</td>\n",
       "      <td>0.099573</td>\n",
       "      <td>0.052140</td>\n",
       "      <td>0.011806</td>\n",
       "      <td>0.156968</td>\n",
       "      <td>0.061890</td>\n",
       "      <td>0.040686</td>\n",
       "      <td>1.000000</td>\n",
       "    </tr>\n",
       "  </tbody>\n",
       "</table>\n",
       "</div>"
      ],
      "text/plain": [
       "                         Administrative  Administrative_Duration  \\\n",
       "Administrative                 1.000000                 0.474217   \n",
       "Administrative_Duration        0.474217                 1.000000   \n",
       "Informational                  0.307671                 0.470209   \n",
       "Informational_Duration         0.299579                 0.809708   \n",
       "ProductRelated                 0.706843                 0.582830   \n",
       "ProductRelated_Duration        0.371062                 0.754630   \n",
       "BounceRates                    0.255614                 0.048960   \n",
       "ExitRates                      0.369687                 0.109681   \n",
       "PageValues                     0.058617                 0.000000   \n",
       "SpecialDay                     0.082386                 0.000000   \n",
       "Month                          0.160542                 0.061998   \n",
       "OperatingSystems               0.035676                 0.000000   \n",
       "Browser                        0.000000                 0.000000   \n",
       "Region                         0.008591                 0.000000   \n",
       "TrafficType                    0.093598                 0.000000   \n",
       "VisitorType                    0.142535                 0.014261   \n",
       "Weekend                        0.033214                 0.000000   \n",
       "Revenue                        0.167358                 0.081927   \n",
       "\n",
       "                         Informational  Informational_Duration  \\\n",
       "Administrative                0.307671                0.299579   \n",
       "Administrative_Duration       0.470209                0.809708   \n",
       "Informational                 1.000000                0.532162   \n",
       "Informational_Duration        0.532162                1.000000   \n",
       "ProductRelated                0.532295                0.532656   \n",
       "ProductRelated_Duration       0.662216                0.743941   \n",
       "BounceRates                   0.051621                0.000000   \n",
       "ExitRates                     0.097803                0.079085   \n",
       "PageValues                    0.000000                0.000000   \n",
       "SpecialDay                    0.017527                0.000000   \n",
       "Month                         0.036558                0.027303   \n",
       "OperatingSystems              0.000000                0.000000   \n",
       "Browser                       0.000000                0.000000   \n",
       "Region                        0.011676                0.000000   \n",
       "TrafficType                   0.051331                0.040437   \n",
       "VisitorType                   0.046149                0.015302   \n",
       "Weekend                       0.030849                0.000000   \n",
       "Revenue                       0.100493                0.087157   \n",
       "\n",
       "                         ProductRelated  ProductRelated_Duration  BounceRates  \\\n",
       "Administrative                 0.706843                 0.371062     0.255614   \n",
       "Administrative_Duration        0.582830                 0.754630     0.048960   \n",
       "Informational                  0.532295                 0.662216     0.051621   \n",
       "Informational_Duration         0.532656                 0.743941     0.000000   \n",
       "ProductRelated                 1.000000                 0.773940     0.139568   \n",
       "ProductRelated_Duration        0.773940                 1.000000     0.019247   \n",
       "BounceRates                    0.139568                 0.019247     1.000000   \n",
       "ExitRates                      0.215937                 0.054528     0.907370   \n",
       "PageValues                     0.000000                 0.000000     0.056028   \n",
       "SpecialDay                     0.000000                 0.000000     0.149197   \n",
       "Month                          0.217468                 0.092169     0.165776   \n",
       "OperatingSystems               0.072417                 0.036508     0.158140   \n",
       "Browser                        0.000000                 0.000000     0.066531   \n",
       "Region                         0.015921                 0.000000     0.035959   \n",
       "TrafficType                    0.096444                 0.028366     0.257827   \n",
       "VisitorType                    0.133240                 0.053705     0.196976   \n",
       "Weekend                        0.000000                 0.003783     0.051094   \n",
       "Revenue                        0.163541                 0.066571     0.217242   \n",
       "\n",
       "                         ExitRates  PageValues  SpecialDay     Month  \\\n",
       "Administrative            0.369687    0.058617    0.082386  0.160542   \n",
       "Administrative_Duration   0.109681    0.000000    0.000000  0.061998   \n",
       "Informational             0.097803    0.000000    0.017527  0.036558   \n",
       "Informational_Duration    0.079085    0.000000    0.000000  0.027303   \n",
       "ProductRelated            0.215937    0.000000    0.000000  0.217468   \n",
       "ProductRelated_Duration   0.054528    0.000000    0.000000  0.092169   \n",
       "BounceRates               0.907370    0.056028    0.149197  0.165776   \n",
       "ExitRates                 1.000000    0.132936    0.159263  0.183584   \n",
       "PageValues                0.132936    1.000000    0.021008  0.040873   \n",
       "SpecialDay                0.159263    0.021008    1.000000  0.422008   \n",
       "Month                     0.183584    0.040873    0.422008  1.000000   \n",
       "OperatingSystems          0.101112    0.093223    0.049602  0.116063   \n",
       "Browser                   0.067363    0.086907    0.000000  0.181661   \n",
       "Region                    0.033899    0.075252    0.011078  0.080001   \n",
       "TrafficType               0.235470    0.076345    0.182722  0.467366   \n",
       "VisitorType               0.282593    0.245551    0.155571  0.220446   \n",
       "Weekend                   0.076478    0.030945    0.361734  0.076857   \n",
       "Revenue                   0.319236    0.412695    0.121517  0.226319   \n",
       "\n",
       "                         OperatingSystems   Browser    Region  TrafficType  \\\n",
       "Administrative                   0.035676  0.000000  0.008591     0.093598   \n",
       "Administrative_Duration          0.000000  0.000000  0.000000     0.000000   \n",
       "Informational                    0.000000  0.000000  0.011676     0.051331   \n",
       "Informational_Duration           0.000000  0.000000  0.000000     0.040437   \n",
       "ProductRelated                   0.072417  0.000000  0.015921     0.096444   \n",
       "ProductRelated_Duration          0.036508  0.000000  0.000000     0.028366   \n",
       "BounceRates                      0.158140  0.066531  0.035959     0.257827   \n",
       "ExitRates                        0.101112  0.067363  0.033899     0.235470   \n",
       "PageValues                       0.093223  0.086907  0.075252     0.076345   \n",
       "SpecialDay                       0.049602  0.000000  0.011078     0.182722   \n",
       "Month                            0.116063  0.181661  0.080001     0.467366   \n",
       "OperatingSystems                 1.000000  0.749101  0.224719     0.346513   \n",
       "Browser                          0.749101  1.000000  0.241655     0.500875   \n",
       "Region                           0.224719  0.241655  1.000000     0.149385   \n",
       "TrafficType                      0.346513  0.500875  0.149385     1.000000   \n",
       "VisitorType                      0.585759  0.618036  0.363687     0.453164   \n",
       "Weekend                          0.156470  0.079422  0.015218     0.118212   \n",
       "Revenue                          0.099573  0.052140  0.011806     0.156968   \n",
       "\n",
       "                         VisitorType   Weekend   Revenue  \n",
       "Administrative              0.142535  0.033214  0.167358  \n",
       "Administrative_Duration     0.014261  0.000000  0.081927  \n",
       "Informational               0.046149  0.030849  0.100493  \n",
       "Informational_Duration      0.015302  0.000000  0.087157  \n",
       "ProductRelated              0.133240  0.000000  0.163541  \n",
       "ProductRelated_Duration     0.053705  0.003783  0.066571  \n",
       "BounceRates                 0.196976  0.051094  0.217242  \n",
       "ExitRates                   0.282593  0.076478  0.319236  \n",
       "PageValues                  0.245551  0.030945  0.412695  \n",
       "SpecialDay                  0.155571  0.361734  0.121517  \n",
       "Month                       0.220446  0.076857  0.226319  \n",
       "OperatingSystems            0.585759  0.156470  0.099573  \n",
       "Browser                     0.618036  0.079422  0.052140  \n",
       "Region                      0.363687  0.015218  0.011806  \n",
       "TrafficType                 0.453164  0.118212  0.156968  \n",
       "VisitorType                 1.000000  0.031261  0.061890  \n",
       "Weekend                     0.031261  1.000000  0.040686  \n",
       "Revenue                     0.061890  0.040686  1.000000  "
      ]
     },
     "execution_count": 45,
     "metadata": {},
     "output_type": "execute_result"
    }
   ],
   "source": [
    "df.phik_matrix()"
   ]
  },
  {
   "cell_type": "markdown",
   "metadata": {},
   "source": [
    "Berdasarkan hasil diatas, Column revenue memiliki korelasi positif dengan semua column dimana angka terkecil ada di korelasi antara weekend dengan revenue dimana hanya 0.04 atau memiliki korelasi sebanyak 4%. Karena angkanya tidak ada yang terlalu kecil maka semua fitur akan disimpan untuk proses machine learning ini."
   ]
  },
  {
   "cell_type": "markdown",
   "metadata": {},
   "source": [
    "# Model Definition"
   ]
  },
  {
   "cell_type": "code",
   "execution_count": 46,
   "metadata": {},
   "outputs": [],
   "source": [
    "# Definisi model logistic regression\n",
    "log_model = LogisticRegression(penalty='l2', C=1.0, random_state=0)\n",
    "\n",
    "# Definisi model KNN\n",
    "knn_model = KNeighborsClassifier(n_neighbors=3)\n",
    "\n",
    "# Definisi model Decision Tree\n",
    "dt_model = DecisionTreeClassifier()\n",
    "\n",
    "# Definisi mdoel Random Forest\n",
    "rf_model = RandomForestClassifier()\n",
    "\n",
    "# SCV Kernel=Linear\n",
    "svm_scaled = SVC(kernel='linear')\n",
    "\n",
    "# SCV Kernel=Polynomial\n",
    "svm_poly = SVC(kernel='poly')\n",
    "\n",
    "# SCV Kernel=RBF\n",
    "svm_rbf = SVC(kernel='rbf')\n",
    "\n",
    "# Ada Boost\n",
    "Ada_model = AdaBoostClassifier()"
   ]
  },
  {
   "cell_type": "markdown",
   "metadata": {},
   "source": [
    "# Model Training"
   ]
  },
  {
   "cell_type": "markdown",
   "metadata": {},
   "source": [
    "Dalam bagian ini, kita melakukan berbagai model training dengan data yang berbeda dimana:\n",
    "- Model tanpa angka : data frame yang sudah di pca\n",
    "- Model dengan angka 1 : data frame yang utuh\n",
    "- Model dengan angka 2 : data frame yang sudah di SMOTENC"
   ]
  },
  {
   "cell_type": "markdown",
   "metadata": {},
   "source": [
    "### Cross Validation"
   ]
  },
  {
   "cell_type": "code",
   "execution_count": 47,
   "metadata": {},
   "outputs": [],
   "source": [
    "# logistic regression\n",
    "score_log = cross_val_score(log_model, X_train_final_pca, y_train, cv=5, scoring='accuracy',n_jobs=-1)\n",
    "# logistic regression\n",
    "score_log_1 = cross_val_score(log_model, X_train_final, y_train, cv=5, scoring='accuracy',n_jobs=-1)\n",
    "# logistic regression\n",
    "score_log_2 = cross_val_score(log_model, X_train_balanced, y_train_balanced, cv=5, scoring='accuracy',n_jobs=-1)"
   ]
  },
  {
   "cell_type": "code",
   "execution_count": 48,
   "metadata": {},
   "outputs": [],
   "source": [
    "# Decision tree\n",
    "score_dt = cross_val_score(dt_model, X_train_final_pca, y_train, cv=5, scoring='accuracy',n_jobs=-1)\n",
    "# Decision tree\n",
    "score_dt_1 = cross_val_score(dt_model, X_train_final, y_train, cv=5, scoring='accuracy',n_jobs=-1)\n",
    "# Decision tree\n",
    "score_dt_2 = cross_val_score(dt_model, X_train_balanced, y_train_balanced, cv=5, scoring='accuracy',n_jobs=-1)"
   ]
  },
  {
   "cell_type": "code",
   "execution_count": 49,
   "metadata": {},
   "outputs": [],
   "source": [
    "# KNN\n",
    "score_knn = cross_val_score(knn_model, X_train_final_pca, y_train, cv=5, scoring='accuracy',n_jobs=-1)\n",
    "# KNN\n",
    "score_knn_1 = cross_val_score(knn_model, X_train_final, y_train, cv=5, scoring='accuracy',n_jobs=-1)\n",
    "# KNN\n",
    "score_knn_2 = cross_val_score(knn_model, X_train_balanced, y_train_balanced, cv=5, scoring='accuracy',n_jobs=-1)"
   ]
  },
  {
   "cell_type": "code",
   "execution_count": 50,
   "metadata": {},
   "outputs": [],
   "source": [
    "# Random Forest\n",
    "score_rf = cross_val_score(rf_model, X_train_final_pca, y_train, cv=5, scoring='accuracy',n_jobs=-1)\n",
    "# Random Forest\n",
    "score_rf_1 = cross_val_score(rf_model, X_train_final, y_train, cv=5, scoring='accuracy',n_jobs=-1)\n",
    "# Random Forest\n",
    "score_rf_2 = cross_val_score(rf_model, X_train_balanced, y_train_balanced, cv=5, scoring='accuracy',n_jobs=-1)"
   ]
  },
  {
   "cell_type": "code",
   "execution_count": 51,
   "metadata": {},
   "outputs": [],
   "source": [
    "# SVC (linear)\n",
    "score_svc_lin = cross_val_score(svm_scaled, X_train_final_pca, y_train, cv=5, scoring='accuracy',n_jobs=-1)\n",
    "# SVC (linear)\n",
    "score_svc_lin_1 = cross_val_score(svm_scaled, X_train_final, y_train, cv=5, scoring='accuracy',n_jobs=-1)\n",
    "# SVC (linear)\n",
    "score_svc_lin_2 = cross_val_score(svm_scaled, X_train_balanced, y_train_balanced, cv=5, scoring='accuracy',n_jobs=-1)"
   ]
  },
  {
   "cell_type": "code",
   "execution_count": 52,
   "metadata": {},
   "outputs": [],
   "source": [
    "# SVC (Poly)\n",
    "score_svc_poly = cross_val_score(svm_poly, X_train_final_pca, y_train, cv=5, scoring='accuracy',n_jobs=-1)\n",
    "# SVC (Poly)\n",
    "score_svc_poly_1 = cross_val_score(svm_poly, X_train_final, y_train, cv=5, scoring='accuracy',n_jobs=-1)\n",
    "# SVC (Poly)\n",
    "score_svc_poly_2 = cross_val_score(svm_poly, X_train_balanced, y_train_balanced, cv=5, scoring='accuracy',n_jobs=-1)"
   ]
  },
  {
   "cell_type": "code",
   "execution_count": 53,
   "metadata": {},
   "outputs": [],
   "source": [
    "# SVC (Rbf)\n",
    "score_svc_rbf = cross_val_score(svm_rbf, X_train_final_pca, y_train, cv=5, scoring='accuracy',n_jobs=-1)\n",
    "# SVC (Rbf)\n",
    "score_svc_rbf_1 = cross_val_score(svm_rbf, X_train_final, y_train, cv=5, scoring='accuracy',n_jobs=-1)\n",
    "# SVC (Rbf)\n",
    "score_svc_rbf_2 = cross_val_score(svm_rbf, X_train_balanced, y_train_balanced, cv=5, scoring='accuracy',n_jobs=-1)"
   ]
  },
  {
   "cell_type": "code",
   "execution_count": 54,
   "metadata": {},
   "outputs": [],
   "source": [
    "# Ada Boost\n",
    "score_ada = cross_val_score(Ada_model, X_train_final_pca, y_train, cv=5, scoring='accuracy',n_jobs=-1)\n",
    "# Ada Boost\n",
    "score_ada_1 = cross_val_score(Ada_model, X_train_final, y_train, cv=5, scoring='accuracy',n_jobs=-1)\n",
    "# Ada Boost\n",
    "score_ada_2 = cross_val_score(Ada_model, X_train_balanced, y_train_balanced, cv=5, scoring='accuracy',n_jobs=-1)"
   ]
  },
  {
   "cell_type": "code",
   "execution_count": 55,
   "metadata": {},
   "outputs": [
    {
     "name": "stdout",
     "output_type": "stream",
     "text": [
      "Logistic Regression PCA\n",
      "Accuracy Score - Mean - Cross Validation:  0.874\n",
      "Accuracy Score - Std - Cross Validation:  0.006\n",
      "\n",
      "Logistic Regression\n",
      "Accuracy Score - Mean - Cross Validation:  0.874\n",
      "Accuracy Score - Std - Cross Validation:  0.006\n",
      "\n",
      "Logistic Regression Balanced\n",
      "Accuracy Score - Mean - Cross Validation:  0.836\n",
      "Accuracy Score - Std - Cross Validation:  0.024\n"
     ]
    }
   ],
   "source": [
    "#Logistic Regression\n",
    "print('Logistic Regression PCA')\n",
    "print('Accuracy Score - Mean - Cross Validation: ', round(score_log.mean(),3))\n",
    "print('Accuracy Score - Std - Cross Validation: ', round(score_log.std(),3))\n",
    "print('')\n",
    "\n",
    "#Logistic Regression\n",
    "print('Logistic Regression')\n",
    "print('Accuracy Score - Mean - Cross Validation: ', round(score_log_1.mean(),3))\n",
    "print('Accuracy Score - Std - Cross Validation: ', round(score_log_1.std(),3))\n",
    "print('')\n",
    "\n",
    "#Logistic Regression\n",
    "print('Logistic Regression Balanced')\n",
    "print('Accuracy Score - Mean - Cross Validation: ', round(score_log_2.mean(),3))\n",
    "print('Accuracy Score - Std - Cross Validation: ', round(score_log_2.std(),3))"
   ]
  },
  {
   "cell_type": "code",
   "execution_count": 56,
   "metadata": {},
   "outputs": [
    {
     "name": "stdout",
     "output_type": "stream",
     "text": [
      "knn PCA\n",
      "Accuracy Score - Mean - Cross Validation:  0.814\n",
      "Accuracy Score - Std - Cross Validation:  0.005\n",
      "\n",
      "knn\n",
      "Accuracy Score - Mean - Cross Validation:  nan\n",
      "Accuracy Score - Std - Cross Validation:  nan\n",
      "\n",
      "knn Balanced\n",
      "Accuracy Score - Mean - Cross Validation:  nan\n",
      "Accuracy Score - Std - Cross Validation:  nan\n"
     ]
    }
   ],
   "source": [
    "#knn\n",
    "print('knn PCA')\n",
    "print('Accuracy Score - Mean - Cross Validation: ', round(score_knn.mean(),3))\n",
    "print('Accuracy Score - Std - Cross Validation: ', round(score_knn.std(),3))\n",
    "print('')\n",
    "\n",
    "#knn\n",
    "print('knn')\n",
    "print('Accuracy Score - Mean - Cross Validation: ', round(score_knn_1.mean(),3))\n",
    "print('Accuracy Score - Std - Cross Validation: ', round(score_knn_1.std(),3))\n",
    "print('')\n",
    "\n",
    "#knn\n",
    "print('knn Balanced')\n",
    "print('Accuracy Score - Mean - Cross Validation: ', round(score_knn_2.mean(),3))\n",
    "print('Accuracy Score - Std - Cross Validation: ', round(score_knn_2.std(),3))"
   ]
  },
  {
   "cell_type": "code",
   "execution_count": 57,
   "metadata": {},
   "outputs": [
    {
     "name": "stdout",
     "output_type": "stream",
     "text": [
      "Decision Tree PCA\n",
      "Accuracy Score - Mean - Cross Validation:  0.845\n",
      "Accuracy Score - Std - Cross Validation:  0.003\n",
      "\n",
      "Decision Tree\n",
      "Accuracy Score - Mean - Cross Validation:  0.863\n",
      "Accuracy Score - Std - Cross Validation:  0.004\n",
      "\n",
      "Decision Tree Balanced\n",
      "Accuracy Score - Mean - Cross Validation:  0.893\n",
      "Accuracy Score - Std - Cross Validation:  0.055\n"
     ]
    }
   ],
   "source": [
    "#Decision Tree\n",
    "print('Decision Tree PCA')\n",
    "print('Accuracy Score - Mean - Cross Validation: ', round(score_dt.mean(),3))\n",
    "print('Accuracy Score - Std - Cross Validation: ', round(score_dt.std(),3))\n",
    "print('')\n",
    "\n",
    "#Decision Tree\n",
    "print('Decision Tree')\n",
    "print('Accuracy Score - Mean - Cross Validation: ', round(score_dt_1.mean(),3))\n",
    "print('Accuracy Score - Std - Cross Validation: ', round(score_dt_1.std(),3))\n",
    "print('')\n",
    "\n",
    "print('Decision Tree Balanced')\n",
    "print('Accuracy Score - Mean - Cross Validation: ', round(score_dt_2.mean(),3))\n",
    "print('Accuracy Score - Std - Cross Validation: ', round(score_dt_2.std(),3))"
   ]
  },
  {
   "cell_type": "code",
   "execution_count": 58,
   "metadata": {},
   "outputs": [
    {
     "name": "stdout",
     "output_type": "stream",
     "text": [
      "Random Forest\n",
      "Accuracy Score - Mean - Cross Validation:  0.896\n",
      "Accuracy Score - Std - Cross Validation:  0.005\n",
      "\n",
      "Random Forest\n",
      "Accuracy Score - Mean - Cross Validation:  0.903\n",
      "Accuracy Score - Std - Cross Validation:  0.005\n",
      "\n",
      "Random Forest Balance\n",
      "Accuracy Score - Mean - Cross Validation:  0.93\n",
      "Accuracy Score - Std - Cross Validation:  0.052\n"
     ]
    }
   ],
   "source": [
    "#Random Forest\n",
    "print('Random Forest')\n",
    "print('Accuracy Score - Mean - Cross Validation: ', round(score_rf.mean(),3))\n",
    "print('Accuracy Score - Std - Cross Validation: ', round(score_rf.std(),3))\n",
    "print('')\n",
    "\n",
    "#Random Forest\n",
    "print('Random Forest')\n",
    "print('Accuracy Score - Mean - Cross Validation: ', round(score_rf_1.mean(),3))\n",
    "print('Accuracy Score - Std - Cross Validation: ', round(score_rf_1.std(),3))\n",
    "print('')\n",
    "\n",
    "#Random Forest\n",
    "print('Random Forest Balance')\n",
    "print('Accuracy Score - Mean - Cross Validation: ', round(score_rf_2.mean(),3))\n",
    "print('Accuracy Score - Std - Cross Validation: ', round(score_rf_2.std(),3))"
   ]
  },
  {
   "cell_type": "code",
   "execution_count": 59,
   "metadata": {},
   "outputs": [
    {
     "name": "stdout",
     "output_type": "stream",
     "text": [
      "SVM Linear PCA\n",
      "Accuracy Score - Mean - Cross Validation:  0.883\n",
      "Accuracy Score - Std - Cross Validation:  0.004\n",
      "\n",
      "SVM Linear\n",
      "Accuracy Score - Mean - Cross Validation:  0.883\n",
      "Accuracy Score - Std - Cross Validation:  0.004\n",
      "\n",
      "SVM Linear Balanced\n",
      "Accuracy Score - Mean - Cross Validation:  0.861\n",
      "Accuracy Score - Std - Cross Validation:  0.026\n"
     ]
    }
   ],
   "source": [
    "#SVM Linear\n",
    "print('SVM Linear PCA')\n",
    "print('Accuracy Score - Mean - Cross Validation: ', round(score_svc_lin.mean(),3))\n",
    "print('Accuracy Score - Std - Cross Validation: ', round(score_svc_lin.std(),3))\n",
    "print('')\n",
    "\n",
    "#SVM Linear\n",
    "print('SVM Linear')\n",
    "print('Accuracy Score - Mean - Cross Validation: ', round(score_svc_lin_1.mean(),3))\n",
    "print('Accuracy Score - Std - Cross Validation: ', round(score_svc_lin_1.std(),3))\n",
    "print('')\n",
    "\n",
    "#SVM Linear\n",
    "print('SVM Linear Balanced')\n",
    "print('Accuracy Score - Mean - Cross Validation: ', round(score_svc_lin_2.mean(),3))\n",
    "print('Accuracy Score - Std - Cross Validation: ', round(score_svc_lin_2.std(),3))"
   ]
  },
  {
   "cell_type": "code",
   "execution_count": 60,
   "metadata": {},
   "outputs": [
    {
     "name": "stdout",
     "output_type": "stream",
     "text": [
      "SVM Poly PCA\n",
      "Accuracy Score - Mean - Cross Validation:  0.848\n",
      "Accuracy Score - Std - Cross Validation:  0.001\n",
      "\n",
      "SVM Poly\n",
      "Accuracy Score - Mean - Cross Validation:  0.849\n",
      "Accuracy Score - Std - Cross Validation:  0.001\n",
      "\n",
      "SVM Poly Balanced\n",
      "Accuracy Score - Mean - Cross Validation:  0.73\n",
      "Accuracy Score - Std - Cross Validation:  0.014\n"
     ]
    }
   ],
   "source": [
    "#SVM Polynomial\n",
    "print('SVM Poly PCA')\n",
    "print('Accuracy Score - Mean - Cross Validation: ', round(score_svc_poly.mean(),3))\n",
    "print('Accuracy Score - Std - Cross Validation: ', round(score_svc_poly.std(),3))\n",
    "print('')\n",
    "\n",
    "#SVM Polynomial\n",
    "print('SVM Poly')\n",
    "print('Accuracy Score - Mean - Cross Validation: ', round(score_svc_poly_1.mean(),3))\n",
    "print('Accuracy Score - Std - Cross Validation: ', round(score_svc_poly_1.std(),3))\n",
    "print('')\n",
    "\n",
    "#SVM Polynomial\n",
    "print('SVM Poly Balanced')\n",
    "print('Accuracy Score - Mean - Cross Validation: ', round(score_svc_poly_2.mean(),3))\n",
    "print('Accuracy Score - Std - Cross Validation: ', round(score_svc_poly_2.std(),3))"
   ]
  },
  {
   "cell_type": "code",
   "execution_count": 61,
   "metadata": {},
   "outputs": [
    {
     "name": "stdout",
     "output_type": "stream",
     "text": [
      "SVM RBF PCA\n",
      "Accuracy Score - Mean - Cross Validation:  0.847\n",
      "Accuracy Score - Std - Cross Validation:  0.001\n",
      "\n",
      "SVM RBF\n",
      "Accuracy Score - Mean - Cross Validation:  0.847\n",
      "Accuracy Score - Std - Cross Validation:  0.0\n",
      "\n",
      "SVM RBF Balanced\n",
      "Accuracy Score - Mean - Cross Validation:  0.742\n",
      "Accuracy Score - Std - Cross Validation:  0.014\n"
     ]
    }
   ],
   "source": [
    "#SVM RBF\n",
    "print('SVM RBF PCA')\n",
    "print('Accuracy Score - Mean - Cross Validation: ', round(score_svc_rbf.mean(),3))\n",
    "print('Accuracy Score - Std - Cross Validation: ', round(score_svc_rbf.std(),3))\n",
    "print('')\n",
    "\n",
    "#SVM RBF\n",
    "print('SVM RBF')\n",
    "print('Accuracy Score - Mean - Cross Validation: ', round(score_svc_rbf_1.mean(),3))\n",
    "print('Accuracy Score - Std - Cross Validation: ', round(score_svc_rbf_1.std(),3))\n",
    "print('')\n",
    "\n",
    "#SVM RBF\n",
    "print('SVM RBF Balanced')\n",
    "print('Accuracy Score - Mean - Cross Validation: ', round(score_svc_rbf_2.mean(),3))\n",
    "print('Accuracy Score - Std - Cross Validation: ', round(score_svc_rbf_2.std(),3))"
   ]
  },
  {
   "cell_type": "code",
   "execution_count": 62,
   "metadata": {},
   "outputs": [
    {
     "name": "stdout",
     "output_type": "stream",
     "text": [
      "Ada Boost PCA\n",
      "Accuracy Score - Mean - Cross Validation:  0.89\n",
      "Accuracy Score - Std - Cross Validation:  0.006\n",
      "\n",
      "Ada boost\n",
      "Accuracy Score - Mean - Cross Validation:  0.888\n",
      "Accuracy Score - Std - Cross Validation:  0.003\n",
      "\n",
      "Ada boost Balanced\n",
      "Accuracy Score - Mean - Cross Validation:  0.907\n",
      "Accuracy Score - Std - Cross Validation:  0.05\n"
     ]
    }
   ],
   "source": [
    "#Ada boost \n",
    "print('Ada Boost PCA')\n",
    "print('Accuracy Score - Mean - Cross Validation: ', round(score_ada.mean(),3))\n",
    "print('Accuracy Score - Std - Cross Validation: ', round(score_ada.std(),3))\n",
    "print('')\n",
    "\n",
    "#Ada boost \n",
    "print('Ada boost')\n",
    "print('Accuracy Score - Mean - Cross Validation: ', round(score_ada_1.mean(),3))\n",
    "print('Accuracy Score - Std - Cross Validation: ', round(score_ada_1.std(),3))\n",
    "print('')\n",
    "\n",
    "#Ada boost \n",
    "print('Ada boost Balanced')\n",
    "print('Accuracy Score - Mean - Cross Validation: ', round(score_ada_2.mean(),3))\n",
    "print('Accuracy Score - Std - Cross Validation: ', round(score_ada_2.std(),3))"
   ]
  },
  {
   "cell_type": "code",
   "execution_count": 63,
   "metadata": {},
   "outputs": [
    {
     "data": {
      "text/html": [
       "<div>\n",
       "<style scoped>\n",
       "    .dataframe tbody tr th:only-of-type {\n",
       "        vertical-align: middle;\n",
       "    }\n",
       "\n",
       "    .dataframe tbody tr th {\n",
       "        vertical-align: top;\n",
       "    }\n",
       "\n",
       "    .dataframe thead th {\n",
       "        text-align: right;\n",
       "    }\n",
       "</style>\n",
       "<table border=\"1\" class=\"dataframe\">\n",
       "  <thead>\n",
       "    <tr style=\"text-align: right;\">\n",
       "      <th></th>\n",
       "      <th>Model</th>\n",
       "      <th>Accuracy Mean (Cross Validation)</th>\n",
       "      <th>Accuracy Std (Cross Validation)</th>\n",
       "    </tr>\n",
       "  </thead>\n",
       "  <tbody>\n",
       "    <tr>\n",
       "      <th>0</th>\n",
       "      <td>Logistic Regression</td>\n",
       "      <td>0.874</td>\n",
       "      <td>0.006</td>\n",
       "    </tr>\n",
       "    <tr>\n",
       "      <th>1</th>\n",
       "      <td>KNN</td>\n",
       "      <td>0.814</td>\n",
       "      <td>0.005</td>\n",
       "    </tr>\n",
       "    <tr>\n",
       "      <th>2</th>\n",
       "      <td>Decision Tree</td>\n",
       "      <td>0.845</td>\n",
       "      <td>0.003</td>\n",
       "    </tr>\n",
       "    <tr>\n",
       "      <th>3</th>\n",
       "      <td>Random Forest</td>\n",
       "      <td>0.896</td>\n",
       "      <td>0.005</td>\n",
       "    </tr>\n",
       "    <tr>\n",
       "      <th>4</th>\n",
       "      <td>SVM(Linear)</td>\n",
       "      <td>0.883</td>\n",
       "      <td>0.004</td>\n",
       "    </tr>\n",
       "    <tr>\n",
       "      <th>5</th>\n",
       "      <td>SVM(Poly)</td>\n",
       "      <td>0.848</td>\n",
       "      <td>0.001</td>\n",
       "    </tr>\n",
       "    <tr>\n",
       "      <th>6</th>\n",
       "      <td>SVM(Rbf)</td>\n",
       "      <td>0.847</td>\n",
       "      <td>0.001</td>\n",
       "    </tr>\n",
       "    <tr>\n",
       "      <th>7</th>\n",
       "      <td>Ada boost</td>\n",
       "      <td>0.890</td>\n",
       "      <td>0.006</td>\n",
       "    </tr>\n",
       "  </tbody>\n",
       "</table>\n",
       "</div>"
      ],
      "text/plain": [
       "                 Model  Accuracy Mean (Cross Validation)  \\\n",
       "0  Logistic Regression                             0.874   \n",
       "1                  KNN                             0.814   \n",
       "2        Decision Tree                             0.845   \n",
       "3        Random Forest                             0.896   \n",
       "4          SVM(Linear)                             0.883   \n",
       "5            SVM(Poly)                             0.848   \n",
       "6             SVM(Rbf)                             0.847   \n",
       "7            Ada boost                             0.890   \n",
       "\n",
       "   Accuracy Std (Cross Validation)  \n",
       "0                            0.006  \n",
       "1                            0.005  \n",
       "2                            0.003  \n",
       "3                            0.005  \n",
       "4                            0.004  \n",
       "5                            0.001  \n",
       "6                            0.001  \n",
       "7                            0.006  "
      ]
     },
     "execution_count": 63,
     "metadata": {},
     "output_type": "execute_result"
    }
   ],
   "source": [
    "models = ['Logistic Regression', 'KNN', 'Decision Tree', 'Random Forest', 'SVM(Linear)','SVM(Poly)','SVM(Rbf)','Ada boost']\n",
    "Accuracy_mean = [score_log.mean(), score_knn.mean(), score_dt.mean(), score_rf.mean(), score_svc_lin.mean(), score_svc_poly.mean(),score_svc_rbf.mean(), score_ada.mean()]\n",
    "Accuracy_std = [score_log.std(), score_knn.std(), score_dt.std(), score_rf.std(), score_svc_lin.std(), score_svc_poly.std(),score_svc_rbf.std(), score_ada.std()]\n",
    "\n",
    "summary_table = pd.DataFrame({'Model': models, 'Accuracy Mean (Cross Validation)': Accuracy_mean, 'Accuracy Std (Cross Validation)': Accuracy_std})\n",
    "summary_table = summary_table.round(3)\n",
    "summary_table"
   ]
  },
  {
   "cell_type": "markdown",
   "metadata": {},
   "source": [
    "Dari hasil diatas, terdapat bahwa untuk data yang sudah di PCA, Hasil terbaik bisa ditemukan di metode random forest maka model random forest akan dilanjutkan untuk proses hyper parameter"
   ]
  },
  {
   "cell_type": "code",
   "execution_count": 64,
   "metadata": {},
   "outputs": [
    {
     "data": {
      "text/html": [
       "<div>\n",
       "<style scoped>\n",
       "    .dataframe tbody tr th:only-of-type {\n",
       "        vertical-align: middle;\n",
       "    }\n",
       "\n",
       "    .dataframe tbody tr th {\n",
       "        vertical-align: top;\n",
       "    }\n",
       "\n",
       "    .dataframe thead th {\n",
       "        text-align: right;\n",
       "    }\n",
       "</style>\n",
       "<table border=\"1\" class=\"dataframe\">\n",
       "  <thead>\n",
       "    <tr style=\"text-align: right;\">\n",
       "      <th></th>\n",
       "      <th>Model</th>\n",
       "      <th>Accuracy Mean (Cross Validation)</th>\n",
       "      <th>Accuracy Std (Cross Validation)</th>\n",
       "    </tr>\n",
       "  </thead>\n",
       "  <tbody>\n",
       "    <tr>\n",
       "      <th>0</th>\n",
       "      <td>Logistic Regression</td>\n",
       "      <td>0.874</td>\n",
       "      <td>0.006</td>\n",
       "    </tr>\n",
       "    <tr>\n",
       "      <th>1</th>\n",
       "      <td>KNN</td>\n",
       "      <td>NaN</td>\n",
       "      <td>0.005</td>\n",
       "    </tr>\n",
       "    <tr>\n",
       "      <th>2</th>\n",
       "      <td>Decision Tree</td>\n",
       "      <td>0.863</td>\n",
       "      <td>0.003</td>\n",
       "    </tr>\n",
       "    <tr>\n",
       "      <th>3</th>\n",
       "      <td>Random Forest</td>\n",
       "      <td>0.903</td>\n",
       "      <td>0.005</td>\n",
       "    </tr>\n",
       "    <tr>\n",
       "      <th>4</th>\n",
       "      <td>SVM(Linear)</td>\n",
       "      <td>0.883</td>\n",
       "      <td>0.004</td>\n",
       "    </tr>\n",
       "    <tr>\n",
       "      <th>5</th>\n",
       "      <td>SVM(Poly)</td>\n",
       "      <td>0.849</td>\n",
       "      <td>0.001</td>\n",
       "    </tr>\n",
       "    <tr>\n",
       "      <th>6</th>\n",
       "      <td>SVM(Rbf)</td>\n",
       "      <td>0.847</td>\n",
       "      <td>0.001</td>\n",
       "    </tr>\n",
       "    <tr>\n",
       "      <th>7</th>\n",
       "      <td>Ada Boost</td>\n",
       "      <td>0.888</td>\n",
       "      <td>0.006</td>\n",
       "    </tr>\n",
       "  </tbody>\n",
       "</table>\n",
       "</div>"
      ],
      "text/plain": [
       "                 Model  Accuracy Mean (Cross Validation)  \\\n",
       "0  Logistic Regression                             0.874   \n",
       "1                  KNN                               NaN   \n",
       "2        Decision Tree                             0.863   \n",
       "3        Random Forest                             0.903   \n",
       "4          SVM(Linear)                             0.883   \n",
       "5            SVM(Poly)                             0.849   \n",
       "6             SVM(Rbf)                             0.847   \n",
       "7            Ada Boost                             0.888   \n",
       "\n",
       "   Accuracy Std (Cross Validation)  \n",
       "0                            0.006  \n",
       "1                            0.005  \n",
       "2                            0.003  \n",
       "3                            0.005  \n",
       "4                            0.004  \n",
       "5                            0.001  \n",
       "6                            0.001  \n",
       "7                            0.006  "
      ]
     },
     "execution_count": 64,
     "metadata": {},
     "output_type": "execute_result"
    }
   ],
   "source": [
    "models = ['Logistic Regression', 'KNN', 'Decision Tree', 'Random Forest', 'SVM(Linear)','SVM(Poly)','SVM(Rbf)','Ada Boost']\n",
    "Accuracy_mean_1 = [score_log_1.mean(), score_knn_1.mean(), score_dt_1.mean(), score_rf_1.mean(), score_svc_lin_1.mean(), score_svc_poly_1.mean(),score_svc_rbf_1.mean(),score_ada_1.mean()]\n",
    "Accuracy_std_1 = [score_log_1.std(), score_knn_1.std(), score_dt_1.std(), score_rf_1.std(), score_svc_lin_1.std(), score_svc_poly_1.std(),score_svc_rbf_1.std(),score_ada_1.std()]\n",
    "\n",
    "summary_table_1 = pd.DataFrame({'Model': models, 'Accuracy Mean (Cross Validation)': Accuracy_mean_1, 'Accuracy Std (Cross Validation)': Accuracy_std})\n",
    "summary_table_1 = summary_table_1.round(3)\n",
    "summary_table_1"
   ]
  },
  {
   "cell_type": "markdown",
   "metadata": {},
   "source": [
    "Dari hasil diatas, untuk data yang utuh model terbaik dapat ditemukan di model random forest maka model random forest akan dipakai untuk proses hyper parameter tuning"
   ]
  },
  {
   "cell_type": "code",
   "execution_count": 65,
   "metadata": {},
   "outputs": [
    {
     "data": {
      "text/html": [
       "<div>\n",
       "<style scoped>\n",
       "    .dataframe tbody tr th:only-of-type {\n",
       "        vertical-align: middle;\n",
       "    }\n",
       "\n",
       "    .dataframe tbody tr th {\n",
       "        vertical-align: top;\n",
       "    }\n",
       "\n",
       "    .dataframe thead th {\n",
       "        text-align: right;\n",
       "    }\n",
       "</style>\n",
       "<table border=\"1\" class=\"dataframe\">\n",
       "  <thead>\n",
       "    <tr style=\"text-align: right;\">\n",
       "      <th></th>\n",
       "      <th>Model</th>\n",
       "      <th>Accuracy Mean (Cross Validation)</th>\n",
       "      <th>Accuracy Std (Cross Validation)</th>\n",
       "    </tr>\n",
       "  </thead>\n",
       "  <tbody>\n",
       "    <tr>\n",
       "      <th>0</th>\n",
       "      <td>Logistic Regression</td>\n",
       "      <td>0.836</td>\n",
       "      <td>0.006</td>\n",
       "    </tr>\n",
       "    <tr>\n",
       "      <th>1</th>\n",
       "      <td>KNN</td>\n",
       "      <td>NaN</td>\n",
       "      <td>0.005</td>\n",
       "    </tr>\n",
       "    <tr>\n",
       "      <th>2</th>\n",
       "      <td>Decision Tree</td>\n",
       "      <td>0.893</td>\n",
       "      <td>0.003</td>\n",
       "    </tr>\n",
       "    <tr>\n",
       "      <th>3</th>\n",
       "      <td>Random Forest</td>\n",
       "      <td>0.930</td>\n",
       "      <td>0.005</td>\n",
       "    </tr>\n",
       "    <tr>\n",
       "      <th>4</th>\n",
       "      <td>SVM(Linear)</td>\n",
       "      <td>0.861</td>\n",
       "      <td>0.004</td>\n",
       "    </tr>\n",
       "    <tr>\n",
       "      <th>5</th>\n",
       "      <td>SVM(Poly)</td>\n",
       "      <td>0.730</td>\n",
       "      <td>0.001</td>\n",
       "    </tr>\n",
       "    <tr>\n",
       "      <th>6</th>\n",
       "      <td>SVM(Rbf)</td>\n",
       "      <td>0.742</td>\n",
       "      <td>0.001</td>\n",
       "    </tr>\n",
       "    <tr>\n",
       "      <th>7</th>\n",
       "      <td>Ada boost</td>\n",
       "      <td>0.907</td>\n",
       "      <td>0.006</td>\n",
       "    </tr>\n",
       "  </tbody>\n",
       "</table>\n",
       "</div>"
      ],
      "text/plain": [
       "                 Model  Accuracy Mean (Cross Validation)  \\\n",
       "0  Logistic Regression                             0.836   \n",
       "1                  KNN                               NaN   \n",
       "2        Decision Tree                             0.893   \n",
       "3        Random Forest                             0.930   \n",
       "4          SVM(Linear)                             0.861   \n",
       "5            SVM(Poly)                             0.730   \n",
       "6             SVM(Rbf)                             0.742   \n",
       "7            Ada boost                             0.907   \n",
       "\n",
       "   Accuracy Std (Cross Validation)  \n",
       "0                            0.006  \n",
       "1                            0.005  \n",
       "2                            0.003  \n",
       "3                            0.005  \n",
       "4                            0.004  \n",
       "5                            0.001  \n",
       "6                            0.001  \n",
       "7                            0.006  "
      ]
     },
     "execution_count": 65,
     "metadata": {},
     "output_type": "execute_result"
    }
   ],
   "source": [
    "models = ['Logistic Regression', 'KNN', 'Decision Tree', 'Random Forest', 'SVM(Linear)','SVM(Poly)','SVM(Rbf)','Ada boost']\n",
    "Accuracy_mean_2 = [score_log_2.mean(), score_knn_2.mean(), score_dt_2.mean(), score_rf_2.mean(), score_svc_lin_2.mean(), score_svc_poly_2.mean(),score_svc_rbf_2.mean(),score_ada_2.mean()]\n",
    "Accuracy_std_2 = [score_log_2.std(), score_knn_2.std(), score_dt_2.std(), score_rf_2.std(), score_svc_lin_2.std(), score_svc_poly_2.std(),score_svc_rbf_2.std(),score_ada_2.std()]\n",
    "\n",
    "summary_table_2 = pd.DataFrame({'Model': models, 'Accuracy Mean (Cross Validation)': Accuracy_mean_2, 'Accuracy Std (Cross Validation)': Accuracy_std})\n",
    "summary_table_2 = summary_table_2.round(3)\n",
    "summary_table_2"
   ]
  },
  {
   "cell_type": "markdown",
   "metadata": {},
   "source": [
    "Untuk hasil data yang sudah di SMOTENC, random forest adalah model dengan hasil terbaik maka akan dilakukan hyper parameter tuning dengan model random forest"
   ]
  },
  {
   "cell_type": "markdown",
   "metadata": {},
   "source": [
    "# Hyper parameter tuning"
   ]
  },
  {
   "cell_type": "code",
   "execution_count": 66,
   "metadata": {},
   "outputs": [],
   "source": [
    "# Hyperparameter Tuning : Grid Search\n",
    "from sklearn.model_selection import GridSearchCV"
   ]
  },
  {
   "cell_type": "code",
   "execution_count": 67,
   "metadata": {},
   "outputs": [
    {
     "name": "stdout",
     "output_type": "stream",
     "text": [
      "Fitting 5 folds for each of 162 candidates, totalling 810 fits\n"
     ]
    },
    {
     "name": "stderr",
     "output_type": "stream",
     "text": [
      "c:\\Users\\daffa\\miniconda3\\lib\\site-packages\\sklearn\\base.py:1151: DataConversionWarning: A column-vector y was passed when a 1d array was expected. Please change the shape of y to (n_samples,), for example using ravel().\n",
      "  return fit_method(estimator, *args, **kwargs)\n"
     ]
    }
   ],
   "source": [
    "# Definisi parameter\n",
    "grid_parameters = {'min_samples_leaf': [1, 2, 4], \n",
    "                   'max_depth': [None, 1, 2], \n",
    "                   'criterion': ['gini', 'entropy'], \n",
    "                   'min_samples_split': [2, 4, 6],\n",
    "                   'n_estimators': [5, 10, 20]}\n",
    "grid = GridSearchCV(estimator=rf_model, param_grid=grid_parameters,verbose=3, refit=True,scoring ='accuracy', \n",
    "                    cv = 5, return_train_score=True, n_jobs=-1\n",
    "                    )\n",
    "grid.fit(X_train_final_pca,y_train_encoded)\n",
    "\n",
    "# Finding the best hyper parameter\n",
    "best_rf=grid.best_estimator_\n"
   ]
  },
  {
   "cell_type": "code",
   "execution_count": 68,
   "metadata": {},
   "outputs": [
    {
     "name": "stdout",
     "output_type": "stream",
     "text": [
      "Fitting 5 folds for each of 162 candidates, totalling 810 fits\n"
     ]
    },
    {
     "name": "stderr",
     "output_type": "stream",
     "text": [
      "c:\\Users\\daffa\\miniconda3\\lib\\site-packages\\sklearn\\base.py:1151: DataConversionWarning: A column-vector y was passed when a 1d array was expected. Please change the shape of y to (n_samples,), for example using ravel().\n",
      "  return fit_method(estimator, *args, **kwargs)\n"
     ]
    }
   ],
   "source": [
    "# Definisi parameter\n",
    "grid_parameters = {'min_samples_leaf': [1, 2, 4], \n",
    "                   'max_depth': [None, 1, 2], \n",
    "                   'criterion': ['gini', 'entropy'], \n",
    "                   'min_samples_split': [2, 4, 6],\n",
    "                   'n_estimators': [5, 10, 20]}\n",
    "grid_1 = GridSearchCV(estimator=rf_model, param_grid=grid_parameters,verbose=3, refit=True,scoring ='accuracy', \n",
    "                    cv = 5, return_train_score=True, n_jobs=-1\n",
    "                    )\n",
    "grid_1.fit(X_train_final,y_train_encoded)\n",
    "\n",
    "# Finding the best hyper parameter\n",
    "best_rf_1=grid_1.best_estimator_"
   ]
  },
  {
   "cell_type": "code",
   "execution_count": 69,
   "metadata": {},
   "outputs": [
    {
     "name": "stdout",
     "output_type": "stream",
     "text": [
      "Fitting 5 folds for each of 162 candidates, totalling 810 fits\n"
     ]
    }
   ],
   "source": [
    "# Definisi parameter\n",
    "grid_parameters = {'min_samples_leaf': [1, 2, 4], \n",
    "                   'max_depth': [None, 1, 2], \n",
    "                   'criterion': ['gini', 'entropy'], \n",
    "                   'min_samples_split': [2, 4, 6],\n",
    "                   'n_estimators': [5, 10, 20]}\n",
    "grid_2 = GridSearchCV(estimator=rf_model, param_grid=grid_parameters,verbose=3, refit=True,scoring ='accuracy', \n",
    "                    cv = 5, return_train_score=True, n_jobs=-1\n",
    "                    )\n",
    "grid_2.fit(X_train_balanced,y_train_balanced)\n",
    "\n",
    "# Finding the best hyper parameter\n",
    "best_rf_2=grid_2.best_estimator_"
   ]
  },
  {
   "cell_type": "code",
   "execution_count": 70,
   "metadata": {},
   "outputs": [
    {
     "data": {
      "text/html": [
       "<style>#sk-container-id-2 {color: black;}#sk-container-id-2 pre{padding: 0;}#sk-container-id-2 div.sk-toggleable {background-color: white;}#sk-container-id-2 label.sk-toggleable__label {cursor: pointer;display: block;width: 100%;margin-bottom: 0;padding: 0.3em;box-sizing: border-box;text-align: center;}#sk-container-id-2 label.sk-toggleable__label-arrow:before {content: \"▸\";float: left;margin-right: 0.25em;color: #696969;}#sk-container-id-2 label.sk-toggleable__label-arrow:hover:before {color: black;}#sk-container-id-2 div.sk-estimator:hover label.sk-toggleable__label-arrow:before {color: black;}#sk-container-id-2 div.sk-toggleable__content {max-height: 0;max-width: 0;overflow: hidden;text-align: left;background-color: #f0f8ff;}#sk-container-id-2 div.sk-toggleable__content pre {margin: 0.2em;color: black;border-radius: 0.25em;background-color: #f0f8ff;}#sk-container-id-2 input.sk-toggleable__control:checked~div.sk-toggleable__content {max-height: 200px;max-width: 100%;overflow: auto;}#sk-container-id-2 input.sk-toggleable__control:checked~label.sk-toggleable__label-arrow:before {content: \"▾\";}#sk-container-id-2 div.sk-estimator input.sk-toggleable__control:checked~label.sk-toggleable__label {background-color: #d4ebff;}#sk-container-id-2 div.sk-label input.sk-toggleable__control:checked~label.sk-toggleable__label {background-color: #d4ebff;}#sk-container-id-2 input.sk-hidden--visually {border: 0;clip: rect(1px 1px 1px 1px);clip: rect(1px, 1px, 1px, 1px);height: 1px;margin: -1px;overflow: hidden;padding: 0;position: absolute;width: 1px;}#sk-container-id-2 div.sk-estimator {font-family: monospace;background-color: #f0f8ff;border: 1px dotted black;border-radius: 0.25em;box-sizing: border-box;margin-bottom: 0.5em;}#sk-container-id-2 div.sk-estimator:hover {background-color: #d4ebff;}#sk-container-id-2 div.sk-parallel-item::after {content: \"\";width: 100%;border-bottom: 1px solid gray;flex-grow: 1;}#sk-container-id-2 div.sk-label:hover label.sk-toggleable__label {background-color: #d4ebff;}#sk-container-id-2 div.sk-serial::before {content: \"\";position: absolute;border-left: 1px solid gray;box-sizing: border-box;top: 0;bottom: 0;left: 50%;z-index: 0;}#sk-container-id-2 div.sk-serial {display: flex;flex-direction: column;align-items: center;background-color: white;padding-right: 0.2em;padding-left: 0.2em;position: relative;}#sk-container-id-2 div.sk-item {position: relative;z-index: 1;}#sk-container-id-2 div.sk-parallel {display: flex;align-items: stretch;justify-content: center;background-color: white;position: relative;}#sk-container-id-2 div.sk-item::before, #sk-container-id-2 div.sk-parallel-item::before {content: \"\";position: absolute;border-left: 1px solid gray;box-sizing: border-box;top: 0;bottom: 0;left: 50%;z-index: -1;}#sk-container-id-2 div.sk-parallel-item {display: flex;flex-direction: column;z-index: 1;position: relative;background-color: white;}#sk-container-id-2 div.sk-parallel-item:first-child::after {align-self: flex-end;width: 50%;}#sk-container-id-2 div.sk-parallel-item:last-child::after {align-self: flex-start;width: 50%;}#sk-container-id-2 div.sk-parallel-item:only-child::after {width: 0;}#sk-container-id-2 div.sk-dashed-wrapped {border: 1px dashed gray;margin: 0 0.4em 0.5em 0.4em;box-sizing: border-box;padding-bottom: 0.4em;background-color: white;}#sk-container-id-2 div.sk-label label {font-family: monospace;font-weight: bold;display: inline-block;line-height: 1.2em;}#sk-container-id-2 div.sk-label-container {text-align: center;}#sk-container-id-2 div.sk-container {/* jupyter's `normalize.less` sets `[hidden] { display: none; }` but bootstrap.min.css set `[hidden] { display: none !important; }` so we also need the `!important` here to be able to override the default hidden behavior on the sphinx rendered scikit-learn.org. See: https://github.com/scikit-learn/scikit-learn/issues/21755 */display: inline-block !important;position: relative;}#sk-container-id-2 div.sk-text-repr-fallback {display: none;}</style><div id=\"sk-container-id-2\" class=\"sk-top-container\"><div class=\"sk-text-repr-fallback\"><pre>RandomForestClassifier(criterion=&#x27;entropy&#x27;, min_samples_leaf=4,\n",
       "                       min_samples_split=6, n_estimators=20)</pre><b>In a Jupyter environment, please rerun this cell to show the HTML representation or trust the notebook. <br />On GitHub, the HTML representation is unable to render, please try loading this page with nbviewer.org.</b></div><div class=\"sk-container\" hidden><div class=\"sk-item\"><div class=\"sk-estimator sk-toggleable\"><input class=\"sk-toggleable__control sk-hidden--visually\" id=\"sk-estimator-id-9\" type=\"checkbox\" checked><label for=\"sk-estimator-id-9\" class=\"sk-toggleable__label sk-toggleable__label-arrow\">RandomForestClassifier</label><div class=\"sk-toggleable__content\"><pre>RandomForestClassifier(criterion=&#x27;entropy&#x27;, min_samples_leaf=4,\n",
       "                       min_samples_split=6, n_estimators=20)</pre></div></div></div></div></div>"
      ],
      "text/plain": [
       "RandomForestClassifier(criterion='entropy', min_samples_leaf=4,\n",
       "                       min_samples_split=6, n_estimators=20)"
      ]
     },
     "execution_count": 70,
     "metadata": {},
     "output_type": "execute_result"
    }
   ],
   "source": [
    "best_rf"
   ]
  },
  {
   "cell_type": "code",
   "execution_count": 71,
   "metadata": {},
   "outputs": [
    {
     "data": {
      "text/html": [
       "<style>#sk-container-id-3 {color: black;}#sk-container-id-3 pre{padding: 0;}#sk-container-id-3 div.sk-toggleable {background-color: white;}#sk-container-id-3 label.sk-toggleable__label {cursor: pointer;display: block;width: 100%;margin-bottom: 0;padding: 0.3em;box-sizing: border-box;text-align: center;}#sk-container-id-3 label.sk-toggleable__label-arrow:before {content: \"▸\";float: left;margin-right: 0.25em;color: #696969;}#sk-container-id-3 label.sk-toggleable__label-arrow:hover:before {color: black;}#sk-container-id-3 div.sk-estimator:hover label.sk-toggleable__label-arrow:before {color: black;}#sk-container-id-3 div.sk-toggleable__content {max-height: 0;max-width: 0;overflow: hidden;text-align: left;background-color: #f0f8ff;}#sk-container-id-3 div.sk-toggleable__content pre {margin: 0.2em;color: black;border-radius: 0.25em;background-color: #f0f8ff;}#sk-container-id-3 input.sk-toggleable__control:checked~div.sk-toggleable__content {max-height: 200px;max-width: 100%;overflow: auto;}#sk-container-id-3 input.sk-toggleable__control:checked~label.sk-toggleable__label-arrow:before {content: \"▾\";}#sk-container-id-3 div.sk-estimator input.sk-toggleable__control:checked~label.sk-toggleable__label {background-color: #d4ebff;}#sk-container-id-3 div.sk-label input.sk-toggleable__control:checked~label.sk-toggleable__label {background-color: #d4ebff;}#sk-container-id-3 input.sk-hidden--visually {border: 0;clip: rect(1px 1px 1px 1px);clip: rect(1px, 1px, 1px, 1px);height: 1px;margin: -1px;overflow: hidden;padding: 0;position: absolute;width: 1px;}#sk-container-id-3 div.sk-estimator {font-family: monospace;background-color: #f0f8ff;border: 1px dotted black;border-radius: 0.25em;box-sizing: border-box;margin-bottom: 0.5em;}#sk-container-id-3 div.sk-estimator:hover {background-color: #d4ebff;}#sk-container-id-3 div.sk-parallel-item::after {content: \"\";width: 100%;border-bottom: 1px solid gray;flex-grow: 1;}#sk-container-id-3 div.sk-label:hover label.sk-toggleable__label {background-color: #d4ebff;}#sk-container-id-3 div.sk-serial::before {content: \"\";position: absolute;border-left: 1px solid gray;box-sizing: border-box;top: 0;bottom: 0;left: 50%;z-index: 0;}#sk-container-id-3 div.sk-serial {display: flex;flex-direction: column;align-items: center;background-color: white;padding-right: 0.2em;padding-left: 0.2em;position: relative;}#sk-container-id-3 div.sk-item {position: relative;z-index: 1;}#sk-container-id-3 div.sk-parallel {display: flex;align-items: stretch;justify-content: center;background-color: white;position: relative;}#sk-container-id-3 div.sk-item::before, #sk-container-id-3 div.sk-parallel-item::before {content: \"\";position: absolute;border-left: 1px solid gray;box-sizing: border-box;top: 0;bottom: 0;left: 50%;z-index: -1;}#sk-container-id-3 div.sk-parallel-item {display: flex;flex-direction: column;z-index: 1;position: relative;background-color: white;}#sk-container-id-3 div.sk-parallel-item:first-child::after {align-self: flex-end;width: 50%;}#sk-container-id-3 div.sk-parallel-item:last-child::after {align-self: flex-start;width: 50%;}#sk-container-id-3 div.sk-parallel-item:only-child::after {width: 0;}#sk-container-id-3 div.sk-dashed-wrapped {border: 1px dashed gray;margin: 0 0.4em 0.5em 0.4em;box-sizing: border-box;padding-bottom: 0.4em;background-color: white;}#sk-container-id-3 div.sk-label label {font-family: monospace;font-weight: bold;display: inline-block;line-height: 1.2em;}#sk-container-id-3 div.sk-label-container {text-align: center;}#sk-container-id-3 div.sk-container {/* jupyter's `normalize.less` sets `[hidden] { display: none; }` but bootstrap.min.css set `[hidden] { display: none !important; }` so we also need the `!important` here to be able to override the default hidden behavior on the sphinx rendered scikit-learn.org. See: https://github.com/scikit-learn/scikit-learn/issues/21755 */display: inline-block !important;position: relative;}#sk-container-id-3 div.sk-text-repr-fallback {display: none;}</style><div id=\"sk-container-id-3\" class=\"sk-top-container\"><div class=\"sk-text-repr-fallback\"><pre>RandomForestClassifier(criterion=&#x27;entropy&#x27;, min_samples_leaf=4, n_estimators=20)</pre><b>In a Jupyter environment, please rerun this cell to show the HTML representation or trust the notebook. <br />On GitHub, the HTML representation is unable to render, please try loading this page with nbviewer.org.</b></div><div class=\"sk-container\" hidden><div class=\"sk-item\"><div class=\"sk-estimator sk-toggleable\"><input class=\"sk-toggleable__control sk-hidden--visually\" id=\"sk-estimator-id-10\" type=\"checkbox\" checked><label for=\"sk-estimator-id-10\" class=\"sk-toggleable__label sk-toggleable__label-arrow\">RandomForestClassifier</label><div class=\"sk-toggleable__content\"><pre>RandomForestClassifier(criterion=&#x27;entropy&#x27;, min_samples_leaf=4, n_estimators=20)</pre></div></div></div></div></div>"
      ],
      "text/plain": [
       "RandomForestClassifier(criterion='entropy', min_samples_leaf=4, n_estimators=20)"
      ]
     },
     "execution_count": 71,
     "metadata": {},
     "output_type": "execute_result"
    }
   ],
   "source": [
    "best_rf_1"
   ]
  },
  {
   "cell_type": "code",
   "execution_count": 72,
   "metadata": {},
   "outputs": [
    {
     "data": {
      "text/html": [
       "<style>#sk-container-id-4 {color: black;}#sk-container-id-4 pre{padding: 0;}#sk-container-id-4 div.sk-toggleable {background-color: white;}#sk-container-id-4 label.sk-toggleable__label {cursor: pointer;display: block;width: 100%;margin-bottom: 0;padding: 0.3em;box-sizing: border-box;text-align: center;}#sk-container-id-4 label.sk-toggleable__label-arrow:before {content: \"▸\";float: left;margin-right: 0.25em;color: #696969;}#sk-container-id-4 label.sk-toggleable__label-arrow:hover:before {color: black;}#sk-container-id-4 div.sk-estimator:hover label.sk-toggleable__label-arrow:before {color: black;}#sk-container-id-4 div.sk-toggleable__content {max-height: 0;max-width: 0;overflow: hidden;text-align: left;background-color: #f0f8ff;}#sk-container-id-4 div.sk-toggleable__content pre {margin: 0.2em;color: black;border-radius: 0.25em;background-color: #f0f8ff;}#sk-container-id-4 input.sk-toggleable__control:checked~div.sk-toggleable__content {max-height: 200px;max-width: 100%;overflow: auto;}#sk-container-id-4 input.sk-toggleable__control:checked~label.sk-toggleable__label-arrow:before {content: \"▾\";}#sk-container-id-4 div.sk-estimator input.sk-toggleable__control:checked~label.sk-toggleable__label {background-color: #d4ebff;}#sk-container-id-4 div.sk-label input.sk-toggleable__control:checked~label.sk-toggleable__label {background-color: #d4ebff;}#sk-container-id-4 input.sk-hidden--visually {border: 0;clip: rect(1px 1px 1px 1px);clip: rect(1px, 1px, 1px, 1px);height: 1px;margin: -1px;overflow: hidden;padding: 0;position: absolute;width: 1px;}#sk-container-id-4 div.sk-estimator {font-family: monospace;background-color: #f0f8ff;border: 1px dotted black;border-radius: 0.25em;box-sizing: border-box;margin-bottom: 0.5em;}#sk-container-id-4 div.sk-estimator:hover {background-color: #d4ebff;}#sk-container-id-4 div.sk-parallel-item::after {content: \"\";width: 100%;border-bottom: 1px solid gray;flex-grow: 1;}#sk-container-id-4 div.sk-label:hover label.sk-toggleable__label {background-color: #d4ebff;}#sk-container-id-4 div.sk-serial::before {content: \"\";position: absolute;border-left: 1px solid gray;box-sizing: border-box;top: 0;bottom: 0;left: 50%;z-index: 0;}#sk-container-id-4 div.sk-serial {display: flex;flex-direction: column;align-items: center;background-color: white;padding-right: 0.2em;padding-left: 0.2em;position: relative;}#sk-container-id-4 div.sk-item {position: relative;z-index: 1;}#sk-container-id-4 div.sk-parallel {display: flex;align-items: stretch;justify-content: center;background-color: white;position: relative;}#sk-container-id-4 div.sk-item::before, #sk-container-id-4 div.sk-parallel-item::before {content: \"\";position: absolute;border-left: 1px solid gray;box-sizing: border-box;top: 0;bottom: 0;left: 50%;z-index: -1;}#sk-container-id-4 div.sk-parallel-item {display: flex;flex-direction: column;z-index: 1;position: relative;background-color: white;}#sk-container-id-4 div.sk-parallel-item:first-child::after {align-self: flex-end;width: 50%;}#sk-container-id-4 div.sk-parallel-item:last-child::after {align-self: flex-start;width: 50%;}#sk-container-id-4 div.sk-parallel-item:only-child::after {width: 0;}#sk-container-id-4 div.sk-dashed-wrapped {border: 1px dashed gray;margin: 0 0.4em 0.5em 0.4em;box-sizing: border-box;padding-bottom: 0.4em;background-color: white;}#sk-container-id-4 div.sk-label label {font-family: monospace;font-weight: bold;display: inline-block;line-height: 1.2em;}#sk-container-id-4 div.sk-label-container {text-align: center;}#sk-container-id-4 div.sk-container {/* jupyter's `normalize.less` sets `[hidden] { display: none; }` but bootstrap.min.css set `[hidden] { display: none !important; }` so we also need the `!important` here to be able to override the default hidden behavior on the sphinx rendered scikit-learn.org. See: https://github.com/scikit-learn/scikit-learn/issues/21755 */display: inline-block !important;position: relative;}#sk-container-id-4 div.sk-text-repr-fallback {display: none;}</style><div id=\"sk-container-id-4\" class=\"sk-top-container\"><div class=\"sk-text-repr-fallback\"><pre>RandomForestClassifier(criterion=&#x27;entropy&#x27;, min_samples_split=4,\n",
       "                       n_estimators=20)</pre><b>In a Jupyter environment, please rerun this cell to show the HTML representation or trust the notebook. <br />On GitHub, the HTML representation is unable to render, please try loading this page with nbviewer.org.</b></div><div class=\"sk-container\" hidden><div class=\"sk-item\"><div class=\"sk-estimator sk-toggleable\"><input class=\"sk-toggleable__control sk-hidden--visually\" id=\"sk-estimator-id-11\" type=\"checkbox\" checked><label for=\"sk-estimator-id-11\" class=\"sk-toggleable__label sk-toggleable__label-arrow\">RandomForestClassifier</label><div class=\"sk-toggleable__content\"><pre>RandomForestClassifier(criterion=&#x27;entropy&#x27;, min_samples_split=4,\n",
       "                       n_estimators=20)</pre></div></div></div></div></div>"
      ],
      "text/plain": [
       "RandomForestClassifier(criterion='entropy', min_samples_split=4,\n",
       "                       n_estimators=20)"
      ]
     },
     "execution_count": 72,
     "metadata": {},
     "output_type": "execute_result"
    }
   ],
   "source": [
    "best_rf_2"
   ]
  },
  {
   "cell_type": "markdown",
   "metadata": {},
   "source": [
    "# Model Evaluation"
   ]
  },
  {
   "cell_type": "markdown",
   "metadata": {},
   "source": [
    "### Model with PCA"
   ]
  },
  {
   "cell_type": "code",
   "execution_count": 73,
   "metadata": {},
   "outputs": [
    {
     "name": "stdout",
     "output_type": "stream",
     "text": [
      "Classification Report Train: \n",
      "               precision    recall  f1-score   support\n",
      "\n",
      "       False       0.96      1.00      0.98      8264\n",
      "        True       0.98      0.78      0.87      1499\n",
      "\n",
      "    accuracy                           0.96      9763\n",
      "   macro avg       0.97      0.89      0.92      9763\n",
      "weighted avg       0.96      0.96      0.96      9763\n",
      " \n",
      "\n",
      "Classification Report Test: \n",
      "               precision    recall  f1-score   support\n",
      "\n",
      "       False       0.89      0.98      0.93      2032\n",
      "        True       0.80      0.41      0.54       409\n",
      "\n",
      "    accuracy                           0.88      2441\n",
      "   macro avg       0.84      0.69      0.74      2441\n",
      "weighted avg       0.88      0.88      0.87      2441\n",
      " \n",
      "\n"
     ]
    }
   ],
   "source": [
    "y_pred_train_pca = best_rf.predict(X_train_final_pca)\n",
    "y_pred_test = best_rf.predict(X_test_final_pca)\n",
    "\n",
    "print('Classification Report Train: \\n', classification_report(y_train, y_pred_train_pca), '\\n')\n",
    "print('Classification Report Test: \\n', classification_report(y_test, y_pred_test), '\\n')"
   ]
  },
  {
   "cell_type": "markdown",
   "metadata": {},
   "source": [
    "Berdasarkan hasil diatas, nilai accuracy dari model ini sudah tergolong tinggi tetapi model bisa tergolong overfit karena model train dan model set masih memiliki selisih yang agak tinggi yaitu model train memiliki accuracy 96% dan model test memiliki accuracy 88% dimana terdapat selisih 8%, lalu model test memiliki nilai recall yang jelek yaitu 97% dan 45% dimana ini memberitahukan bahwa nilai false negative dari model ini masih tergolong banyak dimana model nya sendiri kesulitan di test set terutama dalam menentukan apakah pengunjung akan melakukan pembelian atau tidak."
   ]
  },
  {
   "cell_type": "markdown",
   "metadata": {},
   "source": [
    "### Model without PCA & SMOTENC"
   ]
  },
  {
   "cell_type": "code",
   "execution_count": 74,
   "metadata": {},
   "outputs": [
    {
     "name": "stdout",
     "output_type": "stream",
     "text": [
      "Classification Report Train : \n",
      "               precision    recall  f1-score   support\n",
      "\n",
      "       False       0.96      0.99      0.97      8264\n",
      "        True       0.93      0.75      0.83      1499\n",
      "\n",
      "    accuracy                           0.95      9763\n",
      "   macro avg       0.94      0.87      0.90      9763\n",
      "weighted avg       0.95      0.95      0.95      9763\n",
      " \n",
      "\n",
      "Classification Report Test : \n",
      "               precision    recall  f1-score   support\n",
      "\n",
      "       False       0.91      0.97      0.94      2032\n",
      "        True       0.78      0.51      0.62       409\n",
      "\n",
      "    accuracy                           0.89      2441\n",
      "   macro avg       0.84      0.74      0.78      2441\n",
      "weighted avg       0.89      0.89      0.88      2441\n",
      " \n",
      "\n"
     ]
    }
   ],
   "source": [
    "y_pred_train = best_rf_1.predict(X_train_final)\n",
    "y_pred_test_1 = best_rf_1.predict(X_test_final)\n",
    "\n",
    "print('Classification Report Train : \\n', classification_report(y_train, y_pred_train), '\\n')\n",
    "print('Classification Report Test : \\n', classification_report(y_test, y_pred_test_1), '\\n')"
   ]
  },
  {
   "cell_type": "markdown",
   "metadata": {},
   "source": [
    "Berdasarkan hasil diatas, ada peningkatan hasil dari model sebelum di PCA dimana ini memberitahukan bahwa accracy model ini di train set adalah 95% sementara accuracy di test set adalah 89%. Hasil ini masih tergolong overfit karena train set masih lebih bagus dari test set lalu model ini memiliki nilai f1 score dan recall score lebih baik daripada model sebelumnya dimana hasil false negative dalam model ini tergolong lebih sedikit dibandingkan model sebelumnya yaitu model dengan data PCA."
   ]
  },
  {
   "cell_type": "markdown",
   "metadata": {},
   "source": [
    "### Model with SMOTENC"
   ]
  },
  {
   "cell_type": "code",
   "execution_count": 75,
   "metadata": {},
   "outputs": [
    {
     "name": "stdout",
     "output_type": "stream",
     "text": [
      "Classification Report : \n",
      "               precision    recall  f1-score   support\n",
      "\n",
      "       False       0.99      1.00      0.99      8264\n",
      "        True       1.00      0.99      0.99      8264\n",
      "\n",
      "    accuracy                           0.99     16528\n",
      "   macro avg       0.99      0.99      0.99     16528\n",
      "weighted avg       0.99      0.99      0.99     16528\n",
      " \n",
      "\n",
      "Classification Report : \n",
      "               precision    recall  f1-score   support\n",
      "\n",
      "       False       0.93      0.94      0.94      2032\n",
      "        True       0.69      0.66      0.68       409\n",
      "\n",
      "    accuracy                           0.89      2441\n",
      "   macro avg       0.81      0.80      0.81      2441\n",
      "weighted avg       0.89      0.89      0.89      2441\n",
      " \n",
      "\n"
     ]
    }
   ],
   "source": [
    "y_pred_train_2 = best_rf_2.predict(X_train_balanced)\n",
    "y_pred_test_2 = best_rf_2.predict(X_test_final)\n",
    "\n",
    "print('Classification Report : \\n', classification_report(y_train_balanced, y_pred_train_2), '\\n')\n",
    "print('Classification Report : \\n', classification_report(y_test, y_pred_test_2), '\\n')"
   ]
  },
  {
   "cell_type": "markdown",
   "metadata": {},
   "source": [
    "Berdasarkan hasil diatas, untuk model train bisa tergolong terlalu bagus atau terlalu sempurna dengan nilai accuracy full 100% sementara untuk test set sendiri memiliki nilai accuracy 89% dimana model masih bisa tergolong overfit. tetapi model ini memiliki recall score dan f1 score terbaik jika dibandingkan dengan semua model lainnya dimana itu memberitahukan bahwa false negative dari data ini berjumlah paling sedikit tetapi nilai precision dari data ini memiliki score terendah jika dibandingkan dengan model lain dimana hal ini mengindikasikan bahwa false positive dari model ini memiliki jumlah terbanyak. "
   ]
  },
  {
   "cell_type": "markdown",
   "metadata": {},
   "source": [
    "Dari ketiga model ini, maka diambil keputusan bahwa model terakhir yang akan digunakan adalah model dengan nomor 2 atau model yang telah dilaksanakan SMOTENC. Setelah memilih model makan langkah selanjutnya adalah menentukan ciri-ciri dari prediksi yang salah seperti false positive dan false negative."
   ]
  },
  {
   "cell_type": "code",
   "execution_count": 76,
   "metadata": {},
   "outputs": [],
   "source": [
    "X_test_1 = X_test.copy()\n",
    "X_test_1['Revenue'] = y_test"
   ]
  },
  {
   "cell_type": "code",
   "execution_count": 77,
   "metadata": {},
   "outputs": [],
   "source": [
    "X_test_1['Prediction'] = y_pred_test_2"
   ]
  },
  {
   "cell_type": "code",
   "execution_count": 78,
   "metadata": {},
   "outputs": [
    {
     "data": {
      "text/html": [
       "<div>\n",
       "<style scoped>\n",
       "    .dataframe tbody tr th:only-of-type {\n",
       "        vertical-align: middle;\n",
       "    }\n",
       "\n",
       "    .dataframe tbody tr th {\n",
       "        vertical-align: top;\n",
       "    }\n",
       "\n",
       "    .dataframe thead th {\n",
       "        text-align: right;\n",
       "    }\n",
       "</style>\n",
       "<table border=\"1\" class=\"dataframe\">\n",
       "  <thead>\n",
       "    <tr style=\"text-align: right;\">\n",
       "      <th></th>\n",
       "      <th>Administrative</th>\n",
       "      <th>Administrative_Duration</th>\n",
       "      <th>Informational</th>\n",
       "      <th>Informational_Duration</th>\n",
       "      <th>ProductRelated</th>\n",
       "      <th>ProductRelated_Duration</th>\n",
       "      <th>BounceRates</th>\n",
       "      <th>ExitRates</th>\n",
       "      <th>PageValues</th>\n",
       "      <th>SpecialDay</th>\n",
       "      <th>Month</th>\n",
       "      <th>OperatingSystems</th>\n",
       "      <th>Browser</th>\n",
       "      <th>Region</th>\n",
       "      <th>TrafficType</th>\n",
       "      <th>VisitorType</th>\n",
       "      <th>Weekend</th>\n",
       "      <th>Revenue</th>\n",
       "      <th>Prediction</th>\n",
       "    </tr>\n",
       "  </thead>\n",
       "  <tbody>\n",
       "    <tr>\n",
       "      <th>2981</th>\n",
       "      <td>3</td>\n",
       "      <td>49.750</td>\n",
       "      <td>0</td>\n",
       "      <td>0.000000</td>\n",
       "      <td>59</td>\n",
       "      <td>754.226191</td>\n",
       "      <td>0.000000</td>\n",
       "      <td>0.003333</td>\n",
       "      <td>0.000000</td>\n",
       "      <td>0.0</td>\n",
       "      <td>May</td>\n",
       "      <td>3</td>\n",
       "      <td>2</td>\n",
       "      <td>7</td>\n",
       "      <td>11</td>\n",
       "      <td>New_Visitor</td>\n",
       "      <td>False</td>\n",
       "      <td>False</td>\n",
       "      <td>False</td>\n",
       "    </tr>\n",
       "    <tr>\n",
       "      <th>8889</th>\n",
       "      <td>0</td>\n",
       "      <td>0.000</td>\n",
       "      <td>0</td>\n",
       "      <td>0.000000</td>\n",
       "      <td>1</td>\n",
       "      <td>0.000000</td>\n",
       "      <td>0.200000</td>\n",
       "      <td>0.200000</td>\n",
       "      <td>0.000000</td>\n",
       "      <td>0.0</td>\n",
       "      <td>Nov</td>\n",
       "      <td>1</td>\n",
       "      <td>1</td>\n",
       "      <td>1</td>\n",
       "      <td>1</td>\n",
       "      <td>Other</td>\n",
       "      <td>False</td>\n",
       "      <td>False</td>\n",
       "      <td>False</td>\n",
       "    </tr>\n",
       "    <tr>\n",
       "      <th>3528</th>\n",
       "      <td>0</td>\n",
       "      <td>0.000</td>\n",
       "      <td>1</td>\n",
       "      <td>134.333333</td>\n",
       "      <td>16</td>\n",
       "      <td>765.445454</td>\n",
       "      <td>0.006667</td>\n",
       "      <td>0.006000</td>\n",
       "      <td>0.000000</td>\n",
       "      <td>0.8</td>\n",
       "      <td>May</td>\n",
       "      <td>2</td>\n",
       "      <td>10</td>\n",
       "      <td>1</td>\n",
       "      <td>1</td>\n",
       "      <td>Returning_Visitor</td>\n",
       "      <td>False</td>\n",
       "      <td>False</td>\n",
       "      <td>False</td>\n",
       "    </tr>\n",
       "    <tr>\n",
       "      <th>9985</th>\n",
       "      <td>2</td>\n",
       "      <td>67.500</td>\n",
       "      <td>0</td>\n",
       "      <td>0.000000</td>\n",
       "      <td>7</td>\n",
       "      <td>393.500000</td>\n",
       "      <td>0.000000</td>\n",
       "      <td>0.025000</td>\n",
       "      <td>0.000000</td>\n",
       "      <td>0.0</td>\n",
       "      <td>Dec</td>\n",
       "      <td>2</td>\n",
       "      <td>2</td>\n",
       "      <td>1</td>\n",
       "      <td>2</td>\n",
       "      <td>New_Visitor</td>\n",
       "      <td>False</td>\n",
       "      <td>False</td>\n",
       "      <td>False</td>\n",
       "    </tr>\n",
       "    <tr>\n",
       "      <th>3855</th>\n",
       "      <td>1</td>\n",
       "      <td>9.000</td>\n",
       "      <td>0</td>\n",
       "      <td>0.000000</td>\n",
       "      <td>111</td>\n",
       "      <td>2451.869048</td>\n",
       "      <td>0.000000</td>\n",
       "      <td>0.015776</td>\n",
       "      <td>2.797415</td>\n",
       "      <td>0.4</td>\n",
       "      <td>May</td>\n",
       "      <td>2</td>\n",
       "      <td>2</td>\n",
       "      <td>8</td>\n",
       "      <td>3</td>\n",
       "      <td>Returning_Visitor</td>\n",
       "      <td>False</td>\n",
       "      <td>True</td>\n",
       "      <td>False</td>\n",
       "    </tr>\n",
       "    <tr>\n",
       "      <th>...</th>\n",
       "      <td>...</td>\n",
       "      <td>...</td>\n",
       "      <td>...</td>\n",
       "      <td>...</td>\n",
       "      <td>...</td>\n",
       "      <td>...</td>\n",
       "      <td>...</td>\n",
       "      <td>...</td>\n",
       "      <td>...</td>\n",
       "      <td>...</td>\n",
       "      <td>...</td>\n",
       "      <td>...</td>\n",
       "      <td>...</td>\n",
       "      <td>...</td>\n",
       "      <td>...</td>\n",
       "      <td>...</td>\n",
       "      <td>...</td>\n",
       "      <td>...</td>\n",
       "      <td>...</td>\n",
       "    </tr>\n",
       "    <tr>\n",
       "      <th>6997</th>\n",
       "      <td>0</td>\n",
       "      <td>0.000</td>\n",
       "      <td>0</td>\n",
       "      <td>0.000000</td>\n",
       "      <td>54</td>\n",
       "      <td>4749.250000</td>\n",
       "      <td>0.004938</td>\n",
       "      <td>0.029938</td>\n",
       "      <td>8.285119</td>\n",
       "      <td>0.0</td>\n",
       "      <td>Oct</td>\n",
       "      <td>2</td>\n",
       "      <td>2</td>\n",
       "      <td>8</td>\n",
       "      <td>1</td>\n",
       "      <td>Returning_Visitor</td>\n",
       "      <td>True</td>\n",
       "      <td>True</td>\n",
       "      <td>False</td>\n",
       "    </tr>\n",
       "    <tr>\n",
       "      <th>4510</th>\n",
       "      <td>0</td>\n",
       "      <td>0.000</td>\n",
       "      <td>0</td>\n",
       "      <td>0.000000</td>\n",
       "      <td>9</td>\n",
       "      <td>87.500000</td>\n",
       "      <td>0.000000</td>\n",
       "      <td>0.033333</td>\n",
       "      <td>0.000000</td>\n",
       "      <td>0.0</td>\n",
       "      <td>May</td>\n",
       "      <td>2</td>\n",
       "      <td>2</td>\n",
       "      <td>2</td>\n",
       "      <td>4</td>\n",
       "      <td>Returning_Visitor</td>\n",
       "      <td>False</td>\n",
       "      <td>False</td>\n",
       "      <td>False</td>\n",
       "    </tr>\n",
       "    <tr>\n",
       "      <th>5577</th>\n",
       "      <td>0</td>\n",
       "      <td>0.000</td>\n",
       "      <td>0</td>\n",
       "      <td>0.000000</td>\n",
       "      <td>45</td>\n",
       "      <td>2347.333333</td>\n",
       "      <td>0.004545</td>\n",
       "      <td>0.015909</td>\n",
       "      <td>0.000000</td>\n",
       "      <td>0.0</td>\n",
       "      <td>Nov</td>\n",
       "      <td>2</td>\n",
       "      <td>4</td>\n",
       "      <td>1</td>\n",
       "      <td>1</td>\n",
       "      <td>Returning_Visitor</td>\n",
       "      <td>False</td>\n",
       "      <td>False</td>\n",
       "      <td>False</td>\n",
       "    </tr>\n",
       "    <tr>\n",
       "      <th>4212</th>\n",
       "      <td>0</td>\n",
       "      <td>0.000</td>\n",
       "      <td>0</td>\n",
       "      <td>0.000000</td>\n",
       "      <td>19</td>\n",
       "      <td>989.333333</td>\n",
       "      <td>0.000000</td>\n",
       "      <td>0.011111</td>\n",
       "      <td>25.109000</td>\n",
       "      <td>0.0</td>\n",
       "      <td>May</td>\n",
       "      <td>3</td>\n",
       "      <td>2</td>\n",
       "      <td>1</td>\n",
       "      <td>2</td>\n",
       "      <td>New_Visitor</td>\n",
       "      <td>True</td>\n",
       "      <td>True</td>\n",
       "      <td>True</td>\n",
       "    </tr>\n",
       "    <tr>\n",
       "      <th>11322</th>\n",
       "      <td>8</td>\n",
       "      <td>46.875</td>\n",
       "      <td>3</td>\n",
       "      <td>10.000000</td>\n",
       "      <td>111</td>\n",
       "      <td>5358.375439</td>\n",
       "      <td>0.000000</td>\n",
       "      <td>0.011958</td>\n",
       "      <td>10.217712</td>\n",
       "      <td>0.0</td>\n",
       "      <td>Nov</td>\n",
       "      <td>2</td>\n",
       "      <td>2</td>\n",
       "      <td>1</td>\n",
       "      <td>11</td>\n",
       "      <td>Returning_Visitor</td>\n",
       "      <td>False</td>\n",
       "      <td>True</td>\n",
       "      <td>True</td>\n",
       "    </tr>\n",
       "  </tbody>\n",
       "</table>\n",
       "<p>2441 rows × 19 columns</p>\n",
       "</div>"
      ],
      "text/plain": [
       "       Administrative  Administrative_Duration  Informational  \\\n",
       "2981                3                   49.750              0   \n",
       "8889                0                    0.000              0   \n",
       "3528                0                    0.000              1   \n",
       "9985                2                   67.500              0   \n",
       "3855                1                    9.000              0   \n",
       "...               ...                      ...            ...   \n",
       "6997                0                    0.000              0   \n",
       "4510                0                    0.000              0   \n",
       "5577                0                    0.000              0   \n",
       "4212                0                    0.000              0   \n",
       "11322               8                   46.875              3   \n",
       "\n",
       "       Informational_Duration  ProductRelated  ProductRelated_Duration  \\\n",
       "2981                 0.000000              59               754.226191   \n",
       "8889                 0.000000               1                 0.000000   \n",
       "3528               134.333333              16               765.445454   \n",
       "9985                 0.000000               7               393.500000   \n",
       "3855                 0.000000             111              2451.869048   \n",
       "...                       ...             ...                      ...   \n",
       "6997                 0.000000              54              4749.250000   \n",
       "4510                 0.000000               9                87.500000   \n",
       "5577                 0.000000              45              2347.333333   \n",
       "4212                 0.000000              19               989.333333   \n",
       "11322               10.000000             111              5358.375439   \n",
       "\n",
       "       BounceRates  ExitRates  PageValues  SpecialDay Month  OperatingSystems  \\\n",
       "2981      0.000000   0.003333    0.000000         0.0   May                 3   \n",
       "8889      0.200000   0.200000    0.000000         0.0   Nov                 1   \n",
       "3528      0.006667   0.006000    0.000000         0.8   May                 2   \n",
       "9985      0.000000   0.025000    0.000000         0.0   Dec                 2   \n",
       "3855      0.000000   0.015776    2.797415         0.4   May                 2   \n",
       "...            ...        ...         ...         ...   ...               ...   \n",
       "6997      0.004938   0.029938    8.285119         0.0   Oct                 2   \n",
       "4510      0.000000   0.033333    0.000000         0.0   May                 2   \n",
       "5577      0.004545   0.015909    0.000000         0.0   Nov                 2   \n",
       "4212      0.000000   0.011111   25.109000         0.0   May                 3   \n",
       "11322     0.000000   0.011958   10.217712         0.0   Nov                 2   \n",
       "\n",
       "       Browser  Region  TrafficType        VisitorType  Weekend  Revenue  \\\n",
       "2981         2       7           11        New_Visitor    False    False   \n",
       "8889         1       1            1              Other    False    False   \n",
       "3528        10       1            1  Returning_Visitor    False    False   \n",
       "9985         2       1            2        New_Visitor    False    False   \n",
       "3855         2       8            3  Returning_Visitor    False     True   \n",
       "...        ...     ...          ...                ...      ...      ...   \n",
       "6997         2       8            1  Returning_Visitor     True     True   \n",
       "4510         2       2            4  Returning_Visitor    False    False   \n",
       "5577         4       1            1  Returning_Visitor    False    False   \n",
       "4212         2       1            2        New_Visitor     True     True   \n",
       "11322        2       1           11  Returning_Visitor    False     True   \n",
       "\n",
       "       Prediction  \n",
       "2981        False  \n",
       "8889        False  \n",
       "3528        False  \n",
       "9985        False  \n",
       "3855        False  \n",
       "...           ...  \n",
       "6997        False  \n",
       "4510        False  \n",
       "5577        False  \n",
       "4212         True  \n",
       "11322        True  \n",
       "\n",
       "[2441 rows x 19 columns]"
      ]
     },
     "execution_count": 78,
     "metadata": {},
     "output_type": "execute_result"
    }
   ],
   "source": [
    "X_test_1"
   ]
  },
  {
   "cell_type": "code",
   "execution_count": 79,
   "metadata": {},
   "outputs": [
    {
     "data": {
      "text/plain": [
       "Administrative               1.901725\n",
       "Administrative_Duration     67.536827\n",
       "Informational                0.404077\n",
       "Informational_Duration      26.926522\n",
       "ProductRelated              26.726607\n",
       "ProductRelated_Duration    983.015518\n",
       "BounceRates                  0.024581\n",
       "ExitRates                    0.047572\n",
       "PageValues                   0.720781\n",
       "SpecialDay                   0.073706\n",
       "OperatingSystems             2.198641\n",
       "Browser                      2.350235\n",
       "Region                       3.099843\n",
       "TrafficType                  4.055410\n",
       "Weekend                      0.227392\n",
       "Revenue                      0.000000\n",
       "Prediction                   0.000000\n",
       "dtype: float64"
      ]
     },
     "execution_count": 79,
     "metadata": {},
     "output_type": "execute_result"
    }
   ],
   "source": [
    "True_negative = X_test_1[(X_test_1['Revenue'] == 0 ) & (X_test_1['Prediction'] == 0)]\n",
    "True_negative.select_dtypes(exclude='object').mean()"
   ]
  },
  {
   "cell_type": "code",
   "execution_count": 80,
   "metadata": {},
   "outputs": [
    {
     "data": {
      "text/plain": [
       "Administrative                3.347826\n",
       "Administrative_Duration     116.912186\n",
       "Informational                 0.818841\n",
       "Informational_Duration       77.259693\n",
       "ProductRelated               51.057971\n",
       "ProductRelated_Duration    1983.673838\n",
       "BounceRates                   0.009845\n",
       "ExitRates                     0.029519\n",
       "PageValues                    6.373004\n",
       "SpecialDay                    0.014493\n",
       "OperatingSystems              1.992754\n",
       "Browser                       2.507246\n",
       "Region                        3.007246\n",
       "TrafficType                   3.905797\n",
       "Weekend                       0.304348\n",
       "Revenue                       1.000000\n",
       "Prediction                    0.000000\n",
       "dtype: float64"
      ]
     },
     "execution_count": 80,
     "metadata": {},
     "output_type": "execute_result"
    }
   ],
   "source": [
    "False_negative = X_test_1[(X_test_1['Revenue'] == 1 ) & (X_test_1['Prediction'] == 0)]\n",
    "False_negative.select_dtypes(exclude='object').mean()\n"
   ]
  },
  {
   "cell_type": "markdown",
   "metadata": {},
   "source": [
    "Berdasarkan persebaran data diatas, salah satu faktor yang menyebabkan terjadinya false negative adalah rendahnya nilai page values dimana nilai page values dari kategori false negative yaitu 5.5 dianggap mendekati dengan nilai page values di kategori true negative yaitu 0.5. Lalu faktor lain yang mempengaruhi adalah tingginya nilai bounce rates yaitu 0.02 dimana membuat model mengklasifikasikan sebagai hasil negative dan mendekati hasil true negative yaitu 0.01 yang menyebabkan model memprediksi bahwa pengunjung tersebut tidak membeli yang seharusnya pengunjung tersebut berhasil melakukan pembelian. "
   ]
  },
  {
   "cell_type": "code",
   "execution_count": 81,
   "metadata": {},
   "outputs": [
    {
     "data": {
      "text/plain": [
       "Administrative                3.284133\n",
       "Administrative_Duration     116.402493\n",
       "Informational                 0.856089\n",
       "Informational_Duration       61.186305\n",
       "ProductRelated               46.660517\n",
       "ProductRelated_Duration    1816.766139\n",
       "BounceRates                   0.002683\n",
       "ExitRates                     0.015779\n",
       "PageValues                   35.179911\n",
       "SpecialDay                    0.022140\n",
       "OperatingSystems              2.132841\n",
       "Browser                       2.442804\n",
       "Region                        3.029520\n",
       "TrafficType                   3.959410\n",
       "Weekend                       0.265683\n",
       "Revenue                       1.000000\n",
       "Prediction                    1.000000\n",
       "dtype: float64"
      ]
     },
     "execution_count": 81,
     "metadata": {},
     "output_type": "execute_result"
    }
   ],
   "source": [
    "True_positive = X_test_1[(X_test_1['Revenue'] == 1 ) & (X_test_1['Prediction'] == 1)]\n",
    "True_positive.select_dtypes(exclude='object').mean()"
   ]
  },
  {
   "cell_type": "code",
   "execution_count": 82,
   "metadata": {},
   "outputs": [
    {
     "data": {
      "text/plain": [
       "Administrative                5.344538\n",
       "Administrative_Duration     163.136896\n",
       "Informational                 1.084034\n",
       "Informational_Duration       78.281909\n",
       "ProductRelated               69.285714\n",
       "ProductRelated_Duration    2632.700168\n",
       "BounceRates                   0.003871\n",
       "ExitRates                     0.017309\n",
       "PageValues                   20.441646\n",
       "SpecialDay                    0.011765\n",
       "OperatingSystems              2.117647\n",
       "Browser                       2.478992\n",
       "Region                        3.075630\n",
       "TrafficType                   3.630252\n",
       "Weekend                       0.210084\n",
       "Revenue                       0.000000\n",
       "Prediction                    1.000000\n",
       "dtype: float64"
      ]
     },
     "execution_count": 82,
     "metadata": {},
     "output_type": "execute_result"
    }
   ],
   "source": [
    "False_positive = X_test_1[(X_test_1['Revenue'] == 0 ) & (X_test_1['Prediction'] == 1)]\n",
    "False_positive.select_dtypes(exclude='object').mean()"
   ]
  },
  {
   "cell_type": "markdown",
   "metadata": {},
   "source": [
    "Berdasarkan faktor diatas, faktor yang menyebabkan terjadinya kesalahan dalam memprediksi adalah dengan nilai bounce rates yang sangat rendah dimana nilai nya mencapai 0.004, nilai itu mendekati dengan nilai bounce rates true positive yaitu 0.003. Faktor lain yang menyebabkan terjadinya kesalahan memprediksi adalah di column Page Values dimana hasil dari kategori false positive ini menghasilkan nilai 20 dimana hasil itu mendekati dengan hasil true positive yaitu 35 dimana hal itu menyebabkan terjadinya kesalahan dalam memprediksi"
   ]
  },
  {
   "cell_type": "markdown",
   "metadata": {},
   "source": [
    "### Kesimpulan Model"
   ]
  },
  {
   "cell_type": "markdown",
   "metadata": {},
   "source": [
    "Secara Keseluruhan, Akurasi dari model sudah tergolong tinggi yaitu mendapatkan score 89% di test set dan 100% di train set. Tetapi hasil ini masih tergolong overfit dikarenakan selisih yang tinggi antara train dan test yaitu 11%. Kelebihan dari model ini adalah nilai precision, recall dan f1 score yang tergolong konsissten maka hasil prediksi di test lebih konsisten. Tetapi kelemahan dari model ini adalah kesulitannya untuk memprediksi ciri-ciri orang yang akan melakukan pembelian hal ini juga dapat ditemukan di model-model lain dan hal ini dikarenakan jumlah kelas yang tidak seimbang dimana lebih banyak pengunjung yang tidak membeli dibandingkan pengunjung yang membeli. Setelah dilakukan oversampling juga masih memiliki hasil yang mirip dengan tanpa dilakukan over sampling, maka ada faktor lain diluar data yang menyebabkan kesulitan model dalam memprediksi hasil pengunjung yang membeli di test set dan bisa juga dikarenakan perlunya data yang lebih banyak supaya lebih bisa secara akurat memprediksi hasil yang diinginkan."
   ]
  },
  {
   "cell_type": "markdown",
   "metadata": {},
   "source": [
    "# Model Saving"
   ]
  },
  {
   "cell_type": "code",
   "execution_count": 83,
   "metadata": {},
   "outputs": [],
   "source": [
    "import pickle\n",
    "with open('preprocess_pipeline.pkl','wb') as file_1:\n",
    "  pickle.dump(preprocess_pipeline, file_1)\n",
    "\n",
    "with open('best_rf_2.pkl','wb') as file_2:\n",
    "  pickle.dump(best_rf_2, file_2)"
   ]
  },
  {
   "cell_type": "markdown",
   "metadata": {},
   "source": [
    "# Model Inference"
   ]
  },
  {
   "cell_type": "markdown",
   "metadata": {},
   "source": [
    "Model inference berhasil dilakukan di file Online_Shoppers_Inference.ipynb"
   ]
  },
  {
   "cell_type": "markdown",
   "metadata": {},
   "source": [
    "# Conclusion"
   ]
  },
  {
   "cell_type": "markdown",
   "metadata": {},
   "source": [
    "Untuk menyimpulkan proses machine learning ini,\n",
    "\n",
    "Dalam bagian EDA, Terlihat bahwa dari jumlah pengunjung lebih banyak pengunjung yang memutuskan untuk tidak membeli daripada pengunjung yang membeli dimana perbandingannya terdapat 84.5% untuk pengunjung yang tidak membeli dan sebanyak 14.5% pengunjung yang membeli dari sebanyak 12,330 pengunjung dalam 10 bulan, dari jumlah itu lebih banyak pengunjung yang sebelumnya sudah pernah mengunjungi website H8 dibandingkan pengunjung yang baru. Ini menunjukan bahwa, website H8 memiliki kemampuan yang baik dalam membuat pengunjung untuk mengunjungi lagi website H8 tetapi website H8 memiliki kelemahan dimana kebanyakan pengunjung lama ini pada akhirnya tidak membuat pembelian. Di sisi lain, pengunjung baru yang mengunjungi website H8, sebanyak 25% dari jumlah pengunjung baru berhasil melakukan pembelian dimana hal ini menunjukan bahwa website H8 memiliki conversion rate yang bagus untuk pengunjung baru tetapi kurang efektif untuk pengunjung lama. Lalu faktor lain yang berpengaruh terhadap proses transaksi adalah metric lain seperti page values dan bounce rates. Semakin tinggi sebuah Page values maka semakin tinggi juga Kemungkinan seseorang membuat pembelian dan sebaliknya semakin rendah bounce rates semakin menambah kemungkinan sesorang membuat pembelian."
   ]
  },
  {
   "cell_type": "markdown",
   "metadata": {},
   "source": [
    "Dalam bagian model nya sendiri, dengan menggunakan model random forest dan berbagai proses hyper parameter tuning serta mengetes menggunakan data yang dikurangi dimensinya serta dengan proses oversampling ditemukan bahwa Secara keseluruhan, model memiliki tingkat akurasi yang tinggi dengan mencapai skor 89% di set pengujian (test set) dan 100% di set pelatihan (train set). Namun, terdapat tanda-tanda overfitting karena perbedaan yang signifikan antara akurasi pada train set dan test set, yakni sebesar 11%. Kelebihan dari model ini adalah konsistensi dalam nilai precision, recall, dan f1 score, yang menghasilkan prediksi yang stabil di set pengujian. Namun, model ini memiliki kelemahan dalam memprediksi ciri-ciri orang yang akan melakukan pembelian, sebuah masalah yang juga dapat ditemui pada model lain. Ini disebabkan oleh ketidakseimbangan jumlah kelas, di mana jumlah pengunjung yang tidak melakukan pembelian jauh lebih banyak daripada yang melakukan pembelian.\n",
    "\n",
    "Meskipun telah dilakukan oversampling, hasilnya tetap mirip dengan ketika tidak ada oversampling yang dilakukan. Ini mengindikasikan bahwa terdapat faktor-faktor lain di luar data yang menyebabkan kesulitan model dalam memprediksi hasil pengunjung yang melakukan pembelian pada set pengujian. Selain itu, perlunya data tambahan yang lebih besar mungkin diperlukan untuk meningkatkan kemampuan model dalam memprediksi hasil dengan lebih akurat. "
   ]
  },
  {
   "cell_type": "markdown",
   "metadata": {},
   "source": [
    "Dalam perihal Bisnis, Perusahaan H8 harus mencari proses atau promosi lainnya untuk menarik pengunjung lama agara pada akhirnya mereka jadi lebih mau untuk melaksanakan pembelian di website H8, contoh promosi bisa seperti pembuatan membership, diskon, dan promosi melalui influencer, dll. Mereka juga harus meningkatkan promosi dalam menarik pengunjung baru karena conversion rate untuk pengunjung baru sudah tergolong bagus karena bisa membuat 25% dari total pengunjung baru untuk melakukan pembelian maka hal itu bisa dimanfaatkan oleh H8 untuk mereka agar menarik lebih banyak pengunjung baru lagi dengan promosi melalu social media, promosi secara fisik, dll."
   ]
  }
 ],
 "metadata": {
  "kernelspec": {
   "display_name": "base",
   "language": "python",
   "name": "python3"
  },
  "language_info": {
   "codemirror_mode": {
    "name": "ipython",
    "version": 3
   },
   "file_extension": ".py",
   "mimetype": "text/x-python",
   "name": "python",
   "nbconvert_exporter": "python",
   "pygments_lexer": "ipython3",
   "version": "3.9.17"
  },
  "orig_nbformat": 4
 },
 "nbformat": 4,
 "nbformat_minor": 2
}
